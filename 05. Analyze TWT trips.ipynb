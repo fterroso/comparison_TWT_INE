{
 "cells": [
  {
   "cell_type": "code",
   "execution_count": 1,
   "metadata": {},
   "outputs": [
    {
     "name": "stderr",
     "output_type": "stream",
     "text": [
      "/home/fterroso/python/lib/python3.6/site-packages/geopandas/_compat.py:88: UserWarning: The Shapely GEOS version (3.8.0-CAPI-1.13.1 ) is incompatible with the GEOS version PyGEOS was compiled with (3.8.1-CAPI-1.13.3). Conversions between both will be slow.\n",
      "  shapely_geos_version, geos_capi_version_string\n",
      "/home/fterroso/python/lib/python3.6/site-packages/statsmodels/tools/_testing.py:19: FutureWarning: pandas.util.testing is deprecated. Use the functions in the public API at pandas.testing instead.\n",
      "  import pandas.util.testing as tm\n"
     ]
    }
   ],
   "source": [
    "import pandas as pd\n",
    "import numpy as np\n",
    "import geopandas as gpd\n",
    "\n",
    "import os\n",
    "\n",
    "import seaborn as sns\n",
    "\n",
    "import matplotlib.pyplot as plt\n",
    "%matplotlib inline\n",
    "\n",
    "data_path = ''"
   ]
  },
  {
   "cell_type": "code",
   "execution_count": 2,
   "metadata": {},
   "outputs": [],
   "source": [
    "def read_twt_trips_enriched_fn():\n",
    "    trips_df = pd.read_csv(os.path.join('data', 'trips_enriched.csv'), index_col=0, parse_dates='timestamp_o timestamp_d'.split())\n",
    "    trips_df['time_duration'] = trips_df['timestamp_d'] - trips_df['timestamp_o']\n",
    "    trips_df['time_duration_in_h'] = trips_df['time_duration'].apply(lambda x: round(x.seconds/3600,2))\n",
    "    trips_df = trips_df[trips_df['time_duration_in_h']>0]\n",
    "    trips_df['speed_km_h'] = trips_df['dist_km'] / trips_df['time_duration_in_h']\n",
    "    return trips_df"
   ]
  },
  {
   "cell_type": "code",
   "execution_count": 3,
   "metadata": {},
   "outputs": [],
   "source": [
    "trips_df = read_twt_trips_enriched_fn()"
   ]
  },
  {
   "cell_type": "code",
   "execution_count": 4,
   "metadata": {
    "scrolled": true
   },
   "outputs": [
    {
     "data": {
      "text/html": [
       "<div>\n",
       "<style scoped>\n",
       "    .dataframe tbody tr th:only-of-type {\n",
       "        vertical-align: middle;\n",
       "    }\n",
       "\n",
       "    .dataframe tbody tr th {\n",
       "        vertical-align: top;\n",
       "    }\n",
       "\n",
       "    .dataframe thead th {\n",
       "        text-align: right;\n",
       "    }\n",
       "</style>\n",
       "<table border=\"1\" class=\"dataframe\">\n",
       "  <thead>\n",
       "    <tr style=\"text-align: right;\">\n",
       "      <th></th>\n",
       "      <th>user_id</th>\n",
       "      <th>tw_id_o</th>\n",
       "      <th>timestamp_o</th>\n",
       "      <th>CPRO_o</th>\n",
       "      <th>NPRO_O</th>\n",
       "      <th>CGRUPO_o</th>\n",
       "      <th>NGRUPO_o</th>\n",
       "      <th>POB_GRUPO_o</th>\n",
       "      <th>geom_o</th>\n",
       "      <th>tw_id_d</th>\n",
       "      <th>...</th>\n",
       "      <th>NPRO_d</th>\n",
       "      <th>CGRUPO_d</th>\n",
       "      <th>NGRUPO_d</th>\n",
       "      <th>POB_GRUPO_d</th>\n",
       "      <th>geom_d</th>\n",
       "      <th>time_duration</th>\n",
       "      <th>geom</th>\n",
       "      <th>dist_km</th>\n",
       "      <th>time_duration_in_h</th>\n",
       "      <th>speed_km_h</th>\n",
       "    </tr>\n",
       "  </thead>\n",
       "  <tbody>\n",
       "    <tr>\n",
       "      <th>0</th>\n",
       "      <td>1258006388</td>\n",
       "      <td>1242014584019529728</td>\n",
       "      <td>2020-03-23 09:05:27+00:00</td>\n",
       "      <td>41</td>\n",
       "      <td>Sevilla</td>\n",
       "      <td>084S</td>\n",
       "      <td>Sevilla (SCD Number 4-A)</td>\n",
       "      <td>18.048</td>\n",
       "      <td>POINT (241155.7030033822 4141397.433281829)</td>\n",
       "      <td>1242190058716835842</td>\n",
       "      <td>...</td>\n",
       "      <td>Sevilla</td>\n",
       "      <td>025S</td>\n",
       "      <td>Alcalá del Río</td>\n",
       "      <td>12.029</td>\n",
       "      <td>POINT (238412.4162063967 4160382.205794079)</td>\n",
       "      <td>0 days 11:37:16</td>\n",
       "      <td>LINESTRING (241155.7030033822 4141397.43328182...</td>\n",
       "      <td>19.181950</td>\n",
       "      <td>11.62</td>\n",
       "      <td>1.650770</td>\n",
       "    </tr>\n",
       "    <tr>\n",
       "      <th>1</th>\n",
       "      <td>1258006388</td>\n",
       "      <td>1242190058716835842</td>\n",
       "      <td>2020-03-23 20:42:43+00:00</td>\n",
       "      <td>41</td>\n",
       "      <td>Sevilla</td>\n",
       "      <td>025S</td>\n",
       "      <td>Alcalá del Río</td>\n",
       "      <td>12.029</td>\n",
       "      <td>POINT (238412.4162063967 4160382.205794079)</td>\n",
       "      <td>1242239109504151564</td>\n",
       "      <td>...</td>\n",
       "      <td>Sevilla</td>\n",
       "      <td>084S</td>\n",
       "      <td>Sevilla (SCD Number 4-A)</td>\n",
       "      <td>18.048</td>\n",
       "      <td>POINT (241155.7030033822 4141397.433281829)</td>\n",
       "      <td>0 days 03:14:55</td>\n",
       "      <td>LINESTRING (238412.4162063967 4160382.20579407...</td>\n",
       "      <td>19.181950</td>\n",
       "      <td>3.25</td>\n",
       "      <td>5.902138</td>\n",
       "    </tr>\n",
       "    <tr>\n",
       "      <th>2</th>\n",
       "      <td>231380112</td>\n",
       "      <td>1241989424113684481</td>\n",
       "      <td>2020-03-23 07:25:28+00:00</td>\n",
       "      <td>17</td>\n",
       "      <td>Girona</td>\n",
       "      <td>25GI</td>\n",
       "      <td>Besalú y otros municipios</td>\n",
       "      <td>5.231</td>\n",
       "      <td>POINT (970453.5231286159 4687892.360277078)</td>\n",
       "      <td>1242064620078104578</td>\n",
       "      <td>...</td>\n",
       "      <td>Girona</td>\n",
       "      <td>37GI</td>\n",
       "      <td>Banyoles</td>\n",
       "      <td>19.826</td>\n",
       "      <td>POINT (977549.3669210005 4679816.684196526)</td>\n",
       "      <td>0 days 04:58:48</td>\n",
       "      <td>LINESTRING (970453.5231286159 4687892.36027707...</td>\n",
       "      <td>10.750235</td>\n",
       "      <td>4.98</td>\n",
       "      <td>2.158682</td>\n",
       "    </tr>\n",
       "    <tr>\n",
       "      <th>3</th>\n",
       "      <td>231380112</td>\n",
       "      <td>1242070404300226574</td>\n",
       "      <td>2020-03-23 12:47:15+00:00</td>\n",
       "      <td>17</td>\n",
       "      <td>Girona</td>\n",
       "      <td>37GI</td>\n",
       "      <td>Banyoles</td>\n",
       "      <td>19.826</td>\n",
       "      <td>POINT (977549.3669210005 4679816.684196526)</td>\n",
       "      <td>1242155003655196674</td>\n",
       "      <td>...</td>\n",
       "      <td>Girona</td>\n",
       "      <td>25GI</td>\n",
       "      <td>Besalú y otros municipios</td>\n",
       "      <td>5.231</td>\n",
       "      <td>POINT (970453.5231286159 4687892.360277078)</td>\n",
       "      <td>0 days 05:36:10</td>\n",
       "      <td>LINESTRING (977549.3669210005 4679816.68419652...</td>\n",
       "      <td>10.750235</td>\n",
       "      <td>5.60</td>\n",
       "      <td>1.919685</td>\n",
       "    </tr>\n",
       "    <tr>\n",
       "      <th>4</th>\n",
       "      <td>1201548956</td>\n",
       "      <td>1242065686043688967</td>\n",
       "      <td>2020-03-23 12:28:30+00:00</td>\n",
       "      <td>8</td>\n",
       "      <td>Barcelona</td>\n",
       "      <td>097B</td>\n",
       "      <td>Parets del Vallès</td>\n",
       "      <td>19.082</td>\n",
       "      <td>POINT (936126.6582087477 4614643.045649199)</td>\n",
       "      <td>1242078693377409025</td>\n",
       "      <td>...</td>\n",
       "      <td>Barcelona</td>\n",
       "      <td>030B</td>\n",
       "      <td>Castellterçol y otros municipios</td>\n",
       "      <td>6.165</td>\n",
       "      <td>POINT (921480.9852253482 4635413.947512716)</td>\n",
       "      <td>0 days 00:51:41</td>\n",
       "      <td>LINESTRING (936126.6582087477 4614643.04564919...</td>\n",
       "      <td>25.415076</td>\n",
       "      <td>0.86</td>\n",
       "      <td>29.552414</td>\n",
       "    </tr>\n",
       "  </tbody>\n",
       "</table>\n",
       "<p>5 rows × 22 columns</p>\n",
       "</div>"
      ],
      "text/plain": [
       "      user_id              tw_id_o               timestamp_o  CPRO_o  \\\n",
       "0  1258006388  1242014584019529728 2020-03-23 09:05:27+00:00      41   \n",
       "1  1258006388  1242190058716835842 2020-03-23 20:42:43+00:00      41   \n",
       "2   231380112  1241989424113684481 2020-03-23 07:25:28+00:00      17   \n",
       "3   231380112  1242070404300226574 2020-03-23 12:47:15+00:00      17   \n",
       "4  1201548956  1242065686043688967 2020-03-23 12:28:30+00:00       8   \n",
       "\n",
       "      NPRO_O CGRUPO_o                   NGRUPO_o  POB_GRUPO_o  \\\n",
       "0    Sevilla     084S   Sevilla (SCD Number 4-A)       18.048   \n",
       "1    Sevilla     025S             Alcalá del Río       12.029   \n",
       "2     Girona     25GI  Besalú y otros municipios        5.231   \n",
       "3     Girona     37GI                   Banyoles       19.826   \n",
       "4  Barcelona     097B          Parets del Vallès       19.082   \n",
       "\n",
       "                                        geom_o              tw_id_d  ...  \\\n",
       "0  POINT (241155.7030033822 4141397.433281829)  1242190058716835842  ...   \n",
       "1  POINT (238412.4162063967 4160382.205794079)  1242239109504151564  ...   \n",
       "2  POINT (970453.5231286159 4687892.360277078)  1242064620078104578  ...   \n",
       "3  POINT (977549.3669210005 4679816.684196526)  1242155003655196674  ...   \n",
       "4  POINT (936126.6582087477 4614643.045649199)  1242078693377409025  ...   \n",
       "\n",
       "      NPRO_d  CGRUPO_d                          NGRUPO_d POB_GRUPO_d  \\\n",
       "0    Sevilla      025S                    Alcalá del Río      12.029   \n",
       "1    Sevilla      084S          Sevilla (SCD Number 4-A)      18.048   \n",
       "2     Girona      37GI                          Banyoles      19.826   \n",
       "3     Girona      25GI         Besalú y otros municipios       5.231   \n",
       "4  Barcelona      030B  Castellterçol y otros municipios       6.165   \n",
       "\n",
       "                                        geom_d   time_duration  \\\n",
       "0  POINT (238412.4162063967 4160382.205794079) 0 days 11:37:16   \n",
       "1  POINT (241155.7030033822 4141397.433281829) 0 days 03:14:55   \n",
       "2  POINT (977549.3669210005 4679816.684196526) 0 days 04:58:48   \n",
       "3  POINT (970453.5231286159 4687892.360277078) 0 days 05:36:10   \n",
       "4  POINT (921480.9852253482 4635413.947512716) 0 days 00:51:41   \n",
       "\n",
       "                                                geom    dist_km  \\\n",
       "0  LINESTRING (241155.7030033822 4141397.43328182...  19.181950   \n",
       "1  LINESTRING (238412.4162063967 4160382.20579407...  19.181950   \n",
       "2  LINESTRING (970453.5231286159 4687892.36027707...  10.750235   \n",
       "3  LINESTRING (977549.3669210005 4679816.68419652...  10.750235   \n",
       "4  LINESTRING (936126.6582087477 4614643.04564919...  25.415076   \n",
       "\n",
       "  time_duration_in_h  speed_km_h  \n",
       "0              11.62    1.650770  \n",
       "1               3.25    5.902138  \n",
       "2               4.98    2.158682  \n",
       "3               5.60    1.919685  \n",
       "4               0.86   29.552414  \n",
       "\n",
       "[5 rows x 22 columns]"
      ]
     },
     "execution_count": 4,
     "metadata": {},
     "output_type": "execute_result"
    }
   ],
   "source": [
    "trips_df.head()"
   ]
  },
  {
   "cell_type": "code",
   "execution_count": 5,
   "metadata": {},
   "outputs": [
    {
     "name": "stdout",
     "output_type": "stream",
     "text": [
      "<class 'pandas.core.frame.DataFrame'>\n",
      "Int64Index: 342245 entries, 0 to 348288\n",
      "Data columns (total 22 columns):\n",
      " #   Column              Non-Null Count   Dtype              \n",
      "---  ------              --------------   -----              \n",
      " 0   user_id             342245 non-null  int64              \n",
      " 1   tw_id_o             342245 non-null  int64              \n",
      " 2   timestamp_o         342245 non-null  datetime64[ns, UTC]\n",
      " 3   CPRO_o              342245 non-null  int64              \n",
      " 4   NPRO_O              342245 non-null  object             \n",
      " 5   CGRUPO_o            342245 non-null  object             \n",
      " 6   NGRUPO_o            342245 non-null  object             \n",
      " 7   POB_GRUPO_o         342245 non-null  float64            \n",
      " 8   geom_o              342245 non-null  object             \n",
      " 9   tw_id_d             342245 non-null  int64              \n",
      " 10  timestamp_d         342245 non-null  datetime64[ns, UTC]\n",
      " 11  CPRO_d              342245 non-null  int64              \n",
      " 12  NPRO_d              342245 non-null  object             \n",
      " 13  CGRUPO_d            342245 non-null  object             \n",
      " 14  NGRUPO_d            342245 non-null  object             \n",
      " 15  POB_GRUPO_d         342245 non-null  float64            \n",
      " 16  geom_d              342245 non-null  object             \n",
      " 17  time_duration       342245 non-null  timedelta64[ns]    \n",
      " 18  geom                342245 non-null  object             \n",
      " 19  dist_km             342245 non-null  float64            \n",
      " 20  time_duration_in_h  342245 non-null  float64            \n",
      " 21  speed_km_h          342245 non-null  float64            \n",
      "dtypes: datetime64[ns, UTC](2), float64(5), int64(5), object(9), timedelta64[ns](1)\n",
      "memory usage: 60.1+ MB\n"
     ]
    }
   ],
   "source": [
    "trips_df.info()"
   ]
  },
  {
   "cell_type": "markdown",
   "metadata": {},
   "source": [
    "# Trips distance analysis"
   ]
  },
  {
   "cell_type": "code",
   "execution_count": 6,
   "metadata": {},
   "outputs": [
    {
     "data": {
      "text/plain": [
       "(5.0, 7.5]          0.144602\n",
       "(2.5, 5.0]          0.122227\n",
       "(7.5, 10.0]         0.110335\n",
       "(-0.1006, 2.5]      0.103764\n",
       "(10.0, 12.5]        0.077636\n",
       "(12.5, 14.999]      0.056302\n",
       "(14.999, 17.499]    0.050302\n",
       "(17.499, 19.999]    0.040482\n",
       "(19.999, 22.499]    0.035338\n",
       "(22.499, 24.999]    0.029898\n",
       "Name: dist_km, dtype: float64"
      ]
     },
     "execution_count": 6,
     "metadata": {},
     "output_type": "execute_result"
    }
   ],
   "source": [
    "trips_df[trips_df['dist_km']<100]['dist_km'].value_counts(bins=40, normalize=True)[:10]"
   ]
  },
  {
   "cell_type": "code",
   "execution_count": 7,
   "metadata": {
    "scrolled": true
   },
   "outputs": [
    {
     "data": {
      "image/png": "[encoded data removed]",
      "text/plain": [
       "<Figure size 432x288 with 1 Axes>"
      ]
     },
     "metadata": {
      "needs_background": "light"
     },
     "output_type": "display_data"
    }
   ],
   "source": [
    "trips_df[trips_df['dist_km']<100]['dist_km'].value_counts(bins=40).plot(kind='bar');"
   ]
  },
  {
   "cell_type": "code",
   "execution_count": 8,
   "metadata": {
    "scrolled": true
   },
   "outputs": [
    {
     "data": {
      "image/png": "[encoded data removed]",
      "text/plain": [
       "<Figure size 432x288 with 1 Axes>"
      ]
     },
     "metadata": {
      "needs_background": "light"
     },
     "output_type": "display_data"
    }
   ],
   "source": [
    "ax= sns.distplot(trips_df[trips_df['dist_km']<100]['dist_km']);\n",
    "ax.set_xticks(np.arange(0,101,10)); \n"
   ]
  },
  {
   "cell_type": "markdown",
   "metadata": {},
   "source": [
    "# Time length analysis"
   ]
  },
  {
   "cell_type": "code",
   "execution_count": 9,
   "metadata": {},
   "outputs": [
    {
     "data": {
      "text/plain": [
       "(-0.015, 0.61]    0.272068\n",
       "(0.61, 1.21]      0.087046\n",
       "(1.21, 1.809]     0.060141\n",
       "(1.809, 2.409]    0.053576\n",
       "(2.409, 3.009]    0.044106\n",
       "(3.009, 3.608]    0.037526\n",
       "(3.608, 4.208]    0.032754\n",
       "(4.208, 4.808]    0.029309\n",
       "(4.808, 5.408]    0.027436\n",
       "(5.408, 6.008]    0.024456\n",
       "Name: time_duration_in_h, dtype: float64"
      ]
     },
     "execution_count": 9,
     "metadata": {},
     "output_type": "execute_result"
    }
   ],
   "source": [
    "trips_df[trips_df['time_duration_in_h']<100]['time_duration_in_h'].value_counts(bins=40, normalize=True)[:10]"
   ]
  },
  {
   "cell_type": "code",
   "execution_count": 10,
   "metadata": {},
   "outputs": [
    {
     "data": {
      "image/png": "[encoded data removed]",
      "text/plain": [
       "<Figure size 432x288 with 1 Axes>"
      ]
     },
     "metadata": {
      "needs_background": "light"
     },
     "output_type": "display_data"
    }
   ],
   "source": [
    "ax= sns.distplot(trips_df['time_duration_in_h']);\n",
    "#ax.set_xticks(np.arange(0,13)); "
   ]
  },
  {
   "cell_type": "code",
   "execution_count": 11,
   "metadata": {
    "scrolled": true
   },
   "outputs": [
    {
     "data": {
      "image/png": "[encoded data removed]",
      "text/plain": [
       "<Figure size 432x288 with 1 Axes>"
      ]
     },
     "metadata": {
      "needs_background": "light"
     },
     "output_type": "display_data"
    }
   ],
   "source": [
    "ax= sns.distplot(trips_df[trips_df['time_duration_in_h']<=12]['time_duration_in_h']);\n",
    "ax.set_xticks(np.arange(0,13)); "
   ]
  },
  {
   "cell_type": "markdown",
   "metadata": {},
   "source": [
    "# Speed analysis"
   ]
  },
  {
   "cell_type": "code",
   "execution_count": 12,
   "metadata": {},
   "outputs": [
    {
     "data": {
      "image/png": "[encoded data removed]",
      "text/plain": [
       "<Figure size 432x288 with 1 Axes>"
      ]
     },
     "metadata": {
      "needs_background": "light"
     },
     "output_type": "display_data"
    }
   ],
   "source": [
    "sns.distplot(trips_df['speed_km_h']);"
   ]
  },
  {
   "cell_type": "code",
   "execution_count": 13,
   "metadata": {},
   "outputs": [
    {
     "data": {
      "image/png": "[encoded data removed]",
      "text/plain": [
       "<Figure size 432x288 with 1 Axes>"
      ]
     },
     "metadata": {
      "needs_background": "light"
     },
     "output_type": "display_data"
    }
   ],
   "source": [
    "ax= sns.distplot(trips_df[trips_df['speed_km_h']<=100]['speed_km_h']);\n",
    "ax.set_xticks(np.arange(0,101,10)); "
   ]
  }
 ],
 "metadata": {
  "kernelspec": {
   "display_name": "Python 3",
   "language": "python",
   "name": "python3"
  },
  "language_info": {
   "codemirror_mode": {
    "name": "ipython",
    "version": 3
   },
   "file_extension": ".py",
   "mimetype": "text/x-python",
   "name": "python",
   "nbconvert_exporter": "python",
   "pygments_lexer": "ipython3",
   "version": "3.6.5"
  }
 },
 "nbformat": 4,
 "nbformat_minor": 2
}
