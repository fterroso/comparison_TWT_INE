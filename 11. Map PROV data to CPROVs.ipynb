{
 "cells": [
  {
   "cell_type": "code",
   "execution_count": 1,
   "metadata": {},
   "outputs": [
    {
     "name": "stderr",
     "output_type": "stream",
     "text": [
      "/home/fterroso/python/lib/python3.6/site-packages/geopandas/_compat.py:88: UserWarning: The Shapely GEOS version (3.8.0-CAPI-1.13.1 ) is incompatible with the GEOS version PyGEOS was compiled with (3.8.1-CAPI-1.13.3). Conversions between both will be slow.\n",
      "  shapely_geos_version, geos_capi_version_string\n"
     ]
    }
   ],
   "source": [
    "import pandas as pd\n",
    "import geopandas as gpd\n",
    "import numpy as np\n",
    "\n",
    "from tqdm import tqdm_notebook\n",
    "\n",
    "import matplotlib.pyplot as plt\n",
    "%matplotlib inline\n",
    "\n",
    "\n",
    "import os\n",
    "\n",
    "data_path = ''"
   ]
  },
  {
   "cell_type": "code",
   "execution_count": 2,
   "metadata": {},
   "outputs": [],
   "source": [
    "import warnings\n",
    "warnings.filterwarnings(\"ignore\")"
   ]
  },
  {
   "cell_type": "markdown",
   "metadata": {},
   "source": [
    "## Read clusters' members"
   ]
  },
  {
   "cell_type": "code",
   "execution_count": 3,
   "metadata": {},
   "outputs": [],
   "source": [
    "cluster_members_twt_df = pd.read_csv(os.path.join('data', 'Cluster Provincias Twitter.csv'), sep=';', index_col=0)"
   ]
  },
  {
   "cell_type": "code",
   "execution_count": 4,
   "metadata": {},
   "outputs": [
    {
     "name": "stdout",
     "output_type": "stream",
     "text": [
      "<class 'pandas.core.frame.DataFrame'>\n",
      "Int64Index: 52 entries, 1 to 52\n",
      "Data columns (total 11 columns):\n",
      " #   Column                Non-Null Count  Dtype \n",
      "---  ------                --------------  ----- \n",
      " 0   codprov               51 non-null     object\n",
      " 1   latitud               52 non-null     object\n",
      " 2   longitud              52 non-null     object\n",
      " 3   altitud               52 non-null     object\n",
      " 4   poblacion             52 non-null     int64 \n",
      " 5   poblacionporcentaje   52 non-null     object\n",
      " 6   densidadpoblacionkm   52 non-null     object\n",
      " 7   superfice             52 non-null     object\n",
      " 8   superficieporcentaje  52 non-null     object\n",
      " 9   degree                52 non-null     int64 \n",
      " 10  Cluster               52 non-null     int64 \n",
      "dtypes: int64(3), object(8)\n",
      "memory usage: 4.9+ KB\n"
     ]
    }
   ],
   "source": [
    "cluster_members_twt_df.info()"
   ]
  },
  {
   "cell_type": "code",
   "execution_count": 5,
   "metadata": {},
   "outputs": [
    {
     "data": {
      "text/html": [
       "<div>\n",
       "<style scoped>\n",
       "    .dataframe tbody tr th:only-of-type {\n",
       "        vertical-align: middle;\n",
       "    }\n",
       "\n",
       "    .dataframe tbody tr th {\n",
       "        vertical-align: top;\n",
       "    }\n",
       "\n",
       "    .dataframe thead th {\n",
       "        text-align: right;\n",
       "    }\n",
       "</style>\n",
       "<table border=\"1\" class=\"dataframe\">\n",
       "  <thead>\n",
       "    <tr style=\"text-align: right;\">\n",
       "      <th></th>\n",
       "      <th>codprov</th>\n",
       "      <th>latitud</th>\n",
       "      <th>longitud</th>\n",
       "      <th>altitud</th>\n",
       "      <th>poblacion</th>\n",
       "      <th>poblacionporcentaje</th>\n",
       "      <th>densidadpoblacionkm</th>\n",
       "      <th>superfice</th>\n",
       "      <th>superficieporcentaje</th>\n",
       "      <th>degree</th>\n",
       "      <th>Cluster</th>\n",
       "    </tr>\n",
       "    <tr>\n",
       "      <th>Id</th>\n",
       "      <th></th>\n",
       "      <th></th>\n",
       "      <th></th>\n",
       "      <th></th>\n",
       "      <th></th>\n",
       "      <th></th>\n",
       "      <th></th>\n",
       "      <th></th>\n",
       "      <th></th>\n",
       "      <th></th>\n",
       "      <th></th>\n",
       "    </tr>\n",
       "  </thead>\n",
       "  <tbody>\n",
       "    <tr>\n",
       "      <th>1</th>\n",
       "      <td>VI</td>\n",
       "      <td>42,84641</td>\n",
       "      <td>-2,667893</td>\n",
       "      <td>534,3582</td>\n",
       "      <td>331549</td>\n",
       "      <td>0,71</td>\n",
       "      <td>109,17</td>\n",
       "      <td>3037</td>\n",
       "      <td>0,6</td>\n",
       "      <td>69</td>\n",
       "      <td>0</td>\n",
       "    </tr>\n",
       "    <tr>\n",
       "      <th>2</th>\n",
       "      <td>AB</td>\n",
       "      <td>38,99765</td>\n",
       "      <td>-1,86007</td>\n",
       "      <td>685,9573</td>\n",
       "      <td>388167</td>\n",
       "      <td>0,83</td>\n",
       "      <td>26,01</td>\n",
       "      <td>14926</td>\n",
       "      <td>2,95</td>\n",
       "      <td>51</td>\n",
       "      <td>1</td>\n",
       "    </tr>\n",
       "    <tr>\n",
       "      <th>3</th>\n",
       "      <td>A</td>\n",
       "      <td>38,3452</td>\n",
       "      <td>-0,481006</td>\n",
       "      <td>16,63256</td>\n",
       "      <td>1858683</td>\n",
       "      <td>3,95</td>\n",
       "      <td>319,53</td>\n",
       "      <td>5817</td>\n",
       "      <td>1,15</td>\n",
       "      <td>71</td>\n",
       "      <td>1</td>\n",
       "    </tr>\n",
       "    <tr>\n",
       "      <th>4</th>\n",
       "      <td>AL</td>\n",
       "      <td>36,84016</td>\n",
       "      <td>-2,467922</td>\n",
       "      <td>27,00703</td>\n",
       "      <td>716820</td>\n",
       "      <td>1,52</td>\n",
       "      <td>81,69</td>\n",
       "      <td>8775</td>\n",
       "      <td>1,73</td>\n",
       "      <td>62</td>\n",
       "      <td>1</td>\n",
       "    </tr>\n",
       "    <tr>\n",
       "      <th>5</th>\n",
       "      <td>AV</td>\n",
       "      <td>40,65642</td>\n",
       "      <td>-4,700323</td>\n",
       "      <td>1129,841</td>\n",
       "      <td>157640</td>\n",
       "      <td>0,34</td>\n",
       "      <td>19,58</td>\n",
       "      <td>8050</td>\n",
       "      <td>1,59</td>\n",
       "      <td>52</td>\n",
       "      <td>0</td>\n",
       "    </tr>\n",
       "  </tbody>\n",
       "</table>\n",
       "</div>"
      ],
      "text/plain": [
       "   codprov   latitud   longitud   altitud  poblacion poblacionporcentaje  \\\n",
       "Id                                                                         \n",
       "1       VI  42,84641  -2,667893  534,3582     331549                0,71   \n",
       "2       AB  38,99765   -1,86007  685,9573     388167                0,83   \n",
       "3        A   38,3452  -0,481006  16,63256    1858683                3,95   \n",
       "4       AL  36,84016  -2,467922  27,00703     716820                1,52   \n",
       "5       AV  40,65642  -4,700323  1129,841     157640                0,34   \n",
       "\n",
       "   densidadpoblacionkm superfice superficieporcentaje  degree  Cluster  \n",
       "Id                                                                      \n",
       "1               109,17      3037                  0,6      69        0  \n",
       "2                26,01     14926                 2,95      51        1  \n",
       "3               319,53      5817                 1,15      71        1  \n",
       "4                81,69      8775                 1,73      62        1  \n",
       "5                19,58      8050                 1,59      52        0  "
      ]
     },
     "execution_count": 5,
     "metadata": {},
     "output_type": "execute_result"
    }
   ],
   "source": [
    "cluster_members_twt_df.head()"
   ]
  },
  {
   "cell_type": "code",
   "execution_count": 6,
   "metadata": {},
   "outputs": [
    {
     "data": {
      "text/plain": [
       "7"
      ]
     },
     "execution_count": 6,
     "metadata": {},
     "output_type": "execute_result"
    }
   ],
   "source": [
    "cluster_members_twt_df['Cluster'].nunique()"
   ]
  },
  {
   "cell_type": "markdown",
   "metadata": {},
   "source": [
    "### Cluster in INE"
   ]
  },
  {
   "cell_type": "code",
   "execution_count": 7,
   "metadata": {},
   "outputs": [],
   "source": [
    "cluster_members_ine_df = pd.read_csv(os.path.join('data', 'Cluster Provincias Ministerio.csv'), sep=';', index_col=0)"
   ]
  },
  {
   "cell_type": "code",
   "execution_count": 8,
   "metadata": {},
   "outputs": [
    {
     "data": {
      "text/html": [
       "<div>\n",
       "<style scoped>\n",
       "    .dataframe tbody tr th:only-of-type {\n",
       "        vertical-align: middle;\n",
       "    }\n",
       "\n",
       "    .dataframe tbody tr th {\n",
       "        vertical-align: top;\n",
       "    }\n",
       "\n",
       "    .dataframe thead th {\n",
       "        text-align: right;\n",
       "    }\n",
       "</style>\n",
       "<table border=\"1\" class=\"dataframe\">\n",
       "  <thead>\n",
       "    <tr style=\"text-align: right;\">\n",
       "      <th></th>\n",
       "      <th>codprov</th>\n",
       "      <th>latitud</th>\n",
       "      <th>longitud</th>\n",
       "      <th>altitud</th>\n",
       "      <th>poblacion</th>\n",
       "      <th>poblacionporcentaje</th>\n",
       "      <th>densidadpoblacionkm</th>\n",
       "      <th>superfice</th>\n",
       "      <th>superficieporcentaje</th>\n",
       "      <th>degree</th>\n",
       "      <th>Cluster</th>\n",
       "    </tr>\n",
       "    <tr>\n",
       "      <th>Id</th>\n",
       "      <th></th>\n",
       "      <th></th>\n",
       "      <th></th>\n",
       "      <th></th>\n",
       "      <th></th>\n",
       "      <th></th>\n",
       "      <th></th>\n",
       "      <th></th>\n",
       "      <th></th>\n",
       "      <th></th>\n",
       "      <th></th>\n",
       "    </tr>\n",
       "  </thead>\n",
       "  <tbody>\n",
       "    <tr>\n",
       "      <th>1</th>\n",
       "      <td>VI</td>\n",
       "      <td>42.84641</td>\n",
       "      <td>-2.667893</td>\n",
       "      <td>534.3582</td>\n",
       "      <td>331549</td>\n",
       "      <td>0.71</td>\n",
       "      <td>109.17</td>\n",
       "      <td>3037.0</td>\n",
       "      <td>0.60</td>\n",
       "      <td>13</td>\n",
       "      <td>0</td>\n",
       "    </tr>\n",
       "    <tr>\n",
       "      <th>26</th>\n",
       "      <td>LO</td>\n",
       "      <td>42.46577</td>\n",
       "      <td>-2.449995</td>\n",
       "      <td>396.4728</td>\n",
       "      <td>316798</td>\n",
       "      <td>0.67</td>\n",
       "      <td>62.79</td>\n",
       "      <td>5045.0</td>\n",
       "      <td>1.00</td>\n",
       "      <td>9</td>\n",
       "      <td>0</td>\n",
       "    </tr>\n",
       "    <tr>\n",
       "      <th>9</th>\n",
       "      <td>BU</td>\n",
       "      <td>42.34087</td>\n",
       "      <td>-3.699731</td>\n",
       "      <td>865.8016</td>\n",
       "      <td>356958</td>\n",
       "      <td>0.76</td>\n",
       "      <td>25.46</td>\n",
       "      <td>14022.0</td>\n",
       "      <td>2.77</td>\n",
       "      <td>11</td>\n",
       "      <td>0</td>\n",
       "    </tr>\n",
       "    <tr>\n",
       "      <th>10</th>\n",
       "      <td>CC</td>\n",
       "      <td>39.47618</td>\n",
       "      <td>-6.370760</td>\n",
       "      <td>434.6162</td>\n",
       "      <td>394151</td>\n",
       "      <td>0.84</td>\n",
       "      <td>19.84</td>\n",
       "      <td>19868.0</td>\n",
       "      <td>3.93</td>\n",
       "      <td>10</td>\n",
       "      <td>1</td>\n",
       "    </tr>\n",
       "    <tr>\n",
       "      <th>6</th>\n",
       "      <td>BA</td>\n",
       "      <td>38.87860</td>\n",
       "      <td>-6.970284</td>\n",
       "      <td>192.0375</td>\n",
       "      <td>673559</td>\n",
       "      <td>1.43</td>\n",
       "      <td>30.95</td>\n",
       "      <td>21766.0</td>\n",
       "      <td>4.30</td>\n",
       "      <td>11</td>\n",
       "      <td>1</td>\n",
       "    </tr>\n",
       "  </tbody>\n",
       "</table>\n",
       "</div>"
      ],
      "text/plain": [
       "   codprov   latitud  longitud   altitud  poblacion  poblacionporcentaje  \\\n",
       "Id                                                                         \n",
       "1       VI  42.84641 -2.667893  534.3582     331549                 0.71   \n",
       "26      LO  42.46577 -2.449995  396.4728     316798                 0.67   \n",
       "9       BU  42.34087 -3.699731  865.8016     356958                 0.76   \n",
       "10      CC  39.47618 -6.370760  434.6162     394151                 0.84   \n",
       "6       BA  38.87860 -6.970284  192.0375     673559                 1.43   \n",
       "\n",
       "    densidadpoblacionkm  superfice  superficieporcentaje  degree  Cluster  \n",
       "Id                                                                         \n",
       "1                109.17     3037.0                  0.60      13        0  \n",
       "26                62.79     5045.0                  1.00       9        0  \n",
       "9                 25.46    14022.0                  2.77      11        0  \n",
       "10                19.84    19868.0                  3.93      10        1  \n",
       "6                 30.95    21766.0                  4.30      11        1  "
      ]
     },
     "execution_count": 8,
     "metadata": {},
     "output_type": "execute_result"
    }
   ],
   "source": [
    "cluster_members_ine_df.head()"
   ]
  },
  {
   "cell_type": "code",
   "execution_count": 9,
   "metadata": {},
   "outputs": [
    {
     "data": {
      "text/plain": [
       "6"
      ]
     },
     "execution_count": 9,
     "metadata": {},
     "output_type": "execute_result"
    }
   ],
   "source": [
    "cluster_members_ine_df['Cluster'].nunique()"
   ]
  },
  {
   "cell_type": "code",
   "execution_count": 10,
   "metadata": {},
   "outputs": [],
   "source": [
    "from datetime import date, timedelta\n",
    "\n",
    "def generate_target_days_fn(init_date, final_date):\n",
    "\n",
    "    delta = e_date - i_date       # as timedelta\n",
    "\n",
    "    target_days = []\n",
    "    for i in range(delta.days + 1):\n",
    "        day = i_date + timedelta(days=i)\n",
    "        target_days.append(day)\n",
    "    \n",
    "    return target_days"
   ]
  },
  {
   "cell_type": "code",
   "execution_count": 11,
   "metadata": {},
   "outputs": [],
   "source": [
    "import datetime\n",
    "e_date = datetime.datetime.strptime('2020-06-20', '%Y-%m-%d')\n",
    "i_date = datetime.datetime.strptime('2020-04-01', '%Y-%m-%d')\n",
    "target_days = generate_target_days_fn(i_date, e_date)"
   ]
  },
  {
   "cell_type": "markdown",
   "metadata": {},
   "source": [
    "## Generate cluster dataframes"
   ]
  },
  {
   "cell_type": "code",
   "execution_count": 12,
   "metadata": {},
   "outputs": [],
   "source": [
    "import itertools\n",
    "def generate_cluster_od(_od, cluster_members_df, column_type=str):\n",
    "    cluster_ids = cluster_members_df['Cluster'].unique()\n",
    "    cluster_od_df = pd.DataFrame(0, index= cluster_ids, columns=cluster_ids)\n",
    "\n",
    "\n",
    "    for c_o, c_d in itertools.combinations(cluster_ids, r=2):\n",
    "        _members_co= [column_type(m) for m in cluster_members_df[cluster_members_df['Cluster']==c_o].index.tolist()]\n",
    "        _members_cd= [str(m) for m in cluster_members_df[cluster_members_df['Cluster']==c_d].index.tolist()]\n",
    "        \n",
    "        #print(_members_co, _members_cd, _od.index)\n",
    "        \n",
    "        od_clusters=_od.loc[_members_co][_members_cd]\n",
    "        od_clusters['total'] = od_clusters.sum(axis=1)\n",
    "        od_clusters.loc['total'] = od_clusters.sum()\n",
    "        \n",
    "        cluster_od_df.loc[c_o,c_d]= od_clusters.loc['total','total']\n",
    "        \n",
    "        _members_co= [str(m) for m in cluster_members_df[cluster_members_df['Cluster']==c_o].index.tolist()]\n",
    "        _members_cd= [column_type(m) for m in cluster_members_df[cluster_members_df['Cluster']==c_d].index.tolist()]\n",
    "        \n",
    "        od_clusters=_od.loc[_members_cd][_members_co]\n",
    "        od_clusters['total'] = od_clusters.sum(axis=1)\n",
    "        od_clusters.loc['total'] = od_clusters.sum()\n",
    "        \n",
    "        cluster_od_df.loc[c_d,c_o]= od_clusters.loc['total','total']\n",
    "        \n",
    "    cluster_od_df['total'] = cluster_od_df.sum(axis=1)\n",
    "    cluster_od_df.loc['total'] = cluster_od_df.sum()\n",
    "    return cluster_od_df"
   ]
  },
  {
   "cell_type": "code",
   "execution_count": 13,
   "metadata": {},
   "outputs": [],
   "source": [
    "def map_ODs_to_clusters_fn(source_type, cluster_members_df):\n",
    "    for date in tqdm_notebook(target_days):\n",
    "        od_date= pd.read_csv(os.path.join('data', 'OD', 'date_{}_OD_{}_prov.csv'.format(source_type,date.strftime('%Y-%m-%d'))), \n",
    "                            index_col=0)\n",
    "        cluster_od= generate_cluster_od(od_date, cluster_members_df)\n",
    "        cluster_od.to_csv(os.path.join('data', 'OD', 'date_{}_OD_{}_prov_cluster.csv'.format(source_type,date.strftime('%Y-%m-%d'))))\n",
    "    \n",
    "    od_global= pd.read_csv(os.path.join('data', 'OD', 'global_{}_OD_prov.csv'.format(source_type)))\n",
    "    g_cluster_od= generate_cluster_od(od_global, cluster_members_df, column_type=int)\n",
    "    g_cluster_od.to_csv(os.path.join('data', 'OD', 'global_{}_OD_prov_cluster.csv'.format(source_type)))                                    "
   ]
  },
  {
   "cell_type": "code",
   "execution_count": 14,
   "metadata": {
    "scrolled": true
   },
   "outputs": [
    {
     "data": {
      "application/vnd.jupyter.widget-view+json": {
       "model_id": "ac86a9cb27b34d649ee60485f734bc7c",
       "version_major": 2,
       "version_minor": 0
      },
      "text/plain": [
       "HBox(children=(IntProgress(value=0, max=81), HTML(value='')))"
      ]
     },
     "metadata": {},
     "output_type": "display_data"
    },
    {
     "name": "stdout",
     "output_type": "stream",
     "text": [
      "\n"
     ]
    }
   ],
   "source": [
    "map_ODs_to_clusters_fn('TWT', cluster_members_twt_df)"
   ]
  },
  {
   "cell_type": "code",
   "execution_count": 15,
   "metadata": {},
   "outputs": [
    {
     "data": {
      "application/vnd.jupyter.widget-view+json": {
       "model_id": "a13bc85021d3495a8e57b4fbb1f1e779",
       "version_major": 2,
       "version_minor": 0
      },
      "text/plain": [
       "HBox(children=(IntProgress(value=0, max=81), HTML(value='')))"
      ]
     },
     "metadata": {},
     "output_type": "display_data"
    },
    {
     "name": "stdout",
     "output_type": "stream",
     "text": [
      "\n"
     ]
    }
   ],
   "source": [
    "map_ODs_to_clusters_fn('INE', cluster_members_ine_df)"
   ]
  },
  {
   "cell_type": "markdown",
   "metadata": {},
   "source": [
    "# Map COVID-19 cases to CPROVs"
   ]
  },
  {
   "cell_type": "code",
   "execution_count": 16,
   "metadata": {},
   "outputs": [],
   "source": [
    "covid_cases_df = pd.read_csv(os.path.join(data_path,'Spain-INE-covid-mob-study-mar-jun-20','COVID datos_provincias.csv'), sep=';')"
   ]
  },
  {
   "cell_type": "code",
   "execution_count": 17,
   "metadata": {},
   "outputs": [],
   "source": [
    "target_covid_cases_df = covid_cases_df[covid_cases_df['mes'].isin([4, 5, 6])]"
   ]
  },
  {
   "cell_type": "code",
   "execution_count": 18,
   "metadata": {},
   "outputs": [
    {
     "data": {
      "text/html": [
       "<div>\n",
       "<style scoped>\n",
       "    .dataframe tbody tr th:only-of-type {\n",
       "        vertical-align: middle;\n",
       "    }\n",
       "\n",
       "    .dataframe tbody tr th {\n",
       "        vertical-align: top;\n",
       "    }\n",
       "\n",
       "    .dataframe thead th {\n",
       "        text-align: right;\n",
       "    }\n",
       "</style>\n",
       "<table border=\"1\" class=\"dataframe\">\n",
       "  <thead>\n",
       "    <tr style=\"text-align: right;\">\n",
       "      <th></th>\n",
       "      <th>Provincia_cod</th>\n",
       "      <th>dia</th>\n",
       "      <th>mes</th>\n",
       "      <th>num_casos</th>\n",
       "    </tr>\n",
       "  </thead>\n",
       "  <tbody>\n",
       "    <tr>\n",
       "      <th>61</th>\n",
       "      <td>1</td>\n",
       "      <td>1</td>\n",
       "      <td>4</td>\n",
       "      <td>52</td>\n",
       "    </tr>\n",
       "    <tr>\n",
       "      <th>62</th>\n",
       "      <td>1</td>\n",
       "      <td>2</td>\n",
       "      <td>4</td>\n",
       "      <td>46</td>\n",
       "    </tr>\n",
       "    <tr>\n",
       "      <th>63</th>\n",
       "      <td>1</td>\n",
       "      <td>3</td>\n",
       "      <td>4</td>\n",
       "      <td>70</td>\n",
       "    </tr>\n",
       "    <tr>\n",
       "      <th>64</th>\n",
       "      <td>1</td>\n",
       "      <td>4</td>\n",
       "      <td>4</td>\n",
       "      <td>25</td>\n",
       "    </tr>\n",
       "    <tr>\n",
       "      <th>65</th>\n",
       "      <td>1</td>\n",
       "      <td>5</td>\n",
       "      <td>4</td>\n",
       "      <td>33</td>\n",
       "    </tr>\n",
       "  </tbody>\n",
       "</table>\n",
       "</div>"
      ],
      "text/plain": [
       "    Provincia_cod  dia  mes  num_casos\n",
       "61              1    1    4         52\n",
       "62              1    2    4         46\n",
       "63              1    3    4         70\n",
       "64              1    4    4         25\n",
       "65              1    5    4         33"
      ]
     },
     "execution_count": 18,
     "metadata": {},
     "output_type": "execute_result"
    }
   ],
   "source": [
    "target_covid_cases_df.head()"
   ]
  },
  {
   "cell_type": "code",
   "execution_count": 19,
   "metadata": {},
   "outputs": [],
   "source": [
    "def map_covid_cases_to_clusters_fn(covid_cases_df, clusters_df):\n",
    "    cases_per_cluster=[]\n",
    "    for c in clusters_df['Cluster'].unique():\n",
    "        cluster_members_df = clusters_df[clusters_df['Cluster']==c]\n",
    "        member_ids = cluster_members_df.index\n",
    "        cluster_covid_cases_df = covid_cases_df[covid_cases_df['Provincia_cod'].isin(member_ids)]\n",
    "        for month in [4, 5, 6]:\n",
    "            days_list = cluster_covid_cases_df[cluster_covid_cases_df['mes']==month]['dia'].unique().tolist()\n",
    "            days_list.sort()\n",
    "            for day in days_list:\n",
    "                n_cases = cluster_covid_cases_df[(cluster_covid_cases_df['mes']==month) & \n",
    "                                                 (cluster_covid_cases_df['dia']==day)]['num_casos'].sum()\n",
    "                cases_per_cluster.append((c,day,month,n_cases))\n",
    "    cases_per_cluster_df = pd.DataFrame.from_records(cases_per_cluster, columns=covid_cases_df.columns)\n",
    "    return cases_per_cluster_df"
   ]
  },
  {
   "cell_type": "markdown",
   "metadata": {},
   "source": [
    "### Map to INE clusters"
   ]
  },
  {
   "cell_type": "code",
   "execution_count": 20,
   "metadata": {},
   "outputs": [],
   "source": [
    "cases_per_ine_cluster_df = map_covid_cases_to_clusters_fn(target_covid_cases_df,cluster_members_ine_df)"
   ]
  },
  {
   "cell_type": "code",
   "execution_count": 21,
   "metadata": {},
   "outputs": [
    {
     "data": {
      "text/html": [
       "<div>\n",
       "<style scoped>\n",
       "    .dataframe tbody tr th:only-of-type {\n",
       "        vertical-align: middle;\n",
       "    }\n",
       "\n",
       "    .dataframe tbody tr th {\n",
       "        vertical-align: top;\n",
       "    }\n",
       "\n",
       "    .dataframe thead th {\n",
       "        text-align: right;\n",
       "    }\n",
       "</style>\n",
       "<table border=\"1\" class=\"dataframe\">\n",
       "  <thead>\n",
       "    <tr style=\"text-align: right;\">\n",
       "      <th></th>\n",
       "      <th>Provincia_cod</th>\n",
       "      <th>dia</th>\n",
       "      <th>mes</th>\n",
       "      <th>num_casos</th>\n",
       "    </tr>\n",
       "  </thead>\n",
       "  <tbody>\n",
       "    <tr>\n",
       "      <th>0</th>\n",
       "      <td>0</td>\n",
       "      <td>1</td>\n",
       "      <td>4</td>\n",
       "      <td>2930</td>\n",
       "    </tr>\n",
       "    <tr>\n",
       "      <th>1</th>\n",
       "      <td>0</td>\n",
       "      <td>2</td>\n",
       "      <td>4</td>\n",
       "      <td>2366</td>\n",
       "    </tr>\n",
       "    <tr>\n",
       "      <th>2</th>\n",
       "      <td>0</td>\n",
       "      <td>3</td>\n",
       "      <td>4</td>\n",
       "      <td>2341</td>\n",
       "    </tr>\n",
       "    <tr>\n",
       "      <th>3</th>\n",
       "      <td>0</td>\n",
       "      <td>4</td>\n",
       "      <td>4</td>\n",
       "      <td>1941</td>\n",
       "    </tr>\n",
       "    <tr>\n",
       "      <th>4</th>\n",
       "      <td>0</td>\n",
       "      <td>5</td>\n",
       "      <td>4</td>\n",
       "      <td>1643</td>\n",
       "    </tr>\n",
       "  </tbody>\n",
       "</table>\n",
       "</div>"
      ],
      "text/plain": [
       "   Provincia_cod  dia  mes  num_casos\n",
       "0              0    1    4       2930\n",
       "1              0    2    4       2366\n",
       "2              0    3    4       2341\n",
       "3              0    4    4       1941\n",
       "4              0    5    4       1643"
      ]
     },
     "execution_count": 21,
     "metadata": {},
     "output_type": "execute_result"
    }
   ],
   "source": [
    "cases_per_ine_cluster_df.head()"
   ]
  },
  {
   "cell_type": "code",
   "execution_count": 22,
   "metadata": {},
   "outputs": [
    {
     "data": {
      "text/plain": [
       "\"\\ncases_per_cluster=[]\\nfor c in cluster_members_ine_df['Cluster'].unique():\\n    cluster_members_df = cluster_members_ine_df[cluster_members_ine_df['Cluster']==c]\\n    member_ids = cluster_members_df.index\\n    cluster_covid_cases_df = target_covid_cases_df[target_covid_cases_df['Provincia_cod'].isin(member_ids)]\\n    for month in [4, 5, 6]:\\n        days_list = cluster_covid_cases_df[cluster_covid_cases_df['mes']==month]['dia'].unique().tolist()\\n        days_list.sort()\\n        for day in days_list:\\n            n_cases = cluster_covid_cases_df[(cluster_covid_cases_df['mes']==month) & \\n                                             (cluster_covid_cases_df['dia']==day)]['num_casos'].sum()\\n            cases_per_cluster.append((c,day,month,n_cases))\\n\\ncases_per_cluster_df = pd.DataFrame.from_records(cases_per_cluster, columns=target_covid_cases_df.columns)\\n\""
      ]
     },
     "execution_count": 22,
     "metadata": {},
     "output_type": "execute_result"
    }
   ],
   "source": [
    "\"\"\"\n",
    "cases_per_cluster=[]\n",
    "for c in cluster_members_ine_df['Cluster'].unique():\n",
    "    cluster_members_df = cluster_members_ine_df[cluster_members_ine_df['Cluster']==c]\n",
    "    member_ids = cluster_members_df.index\n",
    "    cluster_covid_cases_df = target_covid_cases_df[target_covid_cases_df['Provincia_cod'].isin(member_ids)]\n",
    "    for month in [4, 5, 6]:\n",
    "        days_list = cluster_covid_cases_df[cluster_covid_cases_df['mes']==month]['dia'].unique().tolist()\n",
    "        days_list.sort()\n",
    "        for day in days_list:\n",
    "            n_cases = cluster_covid_cases_df[(cluster_covid_cases_df['mes']==month) & \n",
    "                                             (cluster_covid_cases_df['dia']==day)]['num_casos'].sum()\n",
    "            cases_per_cluster.append((c,day,month,n_cases))\n",
    "\n",
    "cases_per_cluster_df = pd.DataFrame.from_records(cases_per_cluster, columns=target_covid_cases_df.columns)\n",
    "\"\"\"\n"
   ]
  },
  {
   "cell_type": "code",
   "execution_count": 24,
   "metadata": {},
   "outputs": [
    {
     "data": {
      "text/html": [
       "<div>\n",
       "<style scoped>\n",
       "    .dataframe tbody tr th:only-of-type {\n",
       "        vertical-align: middle;\n",
       "    }\n",
       "\n",
       "    .dataframe tbody tr th {\n",
       "        vertical-align: top;\n",
       "    }\n",
       "\n",
       "    .dataframe thead th {\n",
       "        text-align: right;\n",
       "    }\n",
       "</style>\n",
       "<table border=\"1\" class=\"dataframe\">\n",
       "  <thead>\n",
       "    <tr style=\"text-align: right;\">\n",
       "      <th></th>\n",
       "      <th>Provincia_cod</th>\n",
       "      <th>dia</th>\n",
       "      <th>mes</th>\n",
       "      <th>num_casos</th>\n",
       "    </tr>\n",
       "  </thead>\n",
       "  <tbody>\n",
       "    <tr>\n",
       "      <th>541</th>\n",
       "      <td>5</td>\n",
       "      <td>26</td>\n",
       "      <td>6</td>\n",
       "      <td>1</td>\n",
       "    </tr>\n",
       "    <tr>\n",
       "      <th>542</th>\n",
       "      <td>5</td>\n",
       "      <td>27</td>\n",
       "      <td>6</td>\n",
       "      <td>0</td>\n",
       "    </tr>\n",
       "    <tr>\n",
       "      <th>543</th>\n",
       "      <td>5</td>\n",
       "      <td>28</td>\n",
       "      <td>6</td>\n",
       "      <td>0</td>\n",
       "    </tr>\n",
       "    <tr>\n",
       "      <th>544</th>\n",
       "      <td>5</td>\n",
       "      <td>29</td>\n",
       "      <td>6</td>\n",
       "      <td>0</td>\n",
       "    </tr>\n",
       "    <tr>\n",
       "      <th>545</th>\n",
       "      <td>5</td>\n",
       "      <td>30</td>\n",
       "      <td>6</td>\n",
       "      <td>5</td>\n",
       "    </tr>\n",
       "  </tbody>\n",
       "</table>\n",
       "</div>"
      ],
      "text/plain": [
       "     Provincia_cod  dia  mes  num_casos\n",
       "541              5   26    6          1\n",
       "542              5   27    6          0\n",
       "543              5   28    6          0\n",
       "544              5   29    6          0\n",
       "545              5   30    6          5"
      ]
     },
     "execution_count": 24,
     "metadata": {},
     "output_type": "execute_result"
    }
   ],
   "source": [
    "cases_per_ine_cluster_df.tail()"
   ]
  },
  {
   "cell_type": "code",
   "execution_count": 25,
   "metadata": {},
   "outputs": [],
   "source": [
    "cases_per_ine_cluster_df.to_csv(os.path.join('data', 'COVID-19_cases_per_ine_cprov.csv'))"
   ]
  },
  {
   "cell_type": "markdown",
   "metadata": {},
   "source": [
    "### Map to TWT clusters"
   ]
  },
  {
   "cell_type": "code",
   "execution_count": 26,
   "metadata": {},
   "outputs": [],
   "source": [
    "cases_per_twt_cluster_df = map_covid_cases_to_clusters_fn(target_covid_cases_df,cluster_members_twt_df)"
   ]
  },
  {
   "cell_type": "code",
   "execution_count": 27,
   "metadata": {},
   "outputs": [
    {
     "data": {
      "text/html": [
       "<div>\n",
       "<style scoped>\n",
       "    .dataframe tbody tr th:only-of-type {\n",
       "        vertical-align: middle;\n",
       "    }\n",
       "\n",
       "    .dataframe tbody tr th {\n",
       "        vertical-align: top;\n",
       "    }\n",
       "\n",
       "    .dataframe thead th {\n",
       "        text-align: right;\n",
       "    }\n",
       "</style>\n",
       "<table border=\"1\" class=\"dataframe\">\n",
       "  <thead>\n",
       "    <tr style=\"text-align: right;\">\n",
       "      <th></th>\n",
       "      <th>Provincia_cod</th>\n",
       "      <th>dia</th>\n",
       "      <th>mes</th>\n",
       "      <th>num_casos</th>\n",
       "    </tr>\n",
       "  </thead>\n",
       "  <tbody>\n",
       "    <tr>\n",
       "      <th>0</th>\n",
       "      <td>0</td>\n",
       "      <td>1</td>\n",
       "      <td>4</td>\n",
       "      <td>2930</td>\n",
       "    </tr>\n",
       "    <tr>\n",
       "      <th>1</th>\n",
       "      <td>0</td>\n",
       "      <td>2</td>\n",
       "      <td>4</td>\n",
       "      <td>2366</td>\n",
       "    </tr>\n",
       "    <tr>\n",
       "      <th>2</th>\n",
       "      <td>0</td>\n",
       "      <td>3</td>\n",
       "      <td>4</td>\n",
       "      <td>2341</td>\n",
       "    </tr>\n",
       "    <tr>\n",
       "      <th>3</th>\n",
       "      <td>0</td>\n",
       "      <td>4</td>\n",
       "      <td>4</td>\n",
       "      <td>1941</td>\n",
       "    </tr>\n",
       "    <tr>\n",
       "      <th>4</th>\n",
       "      <td>0</td>\n",
       "      <td>5</td>\n",
       "      <td>4</td>\n",
       "      <td>1643</td>\n",
       "    </tr>\n",
       "  </tbody>\n",
       "</table>\n",
       "</div>"
      ],
      "text/plain": [
       "   Provincia_cod  dia  mes  num_casos\n",
       "0              0    1    4       2930\n",
       "1              0    2    4       2366\n",
       "2              0    3    4       2341\n",
       "3              0    4    4       1941\n",
       "4              0    5    4       1643"
      ]
     },
     "execution_count": 27,
     "metadata": {},
     "output_type": "execute_result"
    }
   ],
   "source": [
    "cases_per_twt_cluster_df.head()"
   ]
  },
  {
   "cell_type": "code",
   "execution_count": 28,
   "metadata": {},
   "outputs": [
    {
     "data": {
      "text/html": [
       "<div>\n",
       "<style scoped>\n",
       "    .dataframe tbody tr th:only-of-type {\n",
       "        vertical-align: middle;\n",
       "    }\n",
       "\n",
       "    .dataframe tbody tr th {\n",
       "        vertical-align: top;\n",
       "    }\n",
       "\n",
       "    .dataframe thead th {\n",
       "        text-align: right;\n",
       "    }\n",
       "</style>\n",
       "<table border=\"1\" class=\"dataframe\">\n",
       "  <thead>\n",
       "    <tr style=\"text-align: right;\">\n",
       "      <th></th>\n",
       "      <th>Provincia_cod</th>\n",
       "      <th>dia</th>\n",
       "      <th>mes</th>\n",
       "      <th>num_casos</th>\n",
       "    </tr>\n",
       "  </thead>\n",
       "  <tbody>\n",
       "    <tr>\n",
       "      <th>632</th>\n",
       "      <td>5</td>\n",
       "      <td>26</td>\n",
       "      <td>6</td>\n",
       "      <td>0</td>\n",
       "    </tr>\n",
       "    <tr>\n",
       "      <th>633</th>\n",
       "      <td>5</td>\n",
       "      <td>27</td>\n",
       "      <td>6</td>\n",
       "      <td>0</td>\n",
       "    </tr>\n",
       "    <tr>\n",
       "      <th>634</th>\n",
       "      <td>5</td>\n",
       "      <td>28</td>\n",
       "      <td>6</td>\n",
       "      <td>0</td>\n",
       "    </tr>\n",
       "    <tr>\n",
       "      <th>635</th>\n",
       "      <td>5</td>\n",
       "      <td>29</td>\n",
       "      <td>6</td>\n",
       "      <td>0</td>\n",
       "    </tr>\n",
       "    <tr>\n",
       "      <th>636</th>\n",
       "      <td>5</td>\n",
       "      <td>30</td>\n",
       "      <td>6</td>\n",
       "      <td>0</td>\n",
       "    </tr>\n",
       "  </tbody>\n",
       "</table>\n",
       "</div>"
      ],
      "text/plain": [
       "     Provincia_cod  dia  mes  num_casos\n",
       "632              5   26    6          0\n",
       "633              5   27    6          0\n",
       "634              5   28    6          0\n",
       "635              5   29    6          0\n",
       "636              5   30    6          0"
      ]
     },
     "execution_count": 28,
     "metadata": {},
     "output_type": "execute_result"
    }
   ],
   "source": [
    "cases_per_twt_cluster_df.tail()"
   ]
  },
  {
   "cell_type": "code",
   "execution_count": 29,
   "metadata": {},
   "outputs": [],
   "source": [
    "cases_per_twt_cluster_df.to_csv(os.path.join('data', 'COVID-19_cases_per_twt_cprov.csv'))"
   ]
  },
  {
   "cell_type": "code",
   "execution_count": 30,
   "metadata": {},
   "outputs": [
    {
     "name": "stdout",
     "output_type": "stream",
     "text": [
      "That's all folks\n"
     ]
    }
   ],
   "source": [
    "print(\"That's all folks\")"
   ]
  }
 ],
 "metadata": {
  "kernelspec": {
   "display_name": "Python 3",
   "language": "python",
   "name": "python3"
  },
  "language_info": {
   "codemirror_mode": {
    "name": "ipython",
    "version": 3
   },
   "file_extension": ".py",
   "mimetype": "text/x-python",
   "name": "python",
   "nbconvert_exporter": "python",
   "pygments_lexer": "ipython3",
   "version": "3.6.5"
  }
 },
 "nbformat": 4,
 "nbformat_minor": 2
}
