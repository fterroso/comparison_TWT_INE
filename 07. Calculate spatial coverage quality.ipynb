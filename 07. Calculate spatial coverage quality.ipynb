{
 "cells": [
  {
   "cell_type": "markdown",
   "metadata": {},
   "source": [
    "Quality metric based on the paper *Urban Sensing Based on Human Mobility* [link](https://www.microsoft.com/en-us/research/wp-content/uploads/2016/06/urban-sensing-Ubicomp2016_Zheng.pdf)"
   ]
  },
  {
   "cell_type": "code",
   "execution_count": 2,
   "metadata": {},
   "outputs": [
    {
     "name": "stderr",
     "output_type": "stream",
     "text": [
      "/home/fterroso/python/lib/python3.6/site-packages/geopandas/_compat.py:88: UserWarning: The Shapely GEOS version (3.8.0-CAPI-1.13.1 ) is incompatible with the GEOS version PyGEOS was compiled with (3.8.1-CAPI-1.13.3). Conversions between both will be slow.\n",
      "  shapely_geos_version, geos_capi_version_string\n"
     ]
    }
   ],
   "source": [
    "import pandas as pd\n",
    "import geopandas as gpd\n",
    "\n",
    "import math\n",
    "\n",
    "from tqdm import tqdm_notebook\n",
    "\n",
    "import os\n",
    "\n",
    "import matplotlib.pyplot as plt\n",
    "%matplotlib inline\n",
    "\n",
    "data_path = '/home/fterroso/data/'"
   ]
  },
  {
   "cell_type": "code",
   "execution_count": 3,
   "metadata": {},
   "outputs": [],
   "source": [
    "import datetime\n",
    "e_date = datetime.datetime.strptime('2020-06-20', '%Y-%m-%d') #datetime.datetime.now()\n",
    "i_date = datetime.datetime.strptime('2020-04-01', '%Y-%m-%d')\n",
    "\n",
    "from datetime import date, timedelta\n",
    "\n",
    "delta = e_date - i_date       # as timedelta\n",
    "\n",
    "target_days = []\n",
    "for i in range(delta.days + 1):\n",
    "    day = i_date + timedelta(days=i)\n",
    "    target_days.append(day)"
   ]
  },
  {
   "cell_type": "code",
   "execution_count": 4,
   "metadata": {},
   "outputs": [],
   "source": [
    "def calculate_metric_for_od_fn(od, Qa_level):\n",
    "    od['p'] = od['total'] /Qa_level\n",
    "    od['log2_p'] = od['p'].apply(lambda x: math.log(x,2) if x > 0 else 0)\n",
    "    od['p_log2_p'] = od['p'] * od['log2_p']\n",
    "    sum_p_log2_p = od['p_log2_p'].sum()\n",
    "    return 0-sum_p_log2_p"
   ]
  },
  {
   "cell_type": "code",
   "execution_count": 5,
   "metadata": {},
   "outputs": [],
   "source": [
    "def calculate_hierarchical_entropy_fn(source, level, Qa_level):\n",
    "    values = []\n",
    "    for date in tqdm_notebook(target_days):\n",
    "        if level == 'MA':\n",
    "            od_date= pd.read_csv(os.path.join('data', 'OD', 'date_{}_OD_{}.csv'.format(source, date.strftime('%Y-%m-%d'))), \n",
    "                            index_col=0)\n",
    "        else:  #province level\n",
    "            od_date= pd.read_csv(os.path.join('data', 'OD', 'date_{}_OD_{}_prov.csv'.format(source, date.strftime('%Y-%m-%d'))), \n",
    "                            index_col=0)\n",
    "        od_date = od_date.drop('total') \n",
    "        values.append((date, calculate_metric_for_od_fn(od_date, Qa_level)))\n",
    "    coverage_df = pd.DataFrame.from_records(values, columns='date metric_value_{}_{}'.format(source,level).split())\n",
    "    coverage_df= coverage_df.set_index('date')\n",
    "    \n",
    "    E_A_k= coverage_df['metric_value_{}_{}'.format(source,level)].sum()\n",
    "    \n",
    "    return E_A_k, coverage_df"
   ]
  },
  {
   "cell_type": "code",
   "execution_count": 6,
   "metadata": {},
   "outputs": [],
   "source": [
    "def calculate_weight_factor_fn(global_od):\n",
    "    I_k= global_od.shape[0]\n",
    "    J_k= global_od.shape[0]\n",
    "    T_k= len(target_days)\n",
    "    \n",
    "    I_1= 3215 # number of mobility areas\n",
    "    J_1= 3215\n",
    "    T_1= len(target_days)\n",
    "    \n",
    "    w_k = math.log(I_1*J_1*T_1,2)/math.log(I_k*J_k*T_k,2)\n",
    "    \n",
    "    return w_k"
   ]
  },
  {
   "cell_type": "code",
   "execution_count": 7,
   "metadata": {},
   "outputs": [],
   "source": [
    "import numpy as np\n",
    "def calculate_metric(source):\n",
    "    k_max = 2\n",
    "        \n",
    "    global_od = pd.read_csv(os.path.join('data', 'OD', 'global_{}_OD.csv'.format(source)), index_col=0)\n",
    "    \n",
    "    w={}\n",
    "    E_A_level = {}\n",
    "    Q_A_level = {}\n",
    "    levels = 'MA PROV'.split()\n",
    "    \n",
    "    coverage_dfs = []\n",
    "      \n",
    "    for k in levels:\n",
    "        global_od = pd.read_csv(os.path.join('data', 'OD', 'global_{}_OD.csv'.format(source)), index_col=0)\n",
    "        if k == 'PROV':\n",
    "            global_od = pd.read_csv(os.path.join('data', 'OD', 'global_{}_OD_prov.csv'.format(source)), index_col=0)\n",
    "        \n",
    "        Q_A_level[k] = global_od.loc['total', 'total'] # total number of trips\n",
    "\n",
    "        w[k]= calculate_weight_factor_fn(global_od)\n",
    "        E_A_level[k], cov_df= calculate_hierarchical_entropy_fn(source, k, Q_A_level[k])\n",
    "        coverage_dfs.append(cov_df)\n",
    "    \n",
    "    E_A = 0\n",
    "    Q_A =0\n",
    "    for k in levels:\n",
    "        E_A += (w[k]*E_A_level[k])/k_max\n",
    "        Q_A += Q_A_level[k]\n",
    "\n",
    "    coverage_evol_df = pd.concat(coverage_dfs, axis=1)\n",
    "    theta_A_alpha = []\n",
    "    for alpha in np.arange(0,1.1,0.1):\n",
    "        theta_A =  (alpha * E_A)+ ((1-alpha)*math.log(Q_A,2))\n",
    "        theta_A_alpha.append((round(alpha,1),theta_A))\n",
    "    \n",
    "    theta_A_df = pd.DataFrame.from_records(theta_A_alpha, columns=\"alpha {}\".format(source).split())\n",
    "    return theta_A_df, coverage_evol_df\n",
    "        "
   ]
  },
  {
   "cell_type": "markdown",
   "metadata": {},
   "source": [
    "## TWT dataset coverage"
   ]
  },
  {
   "cell_type": "code",
   "execution_count": 8,
   "metadata": {
    "scrolled": true
   },
   "outputs": [
    {
     "data": {
      "application/vnd.jupyter.widget-view+json": {
       "model_id": "b400281b914f46d8984904994e9ce4c9",
       "version_major": 2,
       "version_minor": 0
      },
      "text/plain": [
       "HBox(children=(IntProgress(value=0, max=81), HTML(value='')))"
      ]
     },
     "metadata": {},
     "output_type": "display_data"
    },
    {
     "name": "stdout",
     "output_type": "stream",
     "text": [
      "\n"
     ]
    },
    {
     "data": {
      "application/vnd.jupyter.widget-view+json": {
       "model_id": "0122f8189384433793a5196a8e0eb198",
       "version_major": 2,
       "version_minor": 0
      },
      "text/plain": [
       "HBox(children=(IntProgress(value=0, max=81), HTML(value='')))"
      ]
     },
     "metadata": {},
     "output_type": "display_data"
    },
    {
     "name": "stdout",
     "output_type": "stream",
     "text": [
      "\n"
     ]
    }
   ],
   "source": [
    "twt_q, twt_coverage_df = calculate_metric('TWT')"
   ]
  },
  {
   "cell_type": "code",
   "execution_count": 9,
   "metadata": {},
   "outputs": [
    {
     "data": {
      "text/html": [
       "<div>\n",
       "<style scoped>\n",
       "    .dataframe tbody tr th:only-of-type {\n",
       "        vertical-align: middle;\n",
       "    }\n",
       "\n",
       "    .dataframe tbody tr th {\n",
       "        vertical-align: top;\n",
       "    }\n",
       "\n",
       "    .dataframe thead th {\n",
       "        text-align: right;\n",
       "    }\n",
       "</style>\n",
       "<table border=\"1\" class=\"dataframe\">\n",
       "  <thead>\n",
       "    <tr style=\"text-align: right;\">\n",
       "      <th></th>\n",
       "      <th>alpha</th>\n",
       "      <th>TWT</th>\n",
       "    </tr>\n",
       "  </thead>\n",
       "  <tbody>\n",
       "    <tr>\n",
       "      <th>0</th>\n",
       "      <td>0.0</td>\n",
       "      <td>18.999152</td>\n",
       "    </tr>\n",
       "    <tr>\n",
       "      <th>1</th>\n",
       "      <td>0.1</td>\n",
       "      <td>18.577138</td>\n",
       "    </tr>\n",
       "    <tr>\n",
       "      <th>2</th>\n",
       "      <td>0.2</td>\n",
       "      <td>18.155124</td>\n",
       "    </tr>\n",
       "    <tr>\n",
       "      <th>3</th>\n",
       "      <td>0.3</td>\n",
       "      <td>17.733110</td>\n",
       "    </tr>\n",
       "    <tr>\n",
       "      <th>4</th>\n",
       "      <td>0.4</td>\n",
       "      <td>17.311095</td>\n",
       "    </tr>\n",
       "  </tbody>\n",
       "</table>\n",
       "</div>"
      ],
      "text/plain": [
       "   alpha        TWT\n",
       "0    0.0  18.999152\n",
       "1    0.1  18.577138\n",
       "2    0.2  18.155124\n",
       "3    0.3  17.733110\n",
       "4    0.4  17.311095"
      ]
     },
     "execution_count": 9,
     "metadata": {},
     "output_type": "execute_result"
    }
   ],
   "source": [
    "twt_q.head()"
   ]
  },
  {
   "cell_type": "code",
   "execution_count": 10,
   "metadata": {},
   "outputs": [
    {
     "data": {
      "text/html": [
       "<div>\n",
       "<style scoped>\n",
       "    .dataframe tbody tr th:only-of-type {\n",
       "        vertical-align: middle;\n",
       "    }\n",
       "\n",
       "    .dataframe tbody tr th {\n",
       "        vertical-align: top;\n",
       "    }\n",
       "\n",
       "    .dataframe thead th {\n",
       "        text-align: right;\n",
       "    }\n",
       "</style>\n",
       "<table border=\"1\" class=\"dataframe\">\n",
       "  <thead>\n",
       "    <tr style=\"text-align: right;\">\n",
       "      <th></th>\n",
       "      <th>metric_value_TWT_MA</th>\n",
       "      <th>metric_value_TWT_PROV</th>\n",
       "    </tr>\n",
       "    <tr>\n",
       "      <th>date</th>\n",
       "      <th></th>\n",
       "      <th></th>\n",
       "    </tr>\n",
       "  </thead>\n",
       "  <tbody>\n",
       "    <tr>\n",
       "      <th>2020-04-01</th>\n",
       "      <td>0.138879</td>\n",
       "      <td>0.098697</td>\n",
       "    </tr>\n",
       "    <tr>\n",
       "      <th>2020-04-02</th>\n",
       "      <td>0.142513</td>\n",
       "      <td>0.100588</td>\n",
       "    </tr>\n",
       "    <tr>\n",
       "      <th>2020-04-03</th>\n",
       "      <td>0.145796</td>\n",
       "      <td>0.103861</td>\n",
       "    </tr>\n",
       "    <tr>\n",
       "      <th>2020-04-04</th>\n",
       "      <td>0.034814</td>\n",
       "      <td>0.027248</td>\n",
       "    </tr>\n",
       "    <tr>\n",
       "      <th>2020-04-05</th>\n",
       "      <td>0.078799</td>\n",
       "      <td>0.059177</td>\n",
       "    </tr>\n",
       "  </tbody>\n",
       "</table>\n",
       "</div>"
      ],
      "text/plain": [
       "            metric_value_TWT_MA  metric_value_TWT_PROV\n",
       "date                                                  \n",
       "2020-04-01             0.138879               0.098697\n",
       "2020-04-02             0.142513               0.100588\n",
       "2020-04-03             0.145796               0.103861\n",
       "2020-04-04             0.034814               0.027248\n",
       "2020-04-05             0.078799               0.059177"
      ]
     },
     "execution_count": 10,
     "metadata": {},
     "output_type": "execute_result"
    }
   ],
   "source": [
    "twt_coverage_df.head()"
   ]
  },
  {
   "cell_type": "markdown",
   "metadata": {},
   "source": [
    "## INE dataset coverage"
   ]
  },
  {
   "cell_type": "code",
   "execution_count": 11,
   "metadata": {
    "scrolled": false
   },
   "outputs": [
    {
     "data": {
      "application/vnd.jupyter.widget-view+json": {
       "model_id": "57594057ab514c05ad8f7ccb53d8b811",
       "version_major": 2,
       "version_minor": 0
      },
      "text/plain": [
       "HBox(children=(IntProgress(value=0, max=81), HTML(value='')))"
      ]
     },
     "metadata": {},
     "output_type": "display_data"
    },
    {
     "name": "stdout",
     "output_type": "stream",
     "text": [
      "\n"
     ]
    },
    {
     "data": {
      "application/vnd.jupyter.widget-view+json": {
       "model_id": "3cde0e449f35475e8e470033a51f483e",
       "version_major": 2,
       "version_minor": 0
      },
      "text/plain": [
       "HBox(children=(IntProgress(value=0, max=81), HTML(value='')))"
      ]
     },
     "metadata": {},
     "output_type": "display_data"
    },
    {
     "name": "stdout",
     "output_type": "stream",
     "text": [
      "\n"
     ]
    }
   ],
   "source": [
    "ine_q, ine_coverage_df = calculate_metric('INE')"
   ]
  },
  {
   "cell_type": "code",
   "execution_count": 12,
   "metadata": {},
   "outputs": [
    {
     "data": {
      "text/html": [
       "<div>\n",
       "<style scoped>\n",
       "    .dataframe tbody tr th:only-of-type {\n",
       "        vertical-align: middle;\n",
       "    }\n",
       "\n",
       "    .dataframe tbody tr th {\n",
       "        vertical-align: top;\n",
       "    }\n",
       "\n",
       "    .dataframe thead th {\n",
       "        text-align: right;\n",
       "    }\n",
       "</style>\n",
       "<table border=\"1\" class=\"dataframe\">\n",
       "  <thead>\n",
       "    <tr style=\"text-align: right;\">\n",
       "      <th></th>\n",
       "      <th>alpha</th>\n",
       "      <th>INE</th>\n",
       "    </tr>\n",
       "  </thead>\n",
       "  <tbody>\n",
       "    <tr>\n",
       "      <th>0</th>\n",
       "      <td>0.0</td>\n",
       "      <td>28.133170</td>\n",
       "    </tr>\n",
       "    <tr>\n",
       "      <th>1</th>\n",
       "      <td>0.1</td>\n",
       "      <td>27.069012</td>\n",
       "    </tr>\n",
       "    <tr>\n",
       "      <th>2</th>\n",
       "      <td>0.2</td>\n",
       "      <td>26.004853</td>\n",
       "    </tr>\n",
       "    <tr>\n",
       "      <th>3</th>\n",
       "      <td>0.3</td>\n",
       "      <td>24.940695</td>\n",
       "    </tr>\n",
       "    <tr>\n",
       "      <th>4</th>\n",
       "      <td>0.4</td>\n",
       "      <td>23.876537</td>\n",
       "    </tr>\n",
       "  </tbody>\n",
       "</table>\n",
       "</div>"
      ],
      "text/plain": [
       "   alpha        INE\n",
       "0    0.0  28.133170\n",
       "1    0.1  27.069012\n",
       "2    0.2  26.004853\n",
       "3    0.3  24.940695\n",
       "4    0.4  23.876537"
      ]
     },
     "execution_count": 12,
     "metadata": {},
     "output_type": "execute_result"
    }
   ],
   "source": [
    "ine_q.head()"
   ]
  },
  {
   "cell_type": "code",
   "execution_count": 13,
   "metadata": {},
   "outputs": [
    {
     "data": {
      "text/html": [
       "<div>\n",
       "<style scoped>\n",
       "    .dataframe tbody tr th:only-of-type {\n",
       "        vertical-align: middle;\n",
       "    }\n",
       "\n",
       "    .dataframe tbody tr th {\n",
       "        vertical-align: top;\n",
       "    }\n",
       "\n",
       "    .dataframe thead th {\n",
       "        text-align: right;\n",
       "    }\n",
       "</style>\n",
       "<table border=\"1\" class=\"dataframe\">\n",
       "  <thead>\n",
       "    <tr style=\"text-align: right;\">\n",
       "      <th></th>\n",
       "      <th>metric_value_INE_MA</th>\n",
       "      <th>metric_value_INE_PROV</th>\n",
       "    </tr>\n",
       "    <tr>\n",
       "      <th>date</th>\n",
       "      <th></th>\n",
       "      <th></th>\n",
       "    </tr>\n",
       "  </thead>\n",
       "  <tbody>\n",
       "    <tr>\n",
       "      <th>2020-04-01</th>\n",
       "      <td>0.134999</td>\n",
       "      <td>0.127690</td>\n",
       "    </tr>\n",
       "    <tr>\n",
       "      <th>2020-04-02</th>\n",
       "      <td>0.137292</td>\n",
       "      <td>0.124143</td>\n",
       "    </tr>\n",
       "    <tr>\n",
       "      <th>2020-04-03</th>\n",
       "      <td>0.152497</td>\n",
       "      <td>0.130662</td>\n",
       "    </tr>\n",
       "    <tr>\n",
       "      <th>2020-04-04</th>\n",
       "      <td>0.119120</td>\n",
       "      <td>0.117999</td>\n",
       "    </tr>\n",
       "    <tr>\n",
       "      <th>2020-04-05</th>\n",
       "      <td>0.099050</td>\n",
       "      <td>0.121126</td>\n",
       "    </tr>\n",
       "  </tbody>\n",
       "</table>\n",
       "</div>"
      ],
      "text/plain": [
       "            metric_value_INE_MA  metric_value_INE_PROV\n",
       "date                                                  \n",
       "2020-04-01             0.134999               0.127690\n",
       "2020-04-02             0.137292               0.124143\n",
       "2020-04-03             0.152497               0.130662\n",
       "2020-04-04             0.119120               0.117999\n",
       "2020-04-05             0.099050               0.121126"
      ]
     },
     "execution_count": 13,
     "metadata": {},
     "output_type": "execute_result"
    }
   ],
   "source": [
    "ine_coverage_df.head()"
   ]
  },
  {
   "cell_type": "code",
   "execution_count": 14,
   "metadata": {},
   "outputs": [],
   "source": [
    "Q_df = pd.concat([twt_q.set_index('alpha'), ine_q.set_index('alpha')],axis=1)"
   ]
  },
  {
   "cell_type": "code",
   "execution_count": 15,
   "metadata": {
    "scrolled": true
   },
   "outputs": [
    {
     "data": {
      "text/html": [
       "<div>\n",
       "<style scoped>\n",
       "    .dataframe tbody tr th:only-of-type {\n",
       "        vertical-align: middle;\n",
       "    }\n",
       "\n",
       "    .dataframe tbody tr th {\n",
       "        vertical-align: top;\n",
       "    }\n",
       "\n",
       "    .dataframe thead th {\n",
       "        text-align: right;\n",
       "    }\n",
       "</style>\n",
       "<table border=\"1\" class=\"dataframe\">\n",
       "  <thead>\n",
       "    <tr style=\"text-align: right;\">\n",
       "      <th></th>\n",
       "      <th>TWT</th>\n",
       "      <th>INE</th>\n",
       "    </tr>\n",
       "    <tr>\n",
       "      <th>alpha</th>\n",
       "      <th></th>\n",
       "      <th></th>\n",
       "    </tr>\n",
       "  </thead>\n",
       "  <tbody>\n",
       "    <tr>\n",
       "      <th>0.0</th>\n",
       "      <td>18.999152</td>\n",
       "      <td>28.133170</td>\n",
       "    </tr>\n",
       "    <tr>\n",
       "      <th>0.1</th>\n",
       "      <td>18.577138</td>\n",
       "      <td>27.069012</td>\n",
       "    </tr>\n",
       "    <tr>\n",
       "      <th>0.2</th>\n",
       "      <td>18.155124</td>\n",
       "      <td>26.004853</td>\n",
       "    </tr>\n",
       "    <tr>\n",
       "      <th>0.3</th>\n",
       "      <td>17.733110</td>\n",
       "      <td>24.940695</td>\n",
       "    </tr>\n",
       "    <tr>\n",
       "      <th>0.4</th>\n",
       "      <td>17.311095</td>\n",
       "      <td>23.876537</td>\n",
       "    </tr>\n",
       "  </tbody>\n",
       "</table>\n",
       "</div>"
      ],
      "text/plain": [
       "             TWT        INE\n",
       "alpha                      \n",
       "0.0    18.999152  28.133170\n",
       "0.1    18.577138  27.069012\n",
       "0.2    18.155124  26.004853\n",
       "0.3    17.733110  24.940695\n",
       "0.4    17.311095  23.876537"
      ]
     },
     "execution_count": 15,
     "metadata": {},
     "output_type": "execute_result"
    }
   ],
   "source": [
    "Q_df.head()"
   ]
  },
  {
   "cell_type": "code",
   "execution_count": 16,
   "metadata": {
    "scrolled": false
   },
   "outputs": [
    {
     "data": {
      "image/png": "[encoded data removed]",
      "text/plain": [
       "<Figure size 432x288 with 1 Axes>"
      ]
     },
     "metadata": {
      "needs_background": "light"
     },
     "output_type": "display_data"
    }
   ],
   "source": [
    "ax= Q_df.plot(kind='bar', grid=True);\n",
    "ax.set_ylabel(r'$\\varphi$(A)',fontsize=15)\n",
    "ax.set_xlabel(r'$\\alpha$',fontsize=15)\n",
    "plt.tight_layout()\n",
    "plt.savefig(os.path.join('figs', 'quality_matrics.png'))"
   ]
  },
  {
   "cell_type": "code",
   "execution_count": 17,
   "metadata": {},
   "outputs": [],
   "source": [
    "coverage_df = pd.concat([twt_coverage_df, ine_coverage_df],axis=1)"
   ]
  },
  {
   "cell_type": "code",
   "execution_count": 18,
   "metadata": {},
   "outputs": [
    {
     "data": {
      "text/html": [
       "<div>\n",
       "<style scoped>\n",
       "    .dataframe tbody tr th:only-of-type {\n",
       "        vertical-align: middle;\n",
       "    }\n",
       "\n",
       "    .dataframe tbody tr th {\n",
       "        vertical-align: top;\n",
       "    }\n",
       "\n",
       "    .dataframe thead th {\n",
       "        text-align: right;\n",
       "    }\n",
       "</style>\n",
       "<table border=\"1\" class=\"dataframe\">\n",
       "  <thead>\n",
       "    <tr style=\"text-align: right;\">\n",
       "      <th></th>\n",
       "      <th>metric_value_TWT_MA</th>\n",
       "      <th>metric_value_TWT_PROV</th>\n",
       "      <th>metric_value_INE_MA</th>\n",
       "      <th>metric_value_INE_PROV</th>\n",
       "    </tr>\n",
       "    <tr>\n",
       "      <th>date</th>\n",
       "      <th></th>\n",
       "      <th></th>\n",
       "      <th></th>\n",
       "      <th></th>\n",
       "    </tr>\n",
       "  </thead>\n",
       "  <tbody>\n",
       "    <tr>\n",
       "      <th>2020-04-01</th>\n",
       "      <td>0.138879</td>\n",
       "      <td>0.098697</td>\n",
       "      <td>0.134999</td>\n",
       "      <td>0.127690</td>\n",
       "    </tr>\n",
       "    <tr>\n",
       "      <th>2020-04-02</th>\n",
       "      <td>0.142513</td>\n",
       "      <td>0.100588</td>\n",
       "      <td>0.137292</td>\n",
       "      <td>0.124143</td>\n",
       "    </tr>\n",
       "    <tr>\n",
       "      <th>2020-04-03</th>\n",
       "      <td>0.145796</td>\n",
       "      <td>0.103861</td>\n",
       "      <td>0.152497</td>\n",
       "      <td>0.130662</td>\n",
       "    </tr>\n",
       "    <tr>\n",
       "      <th>2020-04-04</th>\n",
       "      <td>0.034814</td>\n",
       "      <td>0.027248</td>\n",
       "      <td>0.119120</td>\n",
       "      <td>0.117999</td>\n",
       "    </tr>\n",
       "    <tr>\n",
       "      <th>2020-04-05</th>\n",
       "      <td>0.078799</td>\n",
       "      <td>0.059177</td>\n",
       "      <td>0.099050</td>\n",
       "      <td>0.121126</td>\n",
       "    </tr>\n",
       "  </tbody>\n",
       "</table>\n",
       "</div>"
      ],
      "text/plain": [
       "            metric_value_TWT_MA  metric_value_TWT_PROV  metric_value_INE_MA  \\\n",
       "date                                                                          \n",
       "2020-04-01             0.138879               0.098697             0.134999   \n",
       "2020-04-02             0.142513               0.100588             0.137292   \n",
       "2020-04-03             0.145796               0.103861             0.152497   \n",
       "2020-04-04             0.034814               0.027248             0.119120   \n",
       "2020-04-05             0.078799               0.059177             0.099050   \n",
       "\n",
       "            metric_value_INE_PROV  \n",
       "date                               \n",
       "2020-04-01               0.127690  \n",
       "2020-04-02               0.124143  \n",
       "2020-04-03               0.130662  \n",
       "2020-04-04               0.117999  \n",
       "2020-04-05               0.121126  "
      ]
     },
     "execution_count": 18,
     "metadata": {},
     "output_type": "execute_result"
    }
   ],
   "source": [
    "coverage_df.head()"
   ]
  },
  {
   "cell_type": "code",
   "execution_count": 19,
   "metadata": {},
   "outputs": [
    {
     "data": {
      "text/plain": [
       "<matplotlib.axes._subplots.AxesSubplot at 0x7feb3b81f978>"
      ]
     },
     "execution_count": 19,
     "metadata": {},
     "output_type": "execute_result"
    },
    {
     "data": {
      "image/png": "[encoded data removed]",
      "text/plain": [
       "<Figure size 432x288 with 1 Axes>"
      ]
     },
     "metadata": {
      "needs_background": "light"
     },
     "output_type": "display_data"
    }
   ],
   "source": [
    "coverage_df.plot(grid=True)"
   ]
  },
  {
   "cell_type": "markdown",
   "metadata": {},
   "source": [
    "## Distribution of trips study"
   ]
  },
  {
   "cell_type": "code",
   "execution_count": 20,
   "metadata": {},
   "outputs": [],
   "source": [
    "global_twt_od = pd.read_csv(os.path.join('data', 'OD', 'global_TWT_OD.csv'), index_col=0)"
   ]
  },
  {
   "cell_type": "code",
   "execution_count": 21,
   "metadata": {},
   "outputs": [],
   "source": [
    "global_ine_od = pd.read_csv(os.path.join('data', 'OD', 'global_INE_OD.csv'), index_col=0)"
   ]
  },
  {
   "cell_type": "code",
   "execution_count": 22,
   "metadata": {},
   "outputs": [],
   "source": [
    "global_twt_od['norm_total']= global_twt_od['total'] / global_twt_od.loc['total','total']"
   ]
  },
  {
   "cell_type": "code",
   "execution_count": 23,
   "metadata": {},
   "outputs": [],
   "source": [
    "global_ine_od['norm_total']= global_ine_od['total'] / global_ine_od.loc['total','total']"
   ]
  },
  {
   "cell_type": "code",
   "execution_count": 24,
   "metadata": {},
   "outputs": [],
   "source": [
    "global_twt_od['rank']= global_twt_od['norm_total'].rank(method='first', ascending=False)"
   ]
  },
  {
   "cell_type": "code",
   "execution_count": 25,
   "metadata": {},
   "outputs": [],
   "source": [
    "global_ine_od['rank']= global_ine_od['norm_total'].rank(method='first', ascending=False)"
   ]
  },
  {
   "cell_type": "code",
   "execution_count": 26,
   "metadata": {},
   "outputs": [],
   "source": [
    "global_twt_od= global_twt_od.drop('total')"
   ]
  },
  {
   "cell_type": "code",
   "execution_count": 27,
   "metadata": {},
   "outputs": [],
   "source": [
    "global_ine_od= global_ine_od.drop('total')"
   ]
  },
  {
   "cell_type": "code",
   "execution_count": 28,
   "metadata": {},
   "outputs": [
    {
     "data": {
      "text/html": [
       "<div>\n",
       "<style scoped>\n",
       "    .dataframe tbody tr th:only-of-type {\n",
       "        vertical-align: middle;\n",
       "    }\n",
       "\n",
       "    .dataframe tbody tr th {\n",
       "        vertical-align: top;\n",
       "    }\n",
       "\n",
       "    .dataframe thead th {\n",
       "        text-align: right;\n",
       "    }\n",
       "</style>\n",
       "<table border=\"1\" class=\"dataframe\">\n",
       "  <thead>\n",
       "    <tr style=\"text-align: right;\">\n",
       "      <th></th>\n",
       "      <th>001A</th>\n",
       "      <th>001B</th>\n",
       "      <th>001M</th>\n",
       "      <th>001S</th>\n",
       "      <th>001V</th>\n",
       "      <th>002A</th>\n",
       "      <th>002B</th>\n",
       "      <th>002M</th>\n",
       "      <th>002S</th>\n",
       "      <th>002V</th>\n",
       "      <th>...</th>\n",
       "      <th>58TF</th>\n",
       "      <th>43AL</th>\n",
       "      <th>44AL</th>\n",
       "      <th>45AL</th>\n",
       "      <th>53MA</th>\n",
       "      <th>79MA</th>\n",
       "      <th>80MA</th>\n",
       "      <th>total</th>\n",
       "      <th>norm_total</th>\n",
       "      <th>rank</th>\n",
       "    </tr>\n",
       "  </thead>\n",
       "  <tbody>\n",
       "    <tr>\n",
       "      <th>44AL</th>\n",
       "      <td>0</td>\n",
       "      <td>0</td>\n",
       "      <td>0</td>\n",
       "      <td>0</td>\n",
       "      <td>0</td>\n",
       "      <td>0</td>\n",
       "      <td>0</td>\n",
       "      <td>0</td>\n",
       "      <td>0</td>\n",
       "      <td>0</td>\n",
       "      <td>...</td>\n",
       "      <td>0</td>\n",
       "      <td>73</td>\n",
       "      <td>0</td>\n",
       "      <td>5</td>\n",
       "      <td>0</td>\n",
       "      <td>0</td>\n",
       "      <td>0</td>\n",
       "      <td>251</td>\n",
       "      <td>0.000958</td>\n",
       "      <td>180.0</td>\n",
       "    </tr>\n",
       "    <tr>\n",
       "      <th>45AL</th>\n",
       "      <td>0</td>\n",
       "      <td>0</td>\n",
       "      <td>0</td>\n",
       "      <td>0</td>\n",
       "      <td>0</td>\n",
       "      <td>0</td>\n",
       "      <td>0</td>\n",
       "      <td>0</td>\n",
       "      <td>0</td>\n",
       "      <td>0</td>\n",
       "      <td>...</td>\n",
       "      <td>0</td>\n",
       "      <td>4</td>\n",
       "      <td>15</td>\n",
       "      <td>0</td>\n",
       "      <td>0</td>\n",
       "      <td>0</td>\n",
       "      <td>0</td>\n",
       "      <td>31</td>\n",
       "      <td>0.000118</td>\n",
       "      <td>1472.0</td>\n",
       "    </tr>\n",
       "    <tr>\n",
       "      <th>53MA</th>\n",
       "      <td>0</td>\n",
       "      <td>0</td>\n",
       "      <td>0</td>\n",
       "      <td>0</td>\n",
       "      <td>0</td>\n",
       "      <td>0</td>\n",
       "      <td>0</td>\n",
       "      <td>0</td>\n",
       "      <td>0</td>\n",
       "      <td>0</td>\n",
       "      <td>...</td>\n",
       "      <td>0</td>\n",
       "      <td>0</td>\n",
       "      <td>0</td>\n",
       "      <td>0</td>\n",
       "      <td>0</td>\n",
       "      <td>23</td>\n",
       "      <td>0</td>\n",
       "      <td>27</td>\n",
       "      <td>0.000103</td>\n",
       "      <td>1597.0</td>\n",
       "    </tr>\n",
       "    <tr>\n",
       "      <th>79MA</th>\n",
       "      <td>0</td>\n",
       "      <td>0</td>\n",
       "      <td>0</td>\n",
       "      <td>0</td>\n",
       "      <td>0</td>\n",
       "      <td>0</td>\n",
       "      <td>0</td>\n",
       "      <td>0</td>\n",
       "      <td>0</td>\n",
       "      <td>0</td>\n",
       "      <td>...</td>\n",
       "      <td>0</td>\n",
       "      <td>0</td>\n",
       "      <td>0</td>\n",
       "      <td>0</td>\n",
       "      <td>23</td>\n",
       "      <td>0</td>\n",
       "      <td>23</td>\n",
       "      <td>552</td>\n",
       "      <td>0.002107</td>\n",
       "      <td>62.0</td>\n",
       "    </tr>\n",
       "    <tr>\n",
       "      <th>80MA</th>\n",
       "      <td>0</td>\n",
       "      <td>0</td>\n",
       "      <td>0</td>\n",
       "      <td>0</td>\n",
       "      <td>0</td>\n",
       "      <td>0</td>\n",
       "      <td>0</td>\n",
       "      <td>0</td>\n",
       "      <td>0</td>\n",
       "      <td>0</td>\n",
       "      <td>...</td>\n",
       "      <td>0</td>\n",
       "      <td>0</td>\n",
       "      <td>0</td>\n",
       "      <td>0</td>\n",
       "      <td>0</td>\n",
       "      <td>36</td>\n",
       "      <td>0</td>\n",
       "      <td>87</td>\n",
       "      <td>0.000332</td>\n",
       "      <td>614.0</td>\n",
       "    </tr>\n",
       "  </tbody>\n",
       "</table>\n",
       "<p>5 rows × 3217 columns</p>\n",
       "</div>"
      ],
      "text/plain": [
       "      001A  001B  001M  001S  001V  002A  002B  002M  002S  002V  ...  58TF  \\\n",
       "44AL     0     0     0     0     0     0     0     0     0     0  ...     0   \n",
       "45AL     0     0     0     0     0     0     0     0     0     0  ...     0   \n",
       "53MA     0     0     0     0     0     0     0     0     0     0  ...     0   \n",
       "79MA     0     0     0     0     0     0     0     0     0     0  ...     0   \n",
       "80MA     0     0     0     0     0     0     0     0     0     0  ...     0   \n",
       "\n",
       "      43AL  44AL  45AL  53MA  79MA  80MA  total  norm_total    rank  \n",
       "44AL    73     0     5     0     0     0    251    0.000958   180.0  \n",
       "45AL     4    15     0     0     0     0     31    0.000118  1472.0  \n",
       "53MA     0     0     0     0    23     0     27    0.000103  1597.0  \n",
       "79MA     0     0     0    23     0    23    552    0.002107    62.0  \n",
       "80MA     0     0     0     0    36     0     87    0.000332   614.0  \n",
       "\n",
       "[5 rows x 3217 columns]"
      ]
     },
     "execution_count": 28,
     "metadata": {},
     "output_type": "execute_result"
    }
   ],
   "source": [
    "global_twt_od.tail()"
   ]
  },
  {
   "cell_type": "code",
   "execution_count": 29,
   "metadata": {
    "scrolled": true
   },
   "outputs": [
    {
     "data": {
      "text/html": [
       "<div>\n",
       "<style scoped>\n",
       "    .dataframe tbody tr th:only-of-type {\n",
       "        vertical-align: middle;\n",
       "    }\n",
       "\n",
       "    .dataframe tbody tr th {\n",
       "        vertical-align: top;\n",
       "    }\n",
       "\n",
       "    .dataframe thead th {\n",
       "        text-align: right;\n",
       "    }\n",
       "</style>\n",
       "<table border=\"1\" class=\"dataframe\">\n",
       "  <thead>\n",
       "    <tr style=\"text-align: right;\">\n",
       "      <th></th>\n",
       "      <th>001A</th>\n",
       "      <th>001B</th>\n",
       "      <th>001M</th>\n",
       "      <th>001S</th>\n",
       "      <th>001V</th>\n",
       "      <th>002A</th>\n",
       "      <th>002B</th>\n",
       "      <th>002M</th>\n",
       "      <th>002S</th>\n",
       "      <th>002V</th>\n",
       "      <th>...</th>\n",
       "      <th>58TF</th>\n",
       "      <th>43AL</th>\n",
       "      <th>44AL</th>\n",
       "      <th>45AL</th>\n",
       "      <th>53MA</th>\n",
       "      <th>79MA</th>\n",
       "      <th>80MA</th>\n",
       "      <th>total</th>\n",
       "      <th>norm_total</th>\n",
       "      <th>rank</th>\n",
       "    </tr>\n",
       "  </thead>\n",
       "  <tbody>\n",
       "    <tr>\n",
       "      <th>44AL</th>\n",
       "      <td>0</td>\n",
       "      <td>0</td>\n",
       "      <td>0</td>\n",
       "      <td>0</td>\n",
       "      <td>0</td>\n",
       "      <td>0</td>\n",
       "      <td>0</td>\n",
       "      <td>0</td>\n",
       "      <td>0</td>\n",
       "      <td>0</td>\n",
       "      <td>...</td>\n",
       "      <td>0</td>\n",
       "      <td>46805</td>\n",
       "      <td>0</td>\n",
       "      <td>55692</td>\n",
       "      <td>0</td>\n",
       "      <td>0</td>\n",
       "      <td>0</td>\n",
       "      <td>147225</td>\n",
       "      <td>0.000504</td>\n",
       "      <td>717.0</td>\n",
       "    </tr>\n",
       "    <tr>\n",
       "      <th>45AL</th>\n",
       "      <td>0</td>\n",
       "      <td>0</td>\n",
       "      <td>0</td>\n",
       "      <td>0</td>\n",
       "      <td>0</td>\n",
       "      <td>0</td>\n",
       "      <td>0</td>\n",
       "      <td>0</td>\n",
       "      <td>0</td>\n",
       "      <td>0</td>\n",
       "      <td>...</td>\n",
       "      <td>0</td>\n",
       "      <td>80201</td>\n",
       "      <td>104546</td>\n",
       "      <td>0</td>\n",
       "      <td>0</td>\n",
       "      <td>0</td>\n",
       "      <td>0</td>\n",
       "      <td>239148</td>\n",
       "      <td>0.000818</td>\n",
       "      <td>284.0</td>\n",
       "    </tr>\n",
       "    <tr>\n",
       "      <th>53MA</th>\n",
       "      <td>0</td>\n",
       "      <td>0</td>\n",
       "      <td>0</td>\n",
       "      <td>0</td>\n",
       "      <td>0</td>\n",
       "      <td>0</td>\n",
       "      <td>0</td>\n",
       "      <td>0</td>\n",
       "      <td>0</td>\n",
       "      <td>0</td>\n",
       "      <td>...</td>\n",
       "      <td>0</td>\n",
       "      <td>0</td>\n",
       "      <td>0</td>\n",
       "      <td>0</td>\n",
       "      <td>0</td>\n",
       "      <td>109765</td>\n",
       "      <td>36900</td>\n",
       "      <td>355433</td>\n",
       "      <td>0.001216</td>\n",
       "      <td>86.0</td>\n",
       "    </tr>\n",
       "    <tr>\n",
       "      <th>79MA</th>\n",
       "      <td>0</td>\n",
       "      <td>0</td>\n",
       "      <td>0</td>\n",
       "      <td>0</td>\n",
       "      <td>0</td>\n",
       "      <td>0</td>\n",
       "      <td>0</td>\n",
       "      <td>0</td>\n",
       "      <td>0</td>\n",
       "      <td>0</td>\n",
       "      <td>...</td>\n",
       "      <td>0</td>\n",
       "      <td>0</td>\n",
       "      <td>0</td>\n",
       "      <td>0</td>\n",
       "      <td>59748</td>\n",
       "      <td>0</td>\n",
       "      <td>28810</td>\n",
       "      <td>227763</td>\n",
       "      <td>0.000779</td>\n",
       "      <td>318.0</td>\n",
       "    </tr>\n",
       "    <tr>\n",
       "      <th>80MA</th>\n",
       "      <td>0</td>\n",
       "      <td>0</td>\n",
       "      <td>0</td>\n",
       "      <td>0</td>\n",
       "      <td>0</td>\n",
       "      <td>0</td>\n",
       "      <td>0</td>\n",
       "      <td>0</td>\n",
       "      <td>0</td>\n",
       "      <td>0</td>\n",
       "      <td>...</td>\n",
       "      <td>0</td>\n",
       "      <td>0</td>\n",
       "      <td>0</td>\n",
       "      <td>0</td>\n",
       "      <td>16564</td>\n",
       "      <td>25721</td>\n",
       "      <td>0</td>\n",
       "      <td>130205</td>\n",
       "      <td>0.000445</td>\n",
       "      <td>825.0</td>\n",
       "    </tr>\n",
       "  </tbody>\n",
       "</table>\n",
       "<p>5 rows × 3217 columns</p>\n",
       "</div>"
      ],
      "text/plain": [
       "      001A  001B  001M  001S  001V  002A  002B  002M  002S  002V  ...  58TF  \\\n",
       "44AL     0     0     0     0     0     0     0     0     0     0  ...     0   \n",
       "45AL     0     0     0     0     0     0     0     0     0     0  ...     0   \n",
       "53MA     0     0     0     0     0     0     0     0     0     0  ...     0   \n",
       "79MA     0     0     0     0     0     0     0     0     0     0  ...     0   \n",
       "80MA     0     0     0     0     0     0     0     0     0     0  ...     0   \n",
       "\n",
       "       43AL    44AL   45AL   53MA    79MA   80MA   total  norm_total   rank  \n",
       "44AL  46805       0  55692      0       0      0  147225    0.000504  717.0  \n",
       "45AL  80201  104546      0      0       0      0  239148    0.000818  284.0  \n",
       "53MA      0       0      0      0  109765  36900  355433    0.001216   86.0  \n",
       "79MA      0       0      0  59748       0  28810  227763    0.000779  318.0  \n",
       "80MA      0       0      0  16564   25721      0  130205    0.000445  825.0  \n",
       "\n",
       "[5 rows x 3217 columns]"
      ]
     },
     "execution_count": 29,
     "metadata": {},
     "output_type": "execute_result"
    }
   ],
   "source": [
    "global_ine_od.tail()"
   ]
  },
  {
   "cell_type": "code",
   "execution_count": 30,
   "metadata": {},
   "outputs": [],
   "source": [
    "import numpy as np"
   ]
  },
  {
   "cell_type": "code",
   "execution_count": 33,
   "metadata": {
    "scrolled": true
   },
   "outputs": [
    {
     "data": {
      "image/png": "[encoded data removed]",
      "text/plain": [
       "<Figure size 432x288 with 1 Axes>"
      ]
     },
     "metadata": {
      "needs_background": "light"
     },
     "output_type": "display_data"
    }
   ],
   "source": [
    "ax= global_ine_od['rank norm_total'.split()].plot(kind='scatter', x='rank', y='norm_total', grid=True, label='INE')#, logy=True)\n",
    "global_twt_od['rank norm_total'.split()].plot(ax=ax,kind='scatter', x='rank', y='norm_total', grid=True, color='red', label='TWT')#, logx=True, color='red')\n",
    "ax.set_ylabel('rate of outgoing trips',fontsize=15)\n",
    "ax.set_xlabel('MA rank',fontsize=15)\n",
    "ax.set_xlim(1,50)\n",
    "plt.tight_layout()\n",
    "plt.savefig(os.path.join('figs', 'rate_trips_ma.png'))"
   ]
  }
 ],
 "metadata": {
  "kernelspec": {
   "display_name": "Python 3",
   "language": "python",
   "name": "python3"
  },
  "language_info": {
   "codemirror_mode": {
    "name": "ipython",
    "version": 3
   },
   "file_extension": ".py",
   "mimetype": "text/x-python",
   "name": "python",
   "nbconvert_exporter": "python",
   "pygments_lexer": "ipython3",
   "version": "3.6.5"
  }
 },
 "nbformat": 4,
 "nbformat_minor": 2
}
