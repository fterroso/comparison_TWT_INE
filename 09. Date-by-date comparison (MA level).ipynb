{
 "cells": [
  {
   "cell_type": "code",
   "execution_count": 1,
   "metadata": {
    "scrolled": false
   },
   "outputs": [
    {
     "name": "stderr",
     "output_type": "stream",
     "text": [
      "/home/fterroso/python/lib/python3.6/site-packages/geopandas/_compat.py:88: UserWarning: The Shapely GEOS version (3.8.0-CAPI-1.13.1 ) is incompatible with the GEOS version PyGEOS was compiled with (3.8.1-CAPI-1.13.3). Conversions between both will be slow.\n",
      "  shapely_geos_version, geos_capi_version_string\n"
     ]
    }
   ],
   "source": [
    "import pandas as pd\n",
    "import geopandas as gpd\n",
    "import numpy as np\n",
    "\n",
    "from tqdm import tqdm_notebook\n",
    "\n",
    "import matplotlib.pyplot as plt\n",
    "%matplotlib inline\n",
    "\n",
    "\n",
    "import os\n",
    "\n",
    "data_path = '/home/fterroso/data/'"
   ]
  },
  {
   "cell_type": "code",
   "execution_count": 2,
   "metadata": {},
   "outputs": [],
   "source": [
    "import warnings\n",
    "warnings.filterwarnings(\"ignore\")"
   ]
  },
  {
   "cell_type": "code",
   "execution_count": 3,
   "metadata": {},
   "outputs": [],
   "source": [
    "import datetime\n",
    "e_date = datetime.datetime.strptime('2020-06-20', '%Y-%m-%d') #datetime.datetime.now()\n",
    "i_date = datetime.datetime.strptime('2020-04-01', '%Y-%m-%d')\n",
    "\n",
    "from datetime import date, timedelta\n",
    "\n",
    "delta = e_date - i_date       # as timedelta\n",
    "\n",
    "target_days = []\n",
    "for i in range(delta.days + 1):\n",
    "    day = i_date + timedelta(days=i)\n",
    "    target_days.append(day)"
   ]
  },
  {
   "cell_type": "code",
   "execution_count": 4,
   "metadata": {},
   "outputs": [],
   "source": [
    "def read_OD_fn(source_type):\n",
    "    ods = {}\n",
    "    for date in tqdm_notebook(target_days):\n",
    "        od_date= pd.read_csv(os.path.join('data', 'OD', 'date_{}_OD_{}.csv'.format(source_type,date.strftime('%Y-%m-%d'))), \n",
    "                            index_col=0)\n",
    "        ods[date] = od_date\n",
    "    return ods"
   ]
  },
  {
   "cell_type": "code",
   "execution_count": 5,
   "metadata": {},
   "outputs": [
    {
     "data": {
      "application/vnd.jupyter.widget-view+json": {
       "model_id": "085241f95ffc4f0aac3c337181518724",
       "version_major": 2,
       "version_minor": 0
      },
      "text/plain": [
       "HBox(children=(IntProgress(value=0, max=81), HTML(value='')))"
      ]
     },
     "metadata": {},
     "output_type": "display_data"
    },
    {
     "name": "stdout",
     "output_type": "stream",
     "text": [
      "\n"
     ]
    }
   ],
   "source": [
    "twt_ods = read_OD_fn('TWT')"
   ]
  },
  {
   "cell_type": "code",
   "execution_count": 6,
   "metadata": {},
   "outputs": [
    {
     "data": {
      "application/vnd.jupyter.widget-view+json": {
       "model_id": "4e15347d06954869906e1a1a198677dd",
       "version_major": 2,
       "version_minor": 0
      },
      "text/plain": [
       "HBox(children=(IntProgress(value=0, max=81), HTML(value='')))"
      ]
     },
     "metadata": {},
     "output_type": "display_data"
    },
    {
     "name": "stdout",
     "output_type": "stream",
     "text": [
      "\n"
     ]
    }
   ],
   "source": [
    "ine_ods = read_OD_fn('INE')"
   ]
  },
  {
   "cell_type": "markdown",
   "metadata": {},
   "source": [
    "## Fix data gaps"
   ]
  },
  {
   "cell_type": "markdown",
   "metadata": {},
   "source": [
    "### OD with too many values (wrong aggregation)"
   ]
  },
  {
   "cell_type": "code",
   "execution_count": 7,
   "metadata": {},
   "outputs": [],
   "source": [
    "date_ = datetime.datetime.strptime('2020-04-07', '%Y-%m-%d')\n",
    "\n",
    "twt_od = twt_ods[date_]\n",
    "twt_od_fixed = twt_od /2\n",
    "twt_ods[date_] = twt_od_fixed"
   ]
  },
  {
   "cell_type": "markdown",
   "metadata": {},
   "source": [
    "### OD with zero values (extrapolation from previous and next day)"
   ]
  },
  {
   "cell_type": "code",
   "execution_count": 8,
   "metadata": {},
   "outputs": [
    {
     "data": {
      "text/html": [
       "<div>\n",
       "<style scoped>\n",
       "    .dataframe tbody tr th:only-of-type {\n",
       "        vertical-align: middle;\n",
       "    }\n",
       "\n",
       "    .dataframe tbody tr th {\n",
       "        vertical-align: top;\n",
       "    }\n",
       "\n",
       "    .dataframe thead th {\n",
       "        text-align: right;\n",
       "    }\n",
       "</style>\n",
       "<table border=\"1\" class=\"dataframe\">\n",
       "  <thead>\n",
       "    <tr style=\"text-align: right;\">\n",
       "      <th></th>\n",
       "      <th>001A</th>\n",
       "      <th>001B</th>\n",
       "      <th>001M</th>\n",
       "      <th>001S</th>\n",
       "      <th>001V</th>\n",
       "      <th>002A</th>\n",
       "      <th>002B</th>\n",
       "      <th>002M</th>\n",
       "      <th>002S</th>\n",
       "      <th>002V</th>\n",
       "      <th>...</th>\n",
       "      <th>40TF</th>\n",
       "      <th>57TF</th>\n",
       "      <th>58TF</th>\n",
       "      <th>43AL</th>\n",
       "      <th>44AL</th>\n",
       "      <th>45AL</th>\n",
       "      <th>53MA</th>\n",
       "      <th>79MA</th>\n",
       "      <th>80MA</th>\n",
       "      <th>total</th>\n",
       "    </tr>\n",
       "  </thead>\n",
       "  <tbody>\n",
       "    <tr>\n",
       "      <th>45AL</th>\n",
       "      <td>0</td>\n",
       "      <td>0</td>\n",
       "      <td>0</td>\n",
       "      <td>0</td>\n",
       "      <td>0</td>\n",
       "      <td>0</td>\n",
       "      <td>0</td>\n",
       "      <td>0</td>\n",
       "      <td>0</td>\n",
       "      <td>0</td>\n",
       "      <td>...</td>\n",
       "      <td>0</td>\n",
       "      <td>0</td>\n",
       "      <td>0</td>\n",
       "      <td>0</td>\n",
       "      <td>0</td>\n",
       "      <td>0</td>\n",
       "      <td>0</td>\n",
       "      <td>0</td>\n",
       "      <td>0</td>\n",
       "      <td>0</td>\n",
       "    </tr>\n",
       "    <tr>\n",
       "      <th>53MA</th>\n",
       "      <td>0</td>\n",
       "      <td>0</td>\n",
       "      <td>0</td>\n",
       "      <td>0</td>\n",
       "      <td>0</td>\n",
       "      <td>0</td>\n",
       "      <td>0</td>\n",
       "      <td>0</td>\n",
       "      <td>0</td>\n",
       "      <td>0</td>\n",
       "      <td>...</td>\n",
       "      <td>0</td>\n",
       "      <td>0</td>\n",
       "      <td>0</td>\n",
       "      <td>0</td>\n",
       "      <td>0</td>\n",
       "      <td>0</td>\n",
       "      <td>0</td>\n",
       "      <td>0</td>\n",
       "      <td>0</td>\n",
       "      <td>0</td>\n",
       "    </tr>\n",
       "    <tr>\n",
       "      <th>79MA</th>\n",
       "      <td>0</td>\n",
       "      <td>0</td>\n",
       "      <td>0</td>\n",
       "      <td>0</td>\n",
       "      <td>0</td>\n",
       "      <td>0</td>\n",
       "      <td>0</td>\n",
       "      <td>0</td>\n",
       "      <td>0</td>\n",
       "      <td>0</td>\n",
       "      <td>...</td>\n",
       "      <td>0</td>\n",
       "      <td>0</td>\n",
       "      <td>0</td>\n",
       "      <td>0</td>\n",
       "      <td>0</td>\n",
       "      <td>0</td>\n",
       "      <td>0</td>\n",
       "      <td>0</td>\n",
       "      <td>0</td>\n",
       "      <td>0</td>\n",
       "    </tr>\n",
       "    <tr>\n",
       "      <th>80MA</th>\n",
       "      <td>0</td>\n",
       "      <td>0</td>\n",
       "      <td>0</td>\n",
       "      <td>0</td>\n",
       "      <td>0</td>\n",
       "      <td>0</td>\n",
       "      <td>0</td>\n",
       "      <td>0</td>\n",
       "      <td>0</td>\n",
       "      <td>0</td>\n",
       "      <td>...</td>\n",
       "      <td>0</td>\n",
       "      <td>0</td>\n",
       "      <td>0</td>\n",
       "      <td>0</td>\n",
       "      <td>0</td>\n",
       "      <td>0</td>\n",
       "      <td>0</td>\n",
       "      <td>0</td>\n",
       "      <td>0</td>\n",
       "      <td>0</td>\n",
       "    </tr>\n",
       "    <tr>\n",
       "      <th>total</th>\n",
       "      <td>0</td>\n",
       "      <td>0</td>\n",
       "      <td>0</td>\n",
       "      <td>0</td>\n",
       "      <td>0</td>\n",
       "      <td>0</td>\n",
       "      <td>0</td>\n",
       "      <td>0</td>\n",
       "      <td>0</td>\n",
       "      <td>0</td>\n",
       "      <td>...</td>\n",
       "      <td>0</td>\n",
       "      <td>0</td>\n",
       "      <td>0</td>\n",
       "      <td>0</td>\n",
       "      <td>0</td>\n",
       "      <td>0</td>\n",
       "      <td>0</td>\n",
       "      <td>0</td>\n",
       "      <td>0</td>\n",
       "      <td>0</td>\n",
       "    </tr>\n",
       "  </tbody>\n",
       "</table>\n",
       "<p>5 rows × 3215 columns</p>\n",
       "</div>"
      ],
      "text/plain": [
       "       001A  001B  001M  001S  001V  002A  002B  002M  002S  002V  ...  40TF  \\\n",
       "45AL      0     0     0     0     0     0     0     0     0     0  ...     0   \n",
       "53MA      0     0     0     0     0     0     0     0     0     0  ...     0   \n",
       "79MA      0     0     0     0     0     0     0     0     0     0  ...     0   \n",
       "80MA      0     0     0     0     0     0     0     0     0     0  ...     0   \n",
       "total     0     0     0     0     0     0     0     0     0     0  ...     0   \n",
       "\n",
       "       57TF  58TF  43AL  44AL  45AL  53MA  79MA  80MA  total  \n",
       "45AL      0     0     0     0     0     0     0     0      0  \n",
       "53MA      0     0     0     0     0     0     0     0      0  \n",
       "79MA      0     0     0     0     0     0     0     0      0  \n",
       "80MA      0     0     0     0     0     0     0     0      0  \n",
       "total     0     0     0     0     0     0     0     0      0  \n",
       "\n",
       "[5 rows x 3215 columns]"
      ]
     },
     "execution_count": 8,
     "metadata": {},
     "output_type": "execute_result"
    }
   ],
   "source": [
    "date_missing_ = datetime.datetime.strptime('2020-04-08', '%Y-%m-%d')\n",
    "twt_missing_od = twt_ods[date_missing_]\n",
    "\n",
    "twt_missing_od.tail()"
   ]
  },
  {
   "cell_type": "code",
   "execution_count": 9,
   "metadata": {},
   "outputs": [
    {
     "data": {
      "text/html": [
       "<div>\n",
       "<style scoped>\n",
       "    .dataframe tbody tr th:only-of-type {\n",
       "        vertical-align: middle;\n",
       "    }\n",
       "\n",
       "    .dataframe tbody tr th {\n",
       "        vertical-align: top;\n",
       "    }\n",
       "\n",
       "    .dataframe thead th {\n",
       "        text-align: right;\n",
       "    }\n",
       "</style>\n",
       "<table border=\"1\" class=\"dataframe\">\n",
       "  <thead>\n",
       "    <tr style=\"text-align: right;\">\n",
       "      <th></th>\n",
       "      <th>001A</th>\n",
       "      <th>001B</th>\n",
       "      <th>001M</th>\n",
       "      <th>001S</th>\n",
       "      <th>001V</th>\n",
       "      <th>002A</th>\n",
       "      <th>002B</th>\n",
       "      <th>002M</th>\n",
       "      <th>002S</th>\n",
       "      <th>002V</th>\n",
       "      <th>...</th>\n",
       "      <th>40TF</th>\n",
       "      <th>57TF</th>\n",
       "      <th>58TF</th>\n",
       "      <th>43AL</th>\n",
       "      <th>44AL</th>\n",
       "      <th>45AL</th>\n",
       "      <th>53MA</th>\n",
       "      <th>79MA</th>\n",
       "      <th>80MA</th>\n",
       "      <th>total</th>\n",
       "    </tr>\n",
       "  </thead>\n",
       "  <tbody>\n",
       "    <tr>\n",
       "      <th>45AL</th>\n",
       "      <td>0.0</td>\n",
       "      <td>0.0</td>\n",
       "      <td>0.0</td>\n",
       "      <td>0.0</td>\n",
       "      <td>0.0</td>\n",
       "      <td>0.0</td>\n",
       "      <td>0.0</td>\n",
       "      <td>0.0</td>\n",
       "      <td>0.0</td>\n",
       "      <td>0.0</td>\n",
       "      <td>...</td>\n",
       "      <td>0.0</td>\n",
       "      <td>0.0</td>\n",
       "      <td>0.0</td>\n",
       "      <td>0.0</td>\n",
       "      <td>0.0</td>\n",
       "      <td>0.0</td>\n",
       "      <td>0.0</td>\n",
       "      <td>0.0</td>\n",
       "      <td>0.0</td>\n",
       "      <td>2.00</td>\n",
       "    </tr>\n",
       "    <tr>\n",
       "      <th>53MA</th>\n",
       "      <td>0.0</td>\n",
       "      <td>0.0</td>\n",
       "      <td>0.0</td>\n",
       "      <td>0.0</td>\n",
       "      <td>0.0</td>\n",
       "      <td>0.0</td>\n",
       "      <td>0.0</td>\n",
       "      <td>0.0</td>\n",
       "      <td>0.0</td>\n",
       "      <td>0.0</td>\n",
       "      <td>...</td>\n",
       "      <td>0.0</td>\n",
       "      <td>0.0</td>\n",
       "      <td>0.0</td>\n",
       "      <td>0.0</td>\n",
       "      <td>0.0</td>\n",
       "      <td>0.0</td>\n",
       "      <td>0.0</td>\n",
       "      <td>0.0</td>\n",
       "      <td>0.0</td>\n",
       "      <td>0.00</td>\n",
       "    </tr>\n",
       "    <tr>\n",
       "      <th>79MA</th>\n",
       "      <td>0.0</td>\n",
       "      <td>0.0</td>\n",
       "      <td>0.0</td>\n",
       "      <td>0.0</td>\n",
       "      <td>0.0</td>\n",
       "      <td>0.0</td>\n",
       "      <td>0.0</td>\n",
       "      <td>0.0</td>\n",
       "      <td>0.0</td>\n",
       "      <td>0.0</td>\n",
       "      <td>...</td>\n",
       "      <td>0.0</td>\n",
       "      <td>0.0</td>\n",
       "      <td>0.0</td>\n",
       "      <td>0.0</td>\n",
       "      <td>0.0</td>\n",
       "      <td>0.0</td>\n",
       "      <td>0.0</td>\n",
       "      <td>0.0</td>\n",
       "      <td>0.0</td>\n",
       "      <td>1.00</td>\n",
       "    </tr>\n",
       "    <tr>\n",
       "      <th>80MA</th>\n",
       "      <td>0.0</td>\n",
       "      <td>0.0</td>\n",
       "      <td>0.0</td>\n",
       "      <td>0.0</td>\n",
       "      <td>0.0</td>\n",
       "      <td>0.0</td>\n",
       "      <td>0.0</td>\n",
       "      <td>0.0</td>\n",
       "      <td>0.0</td>\n",
       "      <td>0.0</td>\n",
       "      <td>...</td>\n",
       "      <td>0.0</td>\n",
       "      <td>0.0</td>\n",
       "      <td>0.0</td>\n",
       "      <td>0.0</td>\n",
       "      <td>0.0</td>\n",
       "      <td>0.0</td>\n",
       "      <td>0.0</td>\n",
       "      <td>0.0</td>\n",
       "      <td>0.0</td>\n",
       "      <td>0.00</td>\n",
       "    </tr>\n",
       "    <tr>\n",
       "      <th>total</th>\n",
       "      <td>0.0</td>\n",
       "      <td>0.0</td>\n",
       "      <td>0.0</td>\n",
       "      <td>0.0</td>\n",
       "      <td>0.0</td>\n",
       "      <td>0.0</td>\n",
       "      <td>2.0</td>\n",
       "      <td>0.0</td>\n",
       "      <td>0.0</td>\n",
       "      <td>0.0</td>\n",
       "      <td>...</td>\n",
       "      <td>0.0</td>\n",
       "      <td>0.0</td>\n",
       "      <td>0.0</td>\n",
       "      <td>1.0</td>\n",
       "      <td>5.5</td>\n",
       "      <td>2.0</td>\n",
       "      <td>0.0</td>\n",
       "      <td>2.5</td>\n",
       "      <td>0.0</td>\n",
       "      <td>1951.75</td>\n",
       "    </tr>\n",
       "  </tbody>\n",
       "</table>\n",
       "<p>5 rows × 3215 columns</p>\n",
       "</div>"
      ],
      "text/plain": [
       "       001A  001B  001M  001S  001V  002A  002B  002M  002S  002V  ...  40TF  \\\n",
       "45AL    0.0   0.0   0.0   0.0   0.0   0.0   0.0   0.0   0.0   0.0  ...   0.0   \n",
       "53MA    0.0   0.0   0.0   0.0   0.0   0.0   0.0   0.0   0.0   0.0  ...   0.0   \n",
       "79MA    0.0   0.0   0.0   0.0   0.0   0.0   0.0   0.0   0.0   0.0  ...   0.0   \n",
       "80MA    0.0   0.0   0.0   0.0   0.0   0.0   0.0   0.0   0.0   0.0  ...   0.0   \n",
       "total   0.0   0.0   0.0   0.0   0.0   0.0   2.0   0.0   0.0   0.0  ...   0.0   \n",
       "\n",
       "       57TF  58TF  43AL  44AL  45AL  53MA  79MA  80MA    total  \n",
       "45AL    0.0   0.0   0.0   0.0   0.0   0.0   0.0   0.0     2.00  \n",
       "53MA    0.0   0.0   0.0   0.0   0.0   0.0   0.0   0.0     0.00  \n",
       "79MA    0.0   0.0   0.0   0.0   0.0   0.0   0.0   0.0     1.00  \n",
       "80MA    0.0   0.0   0.0   0.0   0.0   0.0   0.0   0.0     0.00  \n",
       "total   0.0   0.0   1.0   5.5   2.0   0.0   2.5   0.0  1951.75  \n",
       "\n",
       "[5 rows x 3215 columns]"
      ]
     },
     "execution_count": 9,
     "metadata": {},
     "output_type": "execute_result"
    }
   ],
   "source": [
    "date_ = datetime.datetime.strptime('2020-04-09', '%Y-%m-%d')\n",
    "twt_ref_od = twt_ods[date_]\n",
    "\n",
    "twt_missing_od = (twt_od_fixed + twt_ref_od)/2\n",
    "\n",
    "twt_missing_od.tail()"
   ]
  },
  {
   "cell_type": "code",
   "execution_count": 10,
   "metadata": {},
   "outputs": [],
   "source": [
    "twt_ods[date_missing_] = twt_missing_od"
   ]
  },
  {
   "cell_type": "code",
   "execution_count": 11,
   "metadata": {},
   "outputs": [],
   "source": [
    "date_ = datetime.datetime.strptime('2020-04-01', '%Y-%m-%d')"
   ]
  },
  {
   "cell_type": "code",
   "execution_count": 12,
   "metadata": {},
   "outputs": [],
   "source": [
    "twt_od = twt_ods[date_]\n",
    "ine_od = ine_ods[date_]"
   ]
  },
  {
   "cell_type": "code",
   "execution_count": 13,
   "metadata": {
    "scrolled": true
   },
   "outputs": [
    {
     "data": {
      "text/html": [
       "<div>\n",
       "<style scoped>\n",
       "    .dataframe tbody tr th:only-of-type {\n",
       "        vertical-align: middle;\n",
       "    }\n",
       "\n",
       "    .dataframe tbody tr th {\n",
       "        vertical-align: top;\n",
       "    }\n",
       "\n",
       "    .dataframe thead th {\n",
       "        text-align: right;\n",
       "    }\n",
       "</style>\n",
       "<table border=\"1\" class=\"dataframe\">\n",
       "  <thead>\n",
       "    <tr style=\"text-align: right;\">\n",
       "      <th></th>\n",
       "      <th>001A</th>\n",
       "      <th>001B</th>\n",
       "      <th>001M</th>\n",
       "      <th>001S</th>\n",
       "      <th>001V</th>\n",
       "      <th>002A</th>\n",
       "      <th>002B</th>\n",
       "      <th>002M</th>\n",
       "      <th>002S</th>\n",
       "      <th>002V</th>\n",
       "      <th>...</th>\n",
       "      <th>40TF</th>\n",
       "      <th>57TF</th>\n",
       "      <th>58TF</th>\n",
       "      <th>43AL</th>\n",
       "      <th>44AL</th>\n",
       "      <th>45AL</th>\n",
       "      <th>53MA</th>\n",
       "      <th>79MA</th>\n",
       "      <th>80MA</th>\n",
       "      <th>total</th>\n",
       "    </tr>\n",
       "  </thead>\n",
       "  <tbody>\n",
       "    <tr>\n",
       "      <th>45AL</th>\n",
       "      <td>0</td>\n",
       "      <td>0</td>\n",
       "      <td>0</td>\n",
       "      <td>0</td>\n",
       "      <td>0</td>\n",
       "      <td>0</td>\n",
       "      <td>0</td>\n",
       "      <td>0</td>\n",
       "      <td>0</td>\n",
       "      <td>0</td>\n",
       "      <td>...</td>\n",
       "      <td>0</td>\n",
       "      <td>0</td>\n",
       "      <td>0</td>\n",
       "      <td>0</td>\n",
       "      <td>0</td>\n",
       "      <td>0</td>\n",
       "      <td>0</td>\n",
       "      <td>0</td>\n",
       "      <td>0</td>\n",
       "      <td>0</td>\n",
       "    </tr>\n",
       "    <tr>\n",
       "      <th>53MA</th>\n",
       "      <td>0</td>\n",
       "      <td>0</td>\n",
       "      <td>0</td>\n",
       "      <td>0</td>\n",
       "      <td>0</td>\n",
       "      <td>0</td>\n",
       "      <td>0</td>\n",
       "      <td>0</td>\n",
       "      <td>0</td>\n",
       "      <td>0</td>\n",
       "      <td>...</td>\n",
       "      <td>0</td>\n",
       "      <td>0</td>\n",
       "      <td>0</td>\n",
       "      <td>0</td>\n",
       "      <td>0</td>\n",
       "      <td>0</td>\n",
       "      <td>0</td>\n",
       "      <td>0</td>\n",
       "      <td>0</td>\n",
       "      <td>0</td>\n",
       "    </tr>\n",
       "    <tr>\n",
       "      <th>79MA</th>\n",
       "      <td>0</td>\n",
       "      <td>0</td>\n",
       "      <td>0</td>\n",
       "      <td>0</td>\n",
       "      <td>0</td>\n",
       "      <td>0</td>\n",
       "      <td>0</td>\n",
       "      <td>0</td>\n",
       "      <td>0</td>\n",
       "      <td>0</td>\n",
       "      <td>...</td>\n",
       "      <td>0</td>\n",
       "      <td>0</td>\n",
       "      <td>0</td>\n",
       "      <td>0</td>\n",
       "      <td>0</td>\n",
       "      <td>0</td>\n",
       "      <td>0</td>\n",
       "      <td>0</td>\n",
       "      <td>0</td>\n",
       "      <td>2</td>\n",
       "    </tr>\n",
       "    <tr>\n",
       "      <th>80MA</th>\n",
       "      <td>0</td>\n",
       "      <td>0</td>\n",
       "      <td>0</td>\n",
       "      <td>0</td>\n",
       "      <td>0</td>\n",
       "      <td>0</td>\n",
       "      <td>0</td>\n",
       "      <td>0</td>\n",
       "      <td>0</td>\n",
       "      <td>0</td>\n",
       "      <td>...</td>\n",
       "      <td>0</td>\n",
       "      <td>0</td>\n",
       "      <td>0</td>\n",
       "      <td>0</td>\n",
       "      <td>0</td>\n",
       "      <td>0</td>\n",
       "      <td>0</td>\n",
       "      <td>0</td>\n",
       "      <td>0</td>\n",
       "      <td>0</td>\n",
       "    </tr>\n",
       "    <tr>\n",
       "      <th>total</th>\n",
       "      <td>0</td>\n",
       "      <td>2</td>\n",
       "      <td>0</td>\n",
       "      <td>1</td>\n",
       "      <td>0</td>\n",
       "      <td>2</td>\n",
       "      <td>2</td>\n",
       "      <td>0</td>\n",
       "      <td>0</td>\n",
       "      <td>0</td>\n",
       "      <td>...</td>\n",
       "      <td>0</td>\n",
       "      <td>0</td>\n",
       "      <td>0</td>\n",
       "      <td>0</td>\n",
       "      <td>3</td>\n",
       "      <td>0</td>\n",
       "      <td>0</td>\n",
       "      <td>5</td>\n",
       "      <td>0</td>\n",
       "      <td>2375</td>\n",
       "    </tr>\n",
       "  </tbody>\n",
       "</table>\n",
       "<p>5 rows × 3215 columns</p>\n",
       "</div>"
      ],
      "text/plain": [
       "       001A  001B  001M  001S  001V  002A  002B  002M  002S  002V  ...  40TF  \\\n",
       "45AL      0     0     0     0     0     0     0     0     0     0  ...     0   \n",
       "53MA      0     0     0     0     0     0     0     0     0     0  ...     0   \n",
       "79MA      0     0     0     0     0     0     0     0     0     0  ...     0   \n",
       "80MA      0     0     0     0     0     0     0     0     0     0  ...     0   \n",
       "total     0     2     0     1     0     2     2     0     0     0  ...     0   \n",
       "\n",
       "       57TF  58TF  43AL  44AL  45AL  53MA  79MA  80MA  total  \n",
       "45AL      0     0     0     0     0     0     0     0      0  \n",
       "53MA      0     0     0     0     0     0     0     0      0  \n",
       "79MA      0     0     0     0     0     0     0     0      2  \n",
       "80MA      0     0     0     0     0     0     0     0      0  \n",
       "total     0     0     0     3     0     0     5     0   2375  \n",
       "\n",
       "[5 rows x 3215 columns]"
      ]
     },
     "execution_count": 13,
     "metadata": {},
     "output_type": "execute_result"
    }
   ],
   "source": [
    "twt_od.tail()"
   ]
  },
  {
   "cell_type": "code",
   "execution_count": 14,
   "metadata": {
    "scrolled": false
   },
   "outputs": [
    {
     "data": {
      "text/html": [
       "<div>\n",
       "<style scoped>\n",
       "    .dataframe tbody tr th:only-of-type {\n",
       "        vertical-align: middle;\n",
       "    }\n",
       "\n",
       "    .dataframe tbody tr th {\n",
       "        vertical-align: top;\n",
       "    }\n",
       "\n",
       "    .dataframe thead th {\n",
       "        text-align: right;\n",
       "    }\n",
       "</style>\n",
       "<table border=\"1\" class=\"dataframe\">\n",
       "  <thead>\n",
       "    <tr style=\"text-align: right;\">\n",
       "      <th></th>\n",
       "      <th>001A</th>\n",
       "      <th>001B</th>\n",
       "      <th>001M</th>\n",
       "      <th>001S</th>\n",
       "      <th>001V</th>\n",
       "      <th>002A</th>\n",
       "      <th>002B</th>\n",
       "      <th>002M</th>\n",
       "      <th>002S</th>\n",
       "      <th>002V</th>\n",
       "      <th>...</th>\n",
       "      <th>40TF</th>\n",
       "      <th>57TF</th>\n",
       "      <th>58TF</th>\n",
       "      <th>43AL</th>\n",
       "      <th>44AL</th>\n",
       "      <th>45AL</th>\n",
       "      <th>53MA</th>\n",
       "      <th>79MA</th>\n",
       "      <th>80MA</th>\n",
       "      <th>total</th>\n",
       "    </tr>\n",
       "  </thead>\n",
       "  <tbody>\n",
       "    <tr>\n",
       "      <th>45AL</th>\n",
       "      <td>0</td>\n",
       "      <td>0</td>\n",
       "      <td>0</td>\n",
       "      <td>0</td>\n",
       "      <td>0</td>\n",
       "      <td>0</td>\n",
       "      <td>0</td>\n",
       "      <td>0</td>\n",
       "      <td>0</td>\n",
       "      <td>0</td>\n",
       "      <td>...</td>\n",
       "      <td>0</td>\n",
       "      <td>0</td>\n",
       "      <td>0</td>\n",
       "      <td>735</td>\n",
       "      <td>1136</td>\n",
       "      <td>0</td>\n",
       "      <td>0</td>\n",
       "      <td>0</td>\n",
       "      <td>0</td>\n",
       "      <td>2313</td>\n",
       "    </tr>\n",
       "    <tr>\n",
       "      <th>53MA</th>\n",
       "      <td>0</td>\n",
       "      <td>0</td>\n",
       "      <td>0</td>\n",
       "      <td>0</td>\n",
       "      <td>0</td>\n",
       "      <td>0</td>\n",
       "      <td>0</td>\n",
       "      <td>0</td>\n",
       "      <td>0</td>\n",
       "      <td>0</td>\n",
       "      <td>...</td>\n",
       "      <td>0</td>\n",
       "      <td>0</td>\n",
       "      <td>0</td>\n",
       "      <td>0</td>\n",
       "      <td>0</td>\n",
       "      <td>0</td>\n",
       "      <td>0</td>\n",
       "      <td>919</td>\n",
       "      <td>229</td>\n",
       "      <td>2566</td>\n",
       "    </tr>\n",
       "    <tr>\n",
       "      <th>79MA</th>\n",
       "      <td>0</td>\n",
       "      <td>0</td>\n",
       "      <td>0</td>\n",
       "      <td>0</td>\n",
       "      <td>0</td>\n",
       "      <td>0</td>\n",
       "      <td>0</td>\n",
       "      <td>0</td>\n",
       "      <td>0</td>\n",
       "      <td>0</td>\n",
       "      <td>...</td>\n",
       "      <td>0</td>\n",
       "      <td>0</td>\n",
       "      <td>0</td>\n",
       "      <td>0</td>\n",
       "      <td>0</td>\n",
       "      <td>0</td>\n",
       "      <td>551</td>\n",
       "      <td>0</td>\n",
       "      <td>225</td>\n",
       "      <td>1871</td>\n",
       "    </tr>\n",
       "    <tr>\n",
       "      <th>80MA</th>\n",
       "      <td>0</td>\n",
       "      <td>0</td>\n",
       "      <td>0</td>\n",
       "      <td>0</td>\n",
       "      <td>0</td>\n",
       "      <td>0</td>\n",
       "      <td>0</td>\n",
       "      <td>0</td>\n",
       "      <td>0</td>\n",
       "      <td>0</td>\n",
       "      <td>...</td>\n",
       "      <td>0</td>\n",
       "      <td>0</td>\n",
       "      <td>0</td>\n",
       "      <td>0</td>\n",
       "      <td>0</td>\n",
       "      <td>0</td>\n",
       "      <td>121</td>\n",
       "      <td>180</td>\n",
       "      <td>0</td>\n",
       "      <td>618</td>\n",
       "    </tr>\n",
       "    <tr>\n",
       "      <th>total</th>\n",
       "      <td>108</td>\n",
       "      <td>402</td>\n",
       "      <td>0</td>\n",
       "      <td>0</td>\n",
       "      <td>241</td>\n",
       "      <td>779</td>\n",
       "      <td>702</td>\n",
       "      <td>245</td>\n",
       "      <td>0</td>\n",
       "      <td>446</td>\n",
       "      <td>...</td>\n",
       "      <td>1790</td>\n",
       "      <td>1221</td>\n",
       "      <td>1218</td>\n",
       "      <td>1130</td>\n",
       "      <td>6398</td>\n",
       "      <td>4003</td>\n",
       "      <td>1997</td>\n",
       "      <td>3045</td>\n",
       "      <td>608</td>\n",
       "      <td>2213123</td>\n",
       "    </tr>\n",
       "  </tbody>\n",
       "</table>\n",
       "<p>5 rows × 3215 columns</p>\n",
       "</div>"
      ],
      "text/plain": [
       "       001A  001B  001M  001S  001V  002A  002B  002M  002S  002V  ...  40TF  \\\n",
       "45AL      0     0     0     0     0     0     0     0     0     0  ...     0   \n",
       "53MA      0     0     0     0     0     0     0     0     0     0  ...     0   \n",
       "79MA      0     0     0     0     0     0     0     0     0     0  ...     0   \n",
       "80MA      0     0     0     0     0     0     0     0     0     0  ...     0   \n",
       "total   108   402     0     0   241   779   702   245     0   446  ...  1790   \n",
       "\n",
       "       57TF  58TF  43AL  44AL  45AL  53MA  79MA  80MA    total  \n",
       "45AL      0     0   735  1136     0     0     0     0     2313  \n",
       "53MA      0     0     0     0     0     0   919   229     2566  \n",
       "79MA      0     0     0     0     0   551     0   225     1871  \n",
       "80MA      0     0     0     0     0   121   180     0      618  \n",
       "total  1221  1218  1130  6398  4003  1997  3045   608  2213123  \n",
       "\n",
       "[5 rows x 3215 columns]"
      ]
     },
     "execution_count": 14,
     "metadata": {},
     "output_type": "execute_result"
    }
   ],
   "source": [
    "ine_od.tail()"
   ]
  },
  {
   "cell_type": "markdown",
   "metadata": {},
   "source": [
    "## Number of origins and destinations per MA"
   ]
  },
  {
   "cell_type": "code",
   "execution_count": 15,
   "metadata": {},
   "outputs": [],
   "source": [
    "def generate_avg_n_origin_destinations_fn(global_od, source, trip_rate_threshold):\n",
    "    norm_twt_od_global = global_od.div(global_od['total'], axis=0)\n",
    "    norm_twt_od_global['n_meaningful_dest'] = norm_twt_od_global.apply(lambda row: row[row>trip_rate_threshold].shape[0], axis=1)\n",
    "    \n",
    "    trasnsposed_norm_od= norm_twt_od_global.T\n",
    "    trasnsposed_norm_od['n_meaningful_dest'] = trasnsposed_norm_od.apply(lambda row: row[row>trip_rate_threshold].shape[0], axis=1)\n",
    "    \n",
    "    norm_twt_od_global['type'] = 'destination'\n",
    "    trasnsposed_norm_od['type'] = 'origin'\n",
    "    \n",
    "    df = pd.concat([trasnsposed_norm_od['n_meaningful_dest type'.split()],\n",
    "                norm_twt_od_global['n_meaningful_dest type'.split()]], axis=0)\n",
    "    \n",
    "    df['source']= source\n",
    "    \n",
    "    return df"
   ]
  },
  {
   "cell_type": "code",
   "execution_count": 16,
   "metadata": {},
   "outputs": [],
   "source": [
    "def generate_n_origin_dest_global_fn(trip_rate_threshold):\n",
    "    twt_od_global= pd.read_csv(os.path.join('data', 'OD', 'global_TWT_OD.csv'), index_col=0)\n",
    "    twt_n_origin_dest_df = generate_avg_n_origin_destinations_fn(twt_od_global, 'TWT', trip_rate_threshold)\n",
    "    \n",
    "    ine_od_global= pd.read_csv(os.path.join('data', 'OD', 'global_INE_OD.csv'), index_col=0)\n",
    "    ine_n_origin_dest_df = generate_avg_n_origin_destinations_fn(ine_od_global, 'INE', trip_rate_threshold)\n",
    "    \n",
    "    _df = pd.concat([twt_n_origin_dest_df, ine_n_origin_dest_df], axis=0)\n",
    "    \n",
    "    return _df"
   ]
  },
  {
   "cell_type": "code",
   "execution_count": 17,
   "metadata": {},
   "outputs": [],
   "source": [
    "n_origin_dest_0_df = generate_n_origin_dest_global_fn(0)"
   ]
  },
  {
   "cell_type": "code",
   "execution_count": 18,
   "metadata": {},
   "outputs": [
    {
     "data": {
      "image/png": "[encoded data removed]",
      "text/plain": [
       "<Figure size 360x360 with 1 Axes>"
      ]
     },
     "metadata": {
      "needs_background": "light"
     },
     "output_type": "display_data"
    }
   ],
   "source": [
    "import seaborn as sns\n",
    "\n",
    "plt.figure(figsize=(5,5))\n",
    "sns.set_style(\"whitegrid\")\n",
    "ax=sns.boxplot(data=n_origin_dest_0_df, x='source', y='n_meaningful_dest',hue='type', showfliers = False);\n",
    "ax.grid(True)"
   ]
  },
  {
   "cell_type": "code",
   "execution_count": 19,
   "metadata": {},
   "outputs": [],
   "source": [
    "n_origin_dest_005_df = generate_n_origin_dest_global_fn(0.05)"
   ]
  },
  {
   "cell_type": "code",
   "execution_count": 20,
   "metadata": {},
   "outputs": [
    {
     "data": {
      "image/png": "[encoded data removed]",
      "text/plain": [
       "<Figure size 360x360 with 1 Axes>"
      ]
     },
     "metadata": {},
     "output_type": "display_data"
    }
   ],
   "source": [
    "import seaborn as sns\n",
    "\n",
    "plt.figure(figsize=(5,5))\n",
    "sns.set_style(\"whitegrid\")\n",
    "ax=sns.boxplot(data=n_origin_dest_005_df, x='source', y='n_meaningful_dest',hue='type', showfliers = False);\n",
    "ax.set_ylabel(\"Num. of MAs\")\n",
    "ax.grid(True)\n",
    "plt.tight_layout()\n",
    "plt.legend(loc='upper left')\n",
    "plt.savefig(os.path.join('figs', 'n_origin_dest_ma.png'))"
   ]
  },
  {
   "cell_type": "markdown",
   "metadata": {},
   "source": [
    "## Distribution of distances"
   ]
  },
  {
   "cell_type": "code",
   "execution_count": 21,
   "metadata": {},
   "outputs": [],
   "source": [
    "ma_distance_od_df = pd.read_csv(os.path.join('data', 'ma_distances.csv'), index_col=0)"
   ]
  },
  {
   "cell_type": "code",
   "execution_count": 22,
   "metadata": {},
   "outputs": [
    {
     "data": {
      "text/html": [
       "<div>\n",
       "<style scoped>\n",
       "    .dataframe tbody tr th:only-of-type {\n",
       "        vertical-align: middle;\n",
       "    }\n",
       "\n",
       "    .dataframe tbody tr th {\n",
       "        vertical-align: top;\n",
       "    }\n",
       "\n",
       "    .dataframe thead th {\n",
       "        text-align: right;\n",
       "    }\n",
       "</style>\n",
       "<table border=\"1\" class=\"dataframe\">\n",
       "  <thead>\n",
       "    <tr style=\"text-align: right;\">\n",
       "      <th></th>\n",
       "      <th>001A</th>\n",
       "      <th>001B</th>\n",
       "      <th>001M</th>\n",
       "      <th>001S</th>\n",
       "      <th>001V</th>\n",
       "      <th>002A</th>\n",
       "      <th>002B</th>\n",
       "      <th>002M</th>\n",
       "      <th>002S</th>\n",
       "      <th>002V</th>\n",
       "      <th>...</th>\n",
       "      <th>73AS</th>\n",
       "      <th>40TF</th>\n",
       "      <th>57TF</th>\n",
       "      <th>58TF</th>\n",
       "      <th>43AL</th>\n",
       "      <th>44AL</th>\n",
       "      <th>45AL</th>\n",
       "      <th>53MA</th>\n",
       "      <th>79MA</th>\n",
       "      <th>80MA</th>\n",
       "    </tr>\n",
       "  </thead>\n",
       "  <tbody>\n",
       "    <tr>\n",
       "      <th>001A</th>\n",
       "      <td>0.000000</td>\n",
       "      <td>466.875557</td>\n",
       "      <td>312.320477</td>\n",
       "      <td>476.523729</td>\n",
       "      <td>116.362859</td>\n",
       "      <td>6.715878</td>\n",
       "      <td>440.190594</td>\n",
       "      <td>326.430362</td>\n",
       "      <td>443.531254</td>\n",
       "      <td>114.916680</td>\n",
       "      <td>...</td>\n",
       "      <td>749.789923</td>\n",
       "      <td>1862.126576</td>\n",
       "      <td>1860.836006</td>\n",
       "      <td>1857.112550</td>\n",
       "      <td>228.454023</td>\n",
       "      <td>225.783090</td>\n",
       "      <td>232.641895</td>\n",
       "      <td>380.938105</td>\n",
       "      <td>382.538811</td>\n",
       "      <td>385.848697</td>\n",
       "    </tr>\n",
       "    <tr>\n",
       "      <th>001B</th>\n",
       "      <td>466.875557</td>\n",
       "      <td>0.000000</td>\n",
       "      <td>449.512986</td>\n",
       "      <td>810.510459</td>\n",
       "      <td>350.567288</td>\n",
       "      <td>460.172644</td>\n",
       "      <td>26.855270</td>\n",
       "      <td>462.293254</td>\n",
       "      <td>778.497478</td>\n",
       "      <td>352.064149</td>\n",
       "      <td>...</td>\n",
       "      <td>657.397322</td>\n",
       "      <td>2274.851291</td>\n",
       "      <td>2274.015567</td>\n",
       "      <td>2269.771793</td>\n",
       "      <td>679.570131</td>\n",
       "      <td>678.800729</td>\n",
       "      <td>683.703748</td>\n",
       "      <td>800.555878</td>\n",
       "      <td>800.102315</td>\n",
       "      <td>805.302976</td>\n",
       "    </tr>\n",
       "    <tr>\n",
       "      <th>001M</th>\n",
       "      <td>312.320477</td>\n",
       "      <td>449.512986</td>\n",
       "      <td>0.000000</td>\n",
       "      <td>372.340333</td>\n",
       "      <td>290.850833</td>\n",
       "      <td>309.389704</td>\n",
       "      <td>427.383610</td>\n",
       "      <td>16.619024</td>\n",
       "      <td>343.110357</td>\n",
       "      <td>292.062902</td>\n",
       "      <td>...</td>\n",
       "      <td>441.340212</td>\n",
       "      <td>1843.865552</td>\n",
       "      <td>1843.303454</td>\n",
       "      <td>1838.774283</td>\n",
       "      <td>376.676736</td>\n",
       "      <td>380.175908</td>\n",
       "      <td>379.425391</td>\n",
       "      <td>421.967528</td>\n",
       "      <td>419.320046</td>\n",
       "      <td>425.763693</td>\n",
       "    </tr>\n",
       "    <tr>\n",
       "      <th>001S</th>\n",
       "      <td>476.523729</td>\n",
       "      <td>810.510459</td>\n",
       "      <td>372.340333</td>\n",
       "      <td>0.000000</td>\n",
       "      <td>544.052395</td>\n",
       "      <td>479.390201</td>\n",
       "      <td>786.225295</td>\n",
       "      <td>364.200620</td>\n",
       "      <td>33.800450</td>\n",
       "      <td>544.036311</td>\n",
       "      <td>...</td>\n",
       "      <td>642.757279</td>\n",
       "      <td>1471.566038</td>\n",
       "      <td>1470.990567</td>\n",
       "      <td>1466.474897</td>\n",
       "      <td>319.445052</td>\n",
       "      <td>326.052913</td>\n",
       "      <td>317.783345</td>\n",
       "      <td>194.395801</td>\n",
       "      <td>188.873886</td>\n",
       "      <td>193.444839</td>\n",
       "    </tr>\n",
       "    <tr>\n",
       "      <th>001V</th>\n",
       "      <td>116.362859</td>\n",
       "      <td>350.567288</td>\n",
       "      <td>290.850833</td>\n",
       "      <td>544.052395</td>\n",
       "      <td>0.000000</td>\n",
       "      <td>109.674708</td>\n",
       "      <td>323.914908</td>\n",
       "      <td>307.190363</td>\n",
       "      <td>510.263080</td>\n",
       "      <td>1.897730</td>\n",
       "      <td>...</td>\n",
       "      <td>702.170227</td>\n",
       "      <td>1964.201681</td>\n",
       "      <td>1963.035126</td>\n",
       "      <td>1959.163938</td>\n",
       "      <td>337.788522</td>\n",
       "      <td>335.989215</td>\n",
       "      <td>341.999669</td>\n",
       "      <td>478.892592</td>\n",
       "      <td>479.694102</td>\n",
       "      <td>483.819502</td>\n",
       "    </tr>\n",
       "  </tbody>\n",
       "</table>\n",
       "<p>5 rows × 3214 columns</p>\n",
       "</div>"
      ],
      "text/plain": [
       "            001A        001B        001M        001S        001V        002A  \\\n",
       "001A    0.000000  466.875557  312.320477  476.523729  116.362859    6.715878   \n",
       "001B  466.875557    0.000000  449.512986  810.510459  350.567288  460.172644   \n",
       "001M  312.320477  449.512986    0.000000  372.340333  290.850833  309.389704   \n",
       "001S  476.523729  810.510459  372.340333    0.000000  544.052395  479.390201   \n",
       "001V  116.362859  350.567288  290.850833  544.052395    0.000000  109.674708   \n",
       "\n",
       "            002B        002M        002S        002V  ...        73AS  \\\n",
       "001A  440.190594  326.430362  443.531254  114.916680  ...  749.789923   \n",
       "001B   26.855270  462.293254  778.497478  352.064149  ...  657.397322   \n",
       "001M  427.383610   16.619024  343.110357  292.062902  ...  441.340212   \n",
       "001S  786.225295  364.200620   33.800450  544.036311  ...  642.757279   \n",
       "001V  323.914908  307.190363  510.263080    1.897730  ...  702.170227   \n",
       "\n",
       "             40TF         57TF         58TF        43AL        44AL  \\\n",
       "001A  1862.126576  1860.836006  1857.112550  228.454023  225.783090   \n",
       "001B  2274.851291  2274.015567  2269.771793  679.570131  678.800729   \n",
       "001M  1843.865552  1843.303454  1838.774283  376.676736  380.175908   \n",
       "001S  1471.566038  1470.990567  1466.474897  319.445052  326.052913   \n",
       "001V  1964.201681  1963.035126  1959.163938  337.788522  335.989215   \n",
       "\n",
       "            45AL        53MA        79MA        80MA  \n",
       "001A  232.641895  380.938105  382.538811  385.848697  \n",
       "001B  683.703748  800.555878  800.102315  805.302976  \n",
       "001M  379.425391  421.967528  419.320046  425.763693  \n",
       "001S  317.783345  194.395801  188.873886  193.444839  \n",
       "001V  341.999669  478.892592  479.694102  483.819502  \n",
       "\n",
       "[5 rows x 3214 columns]"
      ]
     },
     "execution_count": 22,
     "metadata": {},
     "output_type": "execute_result"
    }
   ],
   "source": [
    "ma_distance_od_df.head()"
   ]
  },
  {
   "cell_type": "code",
   "execution_count": 23,
   "metadata": {},
   "outputs": [],
   "source": [
    "def generate_ranking_from_od_fn(global_od, source):\n",
    "    \n",
    "    od_no_total= global_od.drop('total')\n",
    "    od_no_totals= od_no_total.drop(columns='total')\n",
    "    trips_rank_df = od_no_totals.rank(ascending=False, method='first', axis=1)\n",
    "    \n",
    "    distance_ranking_list= [] \n",
    "    for o_, row in trips_rank_df.iterrows():\n",
    "        meaningful_dest = row[row<=10]\n",
    "        for d_, rank_ in meaningful_dest.items():\n",
    "            dist = ma_distance_od_df.loc[o_,d_]\n",
    "            distance_ranking_list.append((o_, d_, rank_, dist, source))\n",
    "    \n",
    "    distance_ranking_df = pd.DataFrame.from_records(distance_ranking_list, columns='origin destination ranking distance source'.split())\n",
    "    return distance_ranking_df"
   ]
  },
  {
   "cell_type": "code",
   "execution_count": 24,
   "metadata": {},
   "outputs": [],
   "source": [
    "twt_od_global= pd.read_csv(os.path.join('data', 'OD', 'global_TWT_OD.csv'), index_col=0)"
   ]
  },
  {
   "cell_type": "code",
   "execution_count": 25,
   "metadata": {},
   "outputs": [],
   "source": [
    "twt_trips_rank_df = generate_ranking_from_od_fn(twt_od_global, 'TWT')"
   ]
  },
  {
   "cell_type": "code",
   "execution_count": 26,
   "metadata": {},
   "outputs": [],
   "source": [
    "ine_od_global= pd.read_csv(os.path.join('data', 'OD', 'global_INE_OD.csv'), index_col=0)"
   ]
  },
  {
   "cell_type": "code",
   "execution_count": 27,
   "metadata": {},
   "outputs": [],
   "source": [
    "ine_trips_rank_df = generate_ranking_from_od_fn(ine_od_global, 'INE')"
   ]
  },
  {
   "cell_type": "code",
   "execution_count": 28,
   "metadata": {
    "scrolled": true
   },
   "outputs": [],
   "source": [
    "trips_rank_df = pd.concat([twt_trips_rank_df, ine_trips_rank_df], axis=0)"
   ]
  },
  {
   "cell_type": "code",
   "execution_count": 29,
   "metadata": {},
   "outputs": [
    {
     "data": {
      "text/html": [
       "<div>\n",
       "<style scoped>\n",
       "    .dataframe tbody tr th:only-of-type {\n",
       "        vertical-align: middle;\n",
       "    }\n",
       "\n",
       "    .dataframe tbody tr th {\n",
       "        vertical-align: top;\n",
       "    }\n",
       "\n",
       "    .dataframe thead th {\n",
       "        text-align: right;\n",
       "    }\n",
       "</style>\n",
       "<table border=\"1\" class=\"dataframe\">\n",
       "  <thead>\n",
       "    <tr style=\"text-align: right;\">\n",
       "      <th></th>\n",
       "      <th>origin</th>\n",
       "      <th>destination</th>\n",
       "      <th>ranking</th>\n",
       "      <th>distance</th>\n",
       "      <th>source</th>\n",
       "    </tr>\n",
       "  </thead>\n",
       "  <tbody>\n",
       "    <tr>\n",
       "      <th>0</th>\n",
       "      <td>001A</td>\n",
       "      <td>001A</td>\n",
       "      <td>6.0</td>\n",
       "      <td>0.000000</td>\n",
       "      <td>TWT</td>\n",
       "    </tr>\n",
       "    <tr>\n",
       "      <th>1</th>\n",
       "      <td>001A</td>\n",
       "      <td>001B</td>\n",
       "      <td>7.0</td>\n",
       "      <td>466.875557</td>\n",
       "      <td>TWT</td>\n",
       "    </tr>\n",
       "    <tr>\n",
       "      <th>2</th>\n",
       "      <td>001A</td>\n",
       "      <td>001M</td>\n",
       "      <td>8.0</td>\n",
       "      <td>312.320477</td>\n",
       "      <td>TWT</td>\n",
       "    </tr>\n",
       "    <tr>\n",
       "      <th>3</th>\n",
       "      <td>001A</td>\n",
       "      <td>001S</td>\n",
       "      <td>9.0</td>\n",
       "      <td>476.523729</td>\n",
       "      <td>TWT</td>\n",
       "    </tr>\n",
       "    <tr>\n",
       "      <th>4</th>\n",
       "      <td>001A</td>\n",
       "      <td>001V</td>\n",
       "      <td>10.0</td>\n",
       "      <td>116.362859</td>\n",
       "      <td>TWT</td>\n",
       "    </tr>\n",
       "  </tbody>\n",
       "</table>\n",
       "</div>"
      ],
      "text/plain": [
       "  origin destination  ranking    distance source\n",
       "0   001A        001A      6.0    0.000000    TWT\n",
       "1   001A        001B      7.0  466.875557    TWT\n",
       "2   001A        001M      8.0  312.320477    TWT\n",
       "3   001A        001S      9.0  476.523729    TWT\n",
       "4   001A        001V     10.0  116.362859    TWT"
      ]
     },
     "execution_count": 29,
     "metadata": {},
     "output_type": "execute_result"
    }
   ],
   "source": [
    "trips_rank_df.head()"
   ]
  },
  {
   "cell_type": "code",
   "execution_count": 30,
   "metadata": {
    "scrolled": false
   },
   "outputs": [
    {
     "data": {
      "image/png": "[encoded data removed]",
      "text/plain": [
       "<Figure size 720x360 with 1 Axes>"
      ]
     },
     "metadata": {},
     "output_type": "display_data"
    }
   ],
   "source": [
    "plt.figure(figsize=(10,5))\n",
    "sns.set_style(\"whitegrid\")\n",
    "g= sns.boxplot(data=trips_rank_df, x='ranking', y='distance', hue='source', showfliers = False);\n",
    "g.set_yticks(np.arange(0,1400,100));\n",
    "g.set_ylabel(\"Distance (in km)\");\n",
    "plt.tight_layout()\n",
    "plt.savefig(os.path.join('figs', 'distances_origin_dest_ma.png'))"
   ]
  },
  {
   "cell_type": "markdown",
   "metadata": {},
   "source": [
    "## Comparison methods"
   ]
  },
  {
   "cell_type": "code",
   "execution_count": 31,
   "metadata": {},
   "outputs": [],
   "source": [
    "from sklearn.metrics import mean_squared_error"
   ]
  },
  {
   "cell_type": "code",
   "execution_count": 32,
   "metadata": {},
   "outputs": [],
   "source": [
    "def compare_column_ODs_fn(twt_od, ine_od,date_):\n",
    "    twt_od = twt_od.fillna(0)\n",
    "    ine_od = ine_od.fillna(0)\n",
    "    results = []\n",
    "    ids_ = ine_od.columns.tolist()\n",
    "    for id_ in ids_:\n",
    "        row_twt= twt_od[id_]\n",
    "        row_ine = ine_od[id_]\n",
    "        \n",
    "        columns_ine = row_ine[row_ine>0].index.tolist()\n",
    "        columns_twt = row_twt[row_twt>0].index.tolist()\n",
    "        \n",
    "        target_columns = set(columns_ine).union(set(columns_twt))\n",
    "        if len(target_columns)>0:\n",
    "            target_columns.remove('total')\n",
    "            frow_twt = row_twt[target_columns]\n",
    "            frow_ine = row_ine[target_columns]\n",
    "\n",
    "            norm_rown_ine= frow_ine\n",
    "            sum_ine= sum(frow_ine)\n",
    "            if sum_ine >0:\n",
    "                norm_rown_ine= frow_ine/sum_ine\n",
    "\n",
    "            norm_rown_twt= frow_twt\n",
    "            sum_twt= sum(frow_twt)\n",
    "            if sum_twt>0:\n",
    "                norm_rown_twt= frow_twt/sum_twt\n",
    "\n",
    "            corr_= frow_ine.corr(frow_twt)           \n",
    "            rmse_= mean_squared_error(norm_rown_ine, norm_rown_twt)           \n",
    "            \n",
    "            intersect_columns = set(columns_ine).intersection(set(columns_twt))\n",
    "            overlap = len(intersect_columns)/len(target_columns)\n",
    "\n",
    "            results.append((id_, corr_, rmse_, overlap, date_))\n",
    "    \n",
    "    return results"
   ]
  },
  {
   "cell_type": "code",
   "execution_count": 33,
   "metadata": {},
   "outputs": [],
   "source": [
    "def compare_row_ODs_fn(twt_od, ine_od,date_):\n",
    "    twt_od = twt_od.fillna(0)\n",
    "    ine_od = ine_od.fillna(0)\n",
    "    results = []\n",
    "    ids_ = ine_od.index.tolist()\n",
    "    for id_ in ids_:\n",
    "        row_twt= twt_od.loc[id_]\n",
    "        row_ine = ine_od.loc[id_]\n",
    "        \n",
    "        columns_ine = row_ine[row_ine>0].index.tolist()\n",
    "        columns_twt = row_twt[row_twt>0].index.tolist()\n",
    "        \n",
    "        target_columns = set(columns_ine).union(set(columns_twt))\n",
    "        if len(target_columns)>0:\n",
    "            target_columns.remove('total')\n",
    "            frow_twt = row_twt[target_columns]\n",
    "            frow_ine = row_ine[target_columns]\n",
    "\n",
    "            norm_rown_ine= frow_ine\n",
    "            sum_ine= sum(frow_ine)\n",
    "            if sum_ine >0:\n",
    "                norm_rown_ine= frow_ine/sum_ine\n",
    "\n",
    "            norm_rown_twt= frow_twt\n",
    "            sum_twt= sum(frow_twt)\n",
    "            if sum_twt>0:\n",
    "                norm_rown_twt= frow_twt/sum_twt\n",
    "\n",
    "            corr_= frow_ine.corr(frow_twt)           \n",
    "            rmse_= mean_squared_error(norm_rown_ine, norm_rown_twt)\n",
    "            \n",
    "            intersect_columns = set(columns_ine).intersection(set(columns_twt))\n",
    "            overlap = len(intersect_columns)/len(target_columns)\n",
    "\n",
    "            results.append((id_, corr_, rmse_, overlap, date_))\n",
    "    \n",
    "    return results"
   ]
  },
  {
   "cell_type": "code",
   "execution_count": 34,
   "metadata": {},
   "outputs": [],
   "source": [
    "def generate_comparive_fn(axis=0):\n",
    "    all_results = []\n",
    "    comparison_method = compare_row_ODs_fn\n",
    "    if axis==1:\n",
    "        comparison_method= compare_column_ODs_fn\n",
    "        \n",
    "    for d in tqdm_notebook(target_days):\n",
    "        date_results = comparison_method(twt_ods[d], ine_ods[d],d)\n",
    "        all_results= all_results + date_results\n",
    "    results_df = pd.DataFrame.from_records(all_results, columns='MA_id corr rmse overlap date'.split())\n",
    "    results_df= results_df.dropna(axis=0)\n",
    "    results_df['date'] = results_df['date'].astype(str)\n",
    "    \n",
    "    return results_df"
   ]
  },
  {
   "cell_type": "markdown",
   "metadata": {},
   "source": [
    "## Compare outgoing flows"
   ]
  },
  {
   "cell_type": "code",
   "execution_count": 35,
   "metadata": {
    "scrolled": true
   },
   "outputs": [
    {
     "data": {
      "application/vnd.jupyter.widget-view+json": {
       "model_id": "09f5e6782d7c4d4a9dd19f8e7518e3ef",
       "version_major": 2,
       "version_minor": 0
      },
      "text/plain": [
       "HBox(children=(IntProgress(value=0, max=81), HTML(value='')))"
      ]
     },
     "metadata": {},
     "output_type": "display_data"
    },
    {
     "name": "stdout",
     "output_type": "stream",
     "text": [
      "\n"
     ]
    }
   ],
   "source": [
    "date_results_df=generate_comparive_fn(axis=0)"
   ]
  },
  {
   "cell_type": "code",
   "execution_count": 36,
   "metadata": {},
   "outputs": [
    {
     "data": {
      "text/html": [
       "<div>\n",
       "<style scoped>\n",
       "    .dataframe tbody tr th:only-of-type {\n",
       "        vertical-align: middle;\n",
       "    }\n",
       "\n",
       "    .dataframe tbody tr th {\n",
       "        vertical-align: top;\n",
       "    }\n",
       "\n",
       "    .dataframe thead th {\n",
       "        text-align: right;\n",
       "    }\n",
       "</style>\n",
       "<table border=\"1\" class=\"dataframe\">\n",
       "  <thead>\n",
       "    <tr style=\"text-align: right;\">\n",
       "      <th></th>\n",
       "      <th>MA_id</th>\n",
       "      <th>corr</th>\n",
       "      <th>rmse</th>\n",
       "      <th>overlap</th>\n",
       "      <th>date</th>\n",
       "    </tr>\n",
       "  </thead>\n",
       "  <tbody>\n",
       "    <tr>\n",
       "      <th>1</th>\n",
       "      <td>001B</td>\n",
       "      <td>-0.989486</td>\n",
       "      <td>0.167236</td>\n",
       "      <td>0.2</td>\n",
       "      <td>2020-04-01</td>\n",
       "    </tr>\n",
       "    <tr>\n",
       "      <th>3</th>\n",
       "      <td>002A</td>\n",
       "      <td>-1.000000</td>\n",
       "      <td>0.581150</td>\n",
       "      <td>1.0</td>\n",
       "      <td>2020-04-01</td>\n",
       "    </tr>\n",
       "    <tr>\n",
       "      <th>4</th>\n",
       "      <td>002B</td>\n",
       "      <td>-1.000000</td>\n",
       "      <td>1.000000</td>\n",
       "      <td>0.5</td>\n",
       "      <td>2020-04-01</td>\n",
       "    </tr>\n",
       "    <tr>\n",
       "      <th>15</th>\n",
       "      <td>005A</td>\n",
       "      <td>-0.766570</td>\n",
       "      <td>0.257018</td>\n",
       "      <td>0.2</td>\n",
       "      <td>2020-04-01</td>\n",
       "    </tr>\n",
       "    <tr>\n",
       "      <th>17</th>\n",
       "      <td>005M</td>\n",
       "      <td>-1.000000</td>\n",
       "      <td>1.000000</td>\n",
       "      <td>0.5</td>\n",
       "      <td>2020-04-01</td>\n",
       "    </tr>\n",
       "  </tbody>\n",
       "</table>\n",
       "</div>"
      ],
      "text/plain": [
       "   MA_id      corr      rmse  overlap        date\n",
       "1   001B -0.989486  0.167236      0.2  2020-04-01\n",
       "3   002A -1.000000  0.581150      1.0  2020-04-01\n",
       "4   002B -1.000000  1.000000      0.5  2020-04-01\n",
       "15  005A -0.766570  0.257018      0.2  2020-04-01\n",
       "17  005M -1.000000  1.000000      0.5  2020-04-01"
      ]
     },
     "execution_count": 36,
     "metadata": {},
     "output_type": "execute_result"
    }
   ],
   "source": [
    "date_results_df.head()"
   ]
  },
  {
   "cell_type": "code",
   "execution_count": 37,
   "metadata": {},
   "outputs": [],
   "source": [
    "import seaborn as sns"
   ]
  },
  {
   "cell_type": "markdown",
   "metadata": {},
   "source": [
    "### Pearson correlation"
   ]
  },
  {
   "cell_type": "code",
   "execution_count": 38,
   "metadata": {},
   "outputs": [
    {
     "data": {
      "image/png": "[encoded data removed]",
      "text/plain": [
       "<Figure size 1440x360 with 1 Axes>"
      ]
     },
     "metadata": {},
     "output_type": "display_data"
    }
   ],
   "source": [
    "plt.figure(figsize=(20,5))\n",
    "sns.set_style(\"whitegrid\")\n",
    "ax= sns.boxplot(data=date_results_df, x='date', y='corr',showfliers = False);\n",
    "ax.set_xticklabels(ax.get_xticklabels(), rotation=90)\n",
    "ax.grid(True)\n",
    "plt.title(\"Pearson correlation evolution\");"
   ]
  },
  {
   "cell_type": "markdown",
   "metadata": {},
   "source": [
    "### RMSE"
   ]
  },
  {
   "cell_type": "code",
   "execution_count": 39,
   "metadata": {},
   "outputs": [],
   "source": [
    "median_date_results_df= date_results_df.groupby('date')['rmse'].median().to_frame()"
   ]
  },
  {
   "cell_type": "code",
   "execution_count": 40,
   "metadata": {},
   "outputs": [
    {
     "data": {
      "text/html": [
       "<div>\n",
       "<style scoped>\n",
       "    .dataframe tbody tr th:only-of-type {\n",
       "        vertical-align: middle;\n",
       "    }\n",
       "\n",
       "    .dataframe tbody tr th {\n",
       "        vertical-align: top;\n",
       "    }\n",
       "\n",
       "    .dataframe thead th {\n",
       "        text-align: right;\n",
       "    }\n",
       "</style>\n",
       "<table border=\"1\" class=\"dataframe\">\n",
       "  <thead>\n",
       "    <tr style=\"text-align: right;\">\n",
       "      <th></th>\n",
       "      <th>date</th>\n",
       "      <th>rmse</th>\n",
       "    </tr>\n",
       "  </thead>\n",
       "  <tbody>\n",
       "    <tr>\n",
       "      <th>0</th>\n",
       "      <td>2020-04-01</td>\n",
       "      <td>0.214184</td>\n",
       "    </tr>\n",
       "    <tr>\n",
       "      <th>1</th>\n",
       "      <td>2020-04-02</td>\n",
       "      <td>0.200890</td>\n",
       "    </tr>\n",
       "    <tr>\n",
       "      <th>2</th>\n",
       "      <td>2020-04-03</td>\n",
       "      <td>0.200834</td>\n",
       "    </tr>\n",
       "    <tr>\n",
       "      <th>3</th>\n",
       "      <td>2020-04-04</td>\n",
       "      <td>0.250307</td>\n",
       "    </tr>\n",
       "    <tr>\n",
       "      <th>4</th>\n",
       "      <td>2020-04-05</td>\n",
       "      <td>0.262660</td>\n",
       "    </tr>\n",
       "  </tbody>\n",
       "</table>\n",
       "</div>"
      ],
      "text/plain": [
       "         date      rmse\n",
       "0  2020-04-01  0.214184\n",
       "1  2020-04-02  0.200890\n",
       "2  2020-04-03  0.200834\n",
       "3  2020-04-04  0.250307\n",
       "4  2020-04-05  0.262660"
      ]
     },
     "execution_count": 40,
     "metadata": {},
     "output_type": "execute_result"
    }
   ],
   "source": [
    "median_date_results_df.reset_index().head()"
   ]
  },
  {
   "cell_type": "code",
   "execution_count": 41,
   "metadata": {},
   "outputs": [
    {
     "data": {
      "image/png": "[encoded data removed]",
      "text/plain": [
       "<Figure size 1440x360 with 1 Axes>"
      ]
     },
     "metadata": {},
     "output_type": "display_data"
    }
   ],
   "source": [
    "plt.figure(figsize=(20,5))\n",
    "sns.set_style(\"whitegrid\")\n",
    "ax=sns.boxplot(data=date_results_df, x='date', y='rmse',showfliers = False);\n",
    "\n",
    "ax = sns.lineplot(data=median_date_results_df.reset_index(), x='date', y='rmse',ax=ax, linewidth=6, color='green')\n",
    "\n",
    "ax.set_xticklabels(ax.get_xticklabels(), rotation=90)\n",
    "ax.set_yticks(np.arange(0,1.1,0.1))\n",
    "\n",
    "ax.axhline(0.2, linewidth=4, color='red', linestyle='--')\n",
    "\n",
    "ax.grid(True)\n",
    "#plt.title(\"RMSE evolution (outgoing flow)\");\n",
    "plt.tight_layout()\n",
    "plt.savefig(os.path.join('figs', 'rmse_outgoing.png'))"
   ]
  },
  {
   "cell_type": "markdown",
   "metadata": {},
   "source": [
    "### Destinations overlap"
   ]
  },
  {
   "cell_type": "code",
   "execution_count": 42,
   "metadata": {},
   "outputs": [],
   "source": [
    "median_date_results_df= date_results_df.groupby('date')['overlap'].median().to_frame()"
   ]
  },
  {
   "cell_type": "code",
   "execution_count": 43,
   "metadata": {
    "scrolled": true
   },
   "outputs": [
    {
     "data": {
      "image/png": "[encoded data removed]",
      "text/plain": [
       "<Figure size 1440x360 with 1 Axes>"
      ]
     },
     "metadata": {},
     "output_type": "display_data"
    }
   ],
   "source": [
    "plt.figure(figsize=(20,5))\n",
    "sns.set_style(\"whitegrid\")\n",
    "ax=sns.boxplot(data=date_results_df, x='date', y='overlap',showfliers = False);\n",
    "\n",
    "ax = sns.lineplot(data=median_date_results_df.reset_index(), x='date', y='overlap',ax=ax, linewidth=6, color='green')\n",
    "\n",
    "ax.set_xticklabels(ax.get_xticklabels(), rotation=90)\n",
    "ax.set_yticks(np.arange(0,1.1,0.1))\n",
    "\n",
    "ax.axhline(0.25, linewidth=4, color='red', linestyle='--')\n",
    "\n",
    "ax.grid(True)\n",
    "#plt.title(\"Destination overlap evolution\");\n",
    "plt.tight_layout()\n",
    "plt.savefig(os.path.join('figs', 'dest_overlap.png'))"
   ]
  },
  {
   "cell_type": "markdown",
   "metadata": {},
   "source": [
    "## Compare incoming flows"
   ]
  },
  {
   "cell_type": "code",
   "execution_count": 44,
   "metadata": {},
   "outputs": [
    {
     "data": {
      "application/vnd.jupyter.widget-view+json": {
       "model_id": "b6050985978c456d8290e3e64f88ecb6",
       "version_major": 2,
       "version_minor": 0
      },
      "text/plain": [
       "HBox(children=(IntProgress(value=0, max=81), HTML(value='')))"
      ]
     },
     "metadata": {},
     "output_type": "display_data"
    },
    {
     "name": "stdout",
     "output_type": "stream",
     "text": [
      "\n"
     ]
    }
   ],
   "source": [
    "date_results_df=generate_comparive_fn(axis=1)"
   ]
  },
  {
   "cell_type": "code",
   "execution_count": 45,
   "metadata": {},
   "outputs": [
    {
     "data": {
      "text/html": [
       "<div>\n",
       "<style scoped>\n",
       "    .dataframe tbody tr th:only-of-type {\n",
       "        vertical-align: middle;\n",
       "    }\n",
       "\n",
       "    .dataframe tbody tr th {\n",
       "        vertical-align: top;\n",
       "    }\n",
       "\n",
       "    .dataframe thead th {\n",
       "        text-align: right;\n",
       "    }\n",
       "</style>\n",
       "<table border=\"1\" class=\"dataframe\">\n",
       "  <thead>\n",
       "    <tr style=\"text-align: right;\">\n",
       "      <th></th>\n",
       "      <th>MA_id</th>\n",
       "      <th>corr</th>\n",
       "      <th>rmse</th>\n",
       "      <th>overlap</th>\n",
       "      <th>date</th>\n",
       "    </tr>\n",
       "  </thead>\n",
       "  <tbody>\n",
       "    <tr>\n",
       "      <th>1</th>\n",
       "      <td>001B</td>\n",
       "      <td>-0.961866</td>\n",
       "      <td>0.504492</td>\n",
       "      <td>0.333333</td>\n",
       "      <td>2020-04-01</td>\n",
       "    </tr>\n",
       "    <tr>\n",
       "      <th>4</th>\n",
       "      <td>002A</td>\n",
       "      <td>-1.000000</td>\n",
       "      <td>0.567808</td>\n",
       "      <td>1.000000</td>\n",
       "      <td>2020-04-01</td>\n",
       "    </tr>\n",
       "    <tr>\n",
       "      <th>5</th>\n",
       "      <td>002B</td>\n",
       "      <td>-0.542822</td>\n",
       "      <td>0.383204</td>\n",
       "      <td>0.250000</td>\n",
       "      <td>2020-04-01</td>\n",
       "    </tr>\n",
       "    <tr>\n",
       "      <th>9</th>\n",
       "      <td>003B</td>\n",
       "      <td>-1.000000</td>\n",
       "      <td>1.000000</td>\n",
       "      <td>0.500000</td>\n",
       "      <td>2020-04-01</td>\n",
       "    </tr>\n",
       "    <tr>\n",
       "      <th>17</th>\n",
       "      <td>005M</td>\n",
       "      <td>-1.000000</td>\n",
       "      <td>1.000000</td>\n",
       "      <td>0.500000</td>\n",
       "      <td>2020-04-01</td>\n",
       "    </tr>\n",
       "  </tbody>\n",
       "</table>\n",
       "</div>"
      ],
      "text/plain": [
       "   MA_id      corr      rmse   overlap        date\n",
       "1   001B -0.961866  0.504492  0.333333  2020-04-01\n",
       "4   002A -1.000000  0.567808  1.000000  2020-04-01\n",
       "5   002B -0.542822  0.383204  0.250000  2020-04-01\n",
       "9   003B -1.000000  1.000000  0.500000  2020-04-01\n",
       "17  005M -1.000000  1.000000  0.500000  2020-04-01"
      ]
     },
     "execution_count": 45,
     "metadata": {},
     "output_type": "execute_result"
    }
   ],
   "source": [
    "date_results_df.head()"
   ]
  },
  {
   "cell_type": "markdown",
   "metadata": {},
   "source": [
    "### RMSE evol"
   ]
  },
  {
   "cell_type": "code",
   "execution_count": 46,
   "metadata": {},
   "outputs": [],
   "source": [
    "median_date_results_df= date_results_df.groupby('date')['rmse'].median().to_frame()"
   ]
  },
  {
   "cell_type": "code",
   "execution_count": 47,
   "metadata": {
    "scrolled": true
   },
   "outputs": [
    {
     "data": {
      "image/png": "[encoded data removed]",
      "text/plain": [
       "<Figure size 1440x360 with 1 Axes>"
      ]
     },
     "metadata": {},
     "output_type": "display_data"
    }
   ],
   "source": [
    "plt.figure(figsize=(20,5))\n",
    "sns.set_style(\"whitegrid\")\n",
    "ax=sns.boxplot(data=date_results_df, x='date', y='rmse',showfliers = False);\n",
    "\n",
    "ax = sns.lineplot(data=median_date_results_df.reset_index(), x='date', y='rmse',ax=ax, linewidth=6, color='green')\n",
    "\n",
    "ax.set_xticklabels(ax.get_xticklabels(), rotation=90)\n",
    "ax.set_yticks(np.arange(0,1.1,0.1))\n",
    "\n",
    "ax.axhline(0.2, linewidth=4, color='red', linestyle='--')\n",
    "\n",
    "ax.grid(True)\n",
    "#plt.title(\"RMSE evolution (incoming flow)\");\n",
    "plt.tight_layout()\n",
    "plt.savefig(os.path.join('figs', 'rmse_incoming.png'))"
   ]
  },
  {
   "cell_type": "code",
   "execution_count": 48,
   "metadata": {},
   "outputs": [],
   "source": [
    "median_date_results_df= date_results_df.groupby('date')['overlap'].median().to_frame()"
   ]
  },
  {
   "cell_type": "markdown",
   "metadata": {},
   "source": [
    "### Origin overlap"
   ]
  },
  {
   "cell_type": "code",
   "execution_count": 49,
   "metadata": {},
   "outputs": [
    {
     "data": {
      "image/png": "[encoded data removed]",
      "text/plain": [
       "<Figure size 1440x360 with 1 Axes>"
      ]
     },
     "metadata": {},
     "output_type": "display_data"
    }
   ],
   "source": [
    "plt.figure(figsize=(20,5))\n",
    "sns.set_style(\"whitegrid\")\n",
    "ax=sns.boxplot(data=date_results_df, x='date', y='overlap',showfliers = False);\n",
    "\n",
    "ax = sns.lineplot(data=median_date_results_df.reset_index(), x='date', y='overlap',ax=ax, linewidth=6, color='green')\n",
    "\n",
    "ax.set_xticklabels(ax.get_xticklabels(), rotation=90)\n",
    "ax.set_yticks(np.arange(0,1.1,0.1))\n",
    "\n",
    "ax.axhline(0.25, linewidth=4, color='red', linestyle='--')\n",
    "\n",
    "ax.grid(True)\n",
    "#plt.title(\"Origin overlap evolution\");\n",
    "plt.tight_layout()\n",
    "plt.savefig(os.path.join('figs', 'origin_overlap.png'))"
   ]
  },
  {
   "cell_type": "markdown",
   "metadata": {},
   "source": [
    "## Compare number of active MAs"
   ]
  },
  {
   "cell_type": "code",
   "execution_count": 50,
   "metadata": {},
   "outputs": [],
   "source": [
    "def calculate_num_orig_dest_fn():\n",
    "    results = []\n",
    "    for d in tqdm_notebook(target_days):\n",
    "        twt_n_origins = twt_ods[d][twt_ods[d]['total']>0].shape[0]-1 #We remove the 'total' row/column\n",
    "        twt_n_destinations = twt_ods[d].loc['total'][twt_ods[d].loc['total']>0].shape[0]-1\n",
    "        \n",
    "        results.append((twt_n_origins, 'origin', 'TWT',d))\n",
    "        results.append((twt_n_destinations, 'destination', 'TWT',d))\n",
    "\n",
    "        \n",
    "        ine_n_origins = ine_ods[d][ine_ods[d]['total']>0].shape[0]-1\n",
    "        ine_n_destinations =ine_ods[d].loc['total'][ine_ods[d].loc['total']>0].shape[0]-1\n",
    "        \n",
    "        results.append((ine_n_origins, 'origin', 'INE',d))\n",
    "        results.append((ine_n_destinations, 'destination', 'INE',d))\n",
    "        \n",
    "    result_df= pd.DataFrame(results, columns='number type source date'.split())\n",
    "    result_df['date'] = result_df['date'].astype(str)\n",
    "\n",
    "    return result_df"
   ]
  },
  {
   "cell_type": "code",
   "execution_count": 51,
   "metadata": {},
   "outputs": [
    {
     "data": {
      "application/vnd.jupyter.widget-view+json": {
       "model_id": "f3e5bc517de247ccabecca713e071d32",
       "version_major": 2,
       "version_minor": 0
      },
      "text/plain": [
       "HBox(children=(IntProgress(value=0, max=81), HTML(value='')))"
      ]
     },
     "metadata": {},
     "output_type": "display_data"
    },
    {
     "name": "stdout",
     "output_type": "stream",
     "text": [
      "\n"
     ]
    }
   ],
   "source": [
    "n_origin_dest_df = calculate_num_orig_dest_fn()"
   ]
  },
  {
   "cell_type": "code",
   "execution_count": 52,
   "metadata": {},
   "outputs": [
    {
     "data": {
      "text/html": [
       "<div>\n",
       "<style scoped>\n",
       "    .dataframe tbody tr th:only-of-type {\n",
       "        vertical-align: middle;\n",
       "    }\n",
       "\n",
       "    .dataframe tbody tr th {\n",
       "        vertical-align: top;\n",
       "    }\n",
       "\n",
       "    .dataframe thead th {\n",
       "        text-align: right;\n",
       "    }\n",
       "</style>\n",
       "<table border=\"1\" class=\"dataframe\">\n",
       "  <thead>\n",
       "    <tr style=\"text-align: right;\">\n",
       "      <th></th>\n",
       "      <th>number</th>\n",
       "      <th>type</th>\n",
       "      <th>source</th>\n",
       "      <th>date</th>\n",
       "    </tr>\n",
       "  </thead>\n",
       "  <tbody>\n",
       "    <tr>\n",
       "      <th>0</th>\n",
       "      <td>668</td>\n",
       "      <td>origin</td>\n",
       "      <td>TWT</td>\n",
       "      <td>2020-04-01</td>\n",
       "    </tr>\n",
       "    <tr>\n",
       "      <th>1</th>\n",
       "      <td>639</td>\n",
       "      <td>destination</td>\n",
       "      <td>TWT</td>\n",
       "      <td>2020-04-01</td>\n",
       "    </tr>\n",
       "    <tr>\n",
       "      <th>2</th>\n",
       "      <td>2542</td>\n",
       "      <td>origin</td>\n",
       "      <td>INE</td>\n",
       "      <td>2020-04-01</td>\n",
       "    </tr>\n",
       "    <tr>\n",
       "      <th>3</th>\n",
       "      <td>2490</td>\n",
       "      <td>destination</td>\n",
       "      <td>INE</td>\n",
       "      <td>2020-04-01</td>\n",
       "    </tr>\n",
       "    <tr>\n",
       "      <th>4</th>\n",
       "      <td>670</td>\n",
       "      <td>origin</td>\n",
       "      <td>TWT</td>\n",
       "      <td>2020-04-02</td>\n",
       "    </tr>\n",
       "  </tbody>\n",
       "</table>\n",
       "</div>"
      ],
      "text/plain": [
       "   number         type source        date\n",
       "0     668       origin    TWT  2020-04-01\n",
       "1     639  destination    TWT  2020-04-01\n",
       "2    2542       origin    INE  2020-04-01\n",
       "3    2490  destination    INE  2020-04-01\n",
       "4     670       origin    TWT  2020-04-02"
      ]
     },
     "execution_count": 52,
     "metadata": {},
     "output_type": "execute_result"
    }
   ],
   "source": [
    "n_origin_dest_df.head()"
   ]
  },
  {
   "cell_type": "code",
   "execution_count": 53,
   "metadata": {
    "scrolled": true
   },
   "outputs": [
    {
     "data": {
      "image/png": "[encoded data removed]",
      "text/plain": [
       "<Figure size 360x360 with 1 Axes>"
      ]
     },
     "metadata": {},
     "output_type": "display_data"
    }
   ],
   "source": [
    "plt.figure(figsize=(5,5))\n",
    "sns.set_style(\"whitegrid\")\n",
    "ax=sns.boxplot(data=n_origin_dest_df, x='source', y='number',hue='type', showfliers = False);\n",
    "ax.grid(True)\n",
    "#plt.title(\"Number of origin-destinations (no threshold)\");\n",
    "plt.tight_layout()\n",
    "plt.savefig(os.path.join('figs', 'num_origin_dest_ma.png'))"
   ]
  },
  {
   "cell_type": "code",
   "execution_count": 54,
   "metadata": {},
   "outputs": [],
   "source": [
    "n_origin_df = n_origin_dest_df[n_origin_dest_df['type']=='origin']\n",
    "n_dest_df = n_origin_dest_df[n_origin_dest_df['type']=='destination']"
   ]
  },
  {
   "cell_type": "code",
   "execution_count": 55,
   "metadata": {},
   "outputs": [
    {
     "data": {
      "text/html": [
       "<div>\n",
       "<style scoped>\n",
       "    .dataframe tbody tr th:only-of-type {\n",
       "        vertical-align: middle;\n",
       "    }\n",
       "\n",
       "    .dataframe tbody tr th {\n",
       "        vertical-align: top;\n",
       "    }\n",
       "\n",
       "    .dataframe thead th {\n",
       "        text-align: right;\n",
       "    }\n",
       "</style>\n",
       "<table border=\"1\" class=\"dataframe\">\n",
       "  <thead>\n",
       "    <tr style=\"text-align: right;\">\n",
       "      <th></th>\n",
       "      <th>number</th>\n",
       "      <th>type</th>\n",
       "      <th>source</th>\n",
       "      <th>date</th>\n",
       "    </tr>\n",
       "  </thead>\n",
       "  <tbody>\n",
       "    <tr>\n",
       "      <th>0</th>\n",
       "      <td>668</td>\n",
       "      <td>origin</td>\n",
       "      <td>TWT</td>\n",
       "      <td>2020-04-01</td>\n",
       "    </tr>\n",
       "    <tr>\n",
       "      <th>2</th>\n",
       "      <td>2542</td>\n",
       "      <td>origin</td>\n",
       "      <td>INE</td>\n",
       "      <td>2020-04-01</td>\n",
       "    </tr>\n",
       "    <tr>\n",
       "      <th>4</th>\n",
       "      <td>670</td>\n",
       "      <td>origin</td>\n",
       "      <td>TWT</td>\n",
       "      <td>2020-04-02</td>\n",
       "    </tr>\n",
       "    <tr>\n",
       "      <th>6</th>\n",
       "      <td>2538</td>\n",
       "      <td>origin</td>\n",
       "      <td>INE</td>\n",
       "      <td>2020-04-02</td>\n",
       "    </tr>\n",
       "    <tr>\n",
       "      <th>8</th>\n",
       "      <td>625</td>\n",
       "      <td>origin</td>\n",
       "      <td>TWT</td>\n",
       "      <td>2020-04-03</td>\n",
       "    </tr>\n",
       "  </tbody>\n",
       "</table>\n",
       "</div>"
      ],
      "text/plain": [
       "   number    type source        date\n",
       "0     668  origin    TWT  2020-04-01\n",
       "2    2542  origin    INE  2020-04-01\n",
       "4     670  origin    TWT  2020-04-02\n",
       "6    2538  origin    INE  2020-04-02\n",
       "8     625  origin    TWT  2020-04-03"
      ]
     },
     "execution_count": 55,
     "metadata": {},
     "output_type": "execute_result"
    }
   ],
   "source": [
    "n_origin_df.head()"
   ]
  },
  {
   "cell_type": "markdown",
   "metadata": {},
   "source": [
    "### Number of MAs acting as trip origin"
   ]
  },
  {
   "cell_type": "code",
   "execution_count": 56,
   "metadata": {
    "scrolled": true
   },
   "outputs": [
    {
     "data": {
      "image/png": "[encoded data removed]",
      "text/plain": [
       "<Figure size 1440x360 with 1 Axes>"
      ]
     },
     "metadata": {},
     "output_type": "display_data"
    }
   ],
   "source": [
    "plt.figure(figsize=(20,5))\n",
    "sns.set_style(\"whitegrid\")\n",
    "\n",
    "ax = sns.lineplot(data=n_origin_df, x='date', y='number',hue='source')\n",
    "\n",
    "ax.set_xticklabels(ax.get_xticklabels(), rotation=90)\n",
    "\n",
    "ax.axhline(750, linewidth=2, color='red', linestyle='--')\n",
    "ax.axhline(2900, linewidth=2, color='red', linestyle='--')\n",
    "\n",
    "\n",
    "ax.grid(True)\n",
    "plt.title(\"Number of origins evolution\");"
   ]
  },
  {
   "cell_type": "markdown",
   "metadata": {},
   "source": [
    "#### Correlation"
   ]
  },
  {
   "cell_type": "code",
   "execution_count": 57,
   "metadata": {},
   "outputs": [],
   "source": [
    "import scipy.stats as stats"
   ]
  },
  {
   "cell_type": "code",
   "execution_count": 58,
   "metadata": {},
   "outputs": [
    {
     "name": "stdout",
     "output_type": "stream",
     "text": [
      "Scipy computed Pearson r: 0.7881144281732596 and p-value: 2.526792217506677e-18\n"
     ]
    }
   ],
   "source": [
    "r, p = stats.pearsonr(n_origin_df[n_origin_df['source']=='TWT']['number'], \n",
    "                      n_origin_df[n_origin_df['source']=='INE']['number'])\n",
    "print(f\"Scipy computed Pearson r: {r} and p-value: {p}\")"
   ]
  },
  {
   "cell_type": "markdown",
   "metadata": {},
   "source": [
    "## Number of MAs acting as trip destinations"
   ]
  },
  {
   "cell_type": "code",
   "execution_count": 59,
   "metadata": {
    "scrolled": true
   },
   "outputs": [
    {
     "data": {
      "image/png": "[encoded data removed]",
      "text/plain": [
       "<Figure size 1440x360 with 1 Axes>"
      ]
     },
     "metadata": {},
     "output_type": "display_data"
    }
   ],
   "source": [
    "plt.figure(figsize=(20,5))\n",
    "sns.set_style(\"whitegrid\")\n",
    "\n",
    "ax = sns.lineplot(data=n_dest_df, x='date', y='number',hue='source')\n",
    "\n",
    "ax.set_xticklabels(ax.get_xticklabels(), rotation=90)\n",
    "\n",
    "ax.axhline(700, linewidth=2, color='red', linestyle='--')\n",
    "ax.axhline(2700, linewidth=2, color='red', linestyle='--')\n",
    "\n",
    "\n",
    "ax.grid(True)\n",
    "plt.title(\"Number of destinations evolution\");"
   ]
  },
  {
   "cell_type": "code",
   "execution_count": 60,
   "metadata": {},
   "outputs": [],
   "source": [
    "import scipy.stats as stats"
   ]
  },
  {
   "cell_type": "markdown",
   "metadata": {},
   "source": [
    "#### Correlation"
   ]
  },
  {
   "cell_type": "code",
   "execution_count": 61,
   "metadata": {},
   "outputs": [
    {
     "name": "stdout",
     "output_type": "stream",
     "text": [
      "Scipy computed Pearson r: 0.8298338600362551 and p-value: 1.0354248340024714e-21\n"
     ]
    }
   ],
   "source": [
    "r, p = stats.pearsonr(n_dest_df[n_dest_df['source']=='TWT']['number'], \n",
    "                      n_dest_df[n_dest_df['source']=='INE']['number'])\n",
    "print(f\"Scipy computed Pearson r: {r} and p-value: {p}\")"
   ]
  },
  {
   "cell_type": "markdown",
   "metadata": {},
   "source": [
    "## Evolution of the trips distances"
   ]
  },
  {
   "cell_type": "code",
   "execution_count": 62,
   "metadata": {},
   "outputs": [],
   "source": [
    "ma_distances_df = pd.read_csv(os.path.join('data', 'ma_distances.csv'), index_col=0)"
   ]
  },
  {
   "cell_type": "code",
   "execution_count": 63,
   "metadata": {
    "scrolled": true
   },
   "outputs": [
    {
     "data": {
      "text/html": [
       "<div>\n",
       "<style scoped>\n",
       "    .dataframe tbody tr th:only-of-type {\n",
       "        vertical-align: middle;\n",
       "    }\n",
       "\n",
       "    .dataframe tbody tr th {\n",
       "        vertical-align: top;\n",
       "    }\n",
       "\n",
       "    .dataframe thead th {\n",
       "        text-align: right;\n",
       "    }\n",
       "</style>\n",
       "<table border=\"1\" class=\"dataframe\">\n",
       "  <thead>\n",
       "    <tr style=\"text-align: right;\">\n",
       "      <th></th>\n",
       "      <th>001A</th>\n",
       "      <th>001B</th>\n",
       "      <th>001M</th>\n",
       "      <th>001S</th>\n",
       "      <th>001V</th>\n",
       "      <th>002A</th>\n",
       "      <th>002B</th>\n",
       "      <th>002M</th>\n",
       "      <th>002S</th>\n",
       "      <th>002V</th>\n",
       "      <th>...</th>\n",
       "      <th>73AS</th>\n",
       "      <th>40TF</th>\n",
       "      <th>57TF</th>\n",
       "      <th>58TF</th>\n",
       "      <th>43AL</th>\n",
       "      <th>44AL</th>\n",
       "      <th>45AL</th>\n",
       "      <th>53MA</th>\n",
       "      <th>79MA</th>\n",
       "      <th>80MA</th>\n",
       "    </tr>\n",
       "  </thead>\n",
       "  <tbody>\n",
       "    <tr>\n",
       "      <th>44AL</th>\n",
       "      <td>225.783090</td>\n",
       "      <td>678.800729</td>\n",
       "      <td>380.175908</td>\n",
       "      <td>326.052913</td>\n",
       "      <td>335.989215</td>\n",
       "      <td>231.731616</td>\n",
       "      <td>651.957264</td>\n",
       "      <td>386.414428</td>\n",
       "      <td>299.657946</td>\n",
       "      <td>334.911680</td>\n",
       "      <td>...</td>\n",
       "      <td>802.729303</td>\n",
       "      <td>1638.017481</td>\n",
       "      <td>1636.661164</td>\n",
       "      <td>1633.018019</td>\n",
       "      <td>6.637178</td>\n",
       "      <td>0.000000</td>\n",
       "      <td>8.900048</td>\n",
       "      <td>171.112478</td>\n",
       "      <td>174.357879</td>\n",
       "      <td>175.619728</td>\n",
       "    </tr>\n",
       "    <tr>\n",
       "      <th>45AL</th>\n",
       "      <td>232.641895</td>\n",
       "      <td>683.703748</td>\n",
       "      <td>379.425391</td>\n",
       "      <td>317.783345</td>\n",
       "      <td>341.999669</td>\n",
       "      <td>238.511821</td>\n",
       "      <td>656.870795</td>\n",
       "      <td>385.306111</td>\n",
       "      <td>291.634713</td>\n",
       "      <td>340.952567</td>\n",
       "      <td>...</td>\n",
       "      <td>799.913104</td>\n",
       "      <td>1630.548283</td>\n",
       "      <td>1629.204481</td>\n",
       "      <td>1625.545988</td>\n",
       "      <td>4.213342</td>\n",
       "      <td>8.900048</td>\n",
       "      <td>0.000000</td>\n",
       "      <td>162.290078</td>\n",
       "      <td>165.507382</td>\n",
       "      <td>166.811755</td>\n",
       "    </tr>\n",
       "    <tr>\n",
       "      <th>53MA</th>\n",
       "      <td>380.938105</td>\n",
       "      <td>800.555878</td>\n",
       "      <td>421.967528</td>\n",
       "      <td>194.395801</td>\n",
       "      <td>478.892592</td>\n",
       "      <td>385.940968</td>\n",
       "      <td>774.212833</td>\n",
       "      <td>421.419553</td>\n",
       "      <td>180.912683</td>\n",
       "      <td>478.207871</td>\n",
       "      <td>...</td>\n",
       "      <td>787.070098</td>\n",
       "      <td>1485.375093</td>\n",
       "      <td>1484.229935</td>\n",
       "      <td>1480.334012</td>\n",
       "      <td>165.659096</td>\n",
       "      <td>171.112478</td>\n",
       "      <td>162.290078</td>\n",
       "      <td>0.000000</td>\n",
       "      <td>5.522617</td>\n",
       "      <td>4.933206</td>\n",
       "    </tr>\n",
       "    <tr>\n",
       "      <th>79MA</th>\n",
       "      <td>382.538811</td>\n",
       "      <td>800.102315</td>\n",
       "      <td>419.320046</td>\n",
       "      <td>188.873886</td>\n",
       "      <td>479.694102</td>\n",
       "      <td>387.479456</td>\n",
       "      <td>773.796429</td>\n",
       "      <td>418.582687</td>\n",
       "      <td>175.453807</td>\n",
       "      <td>479.029611</td>\n",
       "      <td>...</td>\n",
       "      <td>782.619158</td>\n",
       "      <td>1484.719424</td>\n",
       "      <td>1483.590072</td>\n",
       "      <td>1479.675738</td>\n",
       "      <td>168.806170</td>\n",
       "      <td>174.357879</td>\n",
       "      <td>165.507382</td>\n",
       "      <td>5.522617</td>\n",
       "      <td>0.000000</td>\n",
       "      <td>6.671281</td>\n",
       "    </tr>\n",
       "    <tr>\n",
       "      <th>80MA</th>\n",
       "      <td>385.848697</td>\n",
       "      <td>805.302976</td>\n",
       "      <td>425.763693</td>\n",
       "      <td>193.444839</td>\n",
       "      <td>483.819502</td>\n",
       "      <td>390.856705</td>\n",
       "      <td>778.968737</td>\n",
       "      <td>425.089292</td>\n",
       "      <td>180.777772</td>\n",
       "      <td>483.135664</td>\n",
       "      <td>...</td>\n",
       "      <td>789.187122</td>\n",
       "      <td>1480.453968</td>\n",
       "      <td>1479.309826</td>\n",
       "      <td>1475.412722</td>\n",
       "      <td>170.210049</td>\n",
       "      <td>175.619728</td>\n",
       "      <td>166.811755</td>\n",
       "      <td>4.933206</td>\n",
       "      <td>6.671281</td>\n",
       "      <td>0.000000</td>\n",
       "    </tr>\n",
       "  </tbody>\n",
       "</table>\n",
       "<p>5 rows × 3214 columns</p>\n",
       "</div>"
      ],
      "text/plain": [
       "            001A        001B        001M        001S        001V        002A  \\\n",
       "44AL  225.783090  678.800729  380.175908  326.052913  335.989215  231.731616   \n",
       "45AL  232.641895  683.703748  379.425391  317.783345  341.999669  238.511821   \n",
       "53MA  380.938105  800.555878  421.967528  194.395801  478.892592  385.940968   \n",
       "79MA  382.538811  800.102315  419.320046  188.873886  479.694102  387.479456   \n",
       "80MA  385.848697  805.302976  425.763693  193.444839  483.819502  390.856705   \n",
       "\n",
       "            002B        002M        002S        002V  ...        73AS  \\\n",
       "44AL  651.957264  386.414428  299.657946  334.911680  ...  802.729303   \n",
       "45AL  656.870795  385.306111  291.634713  340.952567  ...  799.913104   \n",
       "53MA  774.212833  421.419553  180.912683  478.207871  ...  787.070098   \n",
       "79MA  773.796429  418.582687  175.453807  479.029611  ...  782.619158   \n",
       "80MA  778.968737  425.089292  180.777772  483.135664  ...  789.187122   \n",
       "\n",
       "             40TF         57TF         58TF        43AL        44AL  \\\n",
       "44AL  1638.017481  1636.661164  1633.018019    6.637178    0.000000   \n",
       "45AL  1630.548283  1629.204481  1625.545988    4.213342    8.900048   \n",
       "53MA  1485.375093  1484.229935  1480.334012  165.659096  171.112478   \n",
       "79MA  1484.719424  1483.590072  1479.675738  168.806170  174.357879   \n",
       "80MA  1480.453968  1479.309826  1475.412722  170.210049  175.619728   \n",
       "\n",
       "            45AL        53MA        79MA        80MA  \n",
       "44AL    8.900048  171.112478  174.357879  175.619728  \n",
       "45AL    0.000000  162.290078  165.507382  166.811755  \n",
       "53MA  162.290078    0.000000    5.522617    4.933206  \n",
       "79MA  165.507382    5.522617    0.000000    6.671281  \n",
       "80MA  166.811755    4.933206    6.671281    0.000000  \n",
       "\n",
       "[5 rows x 3214 columns]"
      ]
     },
     "execution_count": 63,
     "metadata": {},
     "output_type": "execute_result"
    }
   ],
   "source": [
    "ma_distances_df.tail()"
   ]
  },
  {
   "cell_type": "code",
   "execution_count": 64,
   "metadata": {},
   "outputs": [],
   "source": [
    "from itertools import repeat, combinations"
   ]
  },
  {
   "cell_type": "code",
   "execution_count": 65,
   "metadata": {},
   "outputs": [],
   "source": [
    "date_ = datetime.datetime.strptime('2020-04-01', '%Y-%m-%d')\n",
    "od = twt_ods[date_]"
   ]
  },
  {
   "cell_type": "code",
   "execution_count": 66,
   "metadata": {},
   "outputs": [],
   "source": [
    "od_no_total =od.drop('total',axis=0)"
   ]
  },
  {
   "cell_type": "code",
   "execution_count": 67,
   "metadata": {},
   "outputs": [],
   "source": [
    "od_no_totals = od_no_total.drop('total', axis=1)"
   ]
  },
  {
   "cell_type": "code",
   "execution_count": 68,
   "metadata": {},
   "outputs": [],
   "source": [
    "# od_no_totals.tail()"
   ]
  },
  {
   "cell_type": "code",
   "execution_count": 69,
   "metadata": {},
   "outputs": [],
   "source": [
    "results_df = od_no_totals.mul(ma_distances_df)"
   ]
  },
  {
   "cell_type": "code",
   "execution_count": 70,
   "metadata": {},
   "outputs": [
    {
     "data": {
      "text/html": [
       "<div>\n",
       "<style scoped>\n",
       "    .dataframe tbody tr th:only-of-type {\n",
       "        vertical-align: middle;\n",
       "    }\n",
       "\n",
       "    .dataframe tbody tr th {\n",
       "        vertical-align: top;\n",
       "    }\n",
       "\n",
       "    .dataframe thead th {\n",
       "        text-align: right;\n",
       "    }\n",
       "</style>\n",
       "<table border=\"1\" class=\"dataframe\">\n",
       "  <thead>\n",
       "    <tr style=\"text-align: right;\">\n",
       "      <th></th>\n",
       "      <th>001A</th>\n",
       "      <th>001B</th>\n",
       "      <th>001M</th>\n",
       "      <th>001S</th>\n",
       "      <th>001V</th>\n",
       "      <th>002A</th>\n",
       "      <th>002B</th>\n",
       "      <th>002M</th>\n",
       "      <th>002S</th>\n",
       "      <th>002V</th>\n",
       "      <th>...</th>\n",
       "      <th>73AS</th>\n",
       "      <th>40TF</th>\n",
       "      <th>57TF</th>\n",
       "      <th>58TF</th>\n",
       "      <th>43AL</th>\n",
       "      <th>44AL</th>\n",
       "      <th>45AL</th>\n",
       "      <th>53MA</th>\n",
       "      <th>79MA</th>\n",
       "      <th>80MA</th>\n",
       "    </tr>\n",
       "  </thead>\n",
       "  <tbody>\n",
       "    <tr>\n",
       "      <th>44AL</th>\n",
       "      <td>0.0</td>\n",
       "      <td>0.0</td>\n",
       "      <td>0.0</td>\n",
       "      <td>0.0</td>\n",
       "      <td>0.0</td>\n",
       "      <td>0.0</td>\n",
       "      <td>0.0</td>\n",
       "      <td>0.0</td>\n",
       "      <td>0.0</td>\n",
       "      <td>0.0</td>\n",
       "      <td>...</td>\n",
       "      <td>0.0</td>\n",
       "      <td>0.0</td>\n",
       "      <td>0.0</td>\n",
       "      <td>0.0</td>\n",
       "      <td>0.0</td>\n",
       "      <td>0.0</td>\n",
       "      <td>0.0</td>\n",
       "      <td>0.0</td>\n",
       "      <td>0.0</td>\n",
       "      <td>0.0</td>\n",
       "    </tr>\n",
       "    <tr>\n",
       "      <th>45AL</th>\n",
       "      <td>0.0</td>\n",
       "      <td>0.0</td>\n",
       "      <td>0.0</td>\n",
       "      <td>0.0</td>\n",
       "      <td>0.0</td>\n",
       "      <td>0.0</td>\n",
       "      <td>0.0</td>\n",
       "      <td>0.0</td>\n",
       "      <td>0.0</td>\n",
       "      <td>0.0</td>\n",
       "      <td>...</td>\n",
       "      <td>0.0</td>\n",
       "      <td>0.0</td>\n",
       "      <td>0.0</td>\n",
       "      <td>0.0</td>\n",
       "      <td>0.0</td>\n",
       "      <td>0.0</td>\n",
       "      <td>0.0</td>\n",
       "      <td>0.0</td>\n",
       "      <td>0.0</td>\n",
       "      <td>0.0</td>\n",
       "    </tr>\n",
       "    <tr>\n",
       "      <th>53MA</th>\n",
       "      <td>0.0</td>\n",
       "      <td>0.0</td>\n",
       "      <td>0.0</td>\n",
       "      <td>0.0</td>\n",
       "      <td>0.0</td>\n",
       "      <td>0.0</td>\n",
       "      <td>0.0</td>\n",
       "      <td>0.0</td>\n",
       "      <td>0.0</td>\n",
       "      <td>0.0</td>\n",
       "      <td>...</td>\n",
       "      <td>0.0</td>\n",
       "      <td>0.0</td>\n",
       "      <td>0.0</td>\n",
       "      <td>0.0</td>\n",
       "      <td>0.0</td>\n",
       "      <td>0.0</td>\n",
       "      <td>0.0</td>\n",
       "      <td>0.0</td>\n",
       "      <td>0.0</td>\n",
       "      <td>0.0</td>\n",
       "    </tr>\n",
       "    <tr>\n",
       "      <th>79MA</th>\n",
       "      <td>0.0</td>\n",
       "      <td>0.0</td>\n",
       "      <td>0.0</td>\n",
       "      <td>0.0</td>\n",
       "      <td>0.0</td>\n",
       "      <td>0.0</td>\n",
       "      <td>0.0</td>\n",
       "      <td>0.0</td>\n",
       "      <td>0.0</td>\n",
       "      <td>0.0</td>\n",
       "      <td>...</td>\n",
       "      <td>0.0</td>\n",
       "      <td>0.0</td>\n",
       "      <td>0.0</td>\n",
       "      <td>0.0</td>\n",
       "      <td>0.0</td>\n",
       "      <td>0.0</td>\n",
       "      <td>0.0</td>\n",
       "      <td>0.0</td>\n",
       "      <td>0.0</td>\n",
       "      <td>0.0</td>\n",
       "    </tr>\n",
       "    <tr>\n",
       "      <th>80MA</th>\n",
       "      <td>0.0</td>\n",
       "      <td>0.0</td>\n",
       "      <td>0.0</td>\n",
       "      <td>0.0</td>\n",
       "      <td>0.0</td>\n",
       "      <td>0.0</td>\n",
       "      <td>0.0</td>\n",
       "      <td>0.0</td>\n",
       "      <td>0.0</td>\n",
       "      <td>0.0</td>\n",
       "      <td>...</td>\n",
       "      <td>0.0</td>\n",
       "      <td>0.0</td>\n",
       "      <td>0.0</td>\n",
       "      <td>0.0</td>\n",
       "      <td>0.0</td>\n",
       "      <td>0.0</td>\n",
       "      <td>0.0</td>\n",
       "      <td>0.0</td>\n",
       "      <td>0.0</td>\n",
       "      <td>0.0</td>\n",
       "    </tr>\n",
       "  </tbody>\n",
       "</table>\n",
       "<p>5 rows × 3214 columns</p>\n",
       "</div>"
      ],
      "text/plain": [
       "      001A  001B  001M  001S  001V  002A  002B  002M  002S  002V  ...  73AS  \\\n",
       "44AL   0.0   0.0   0.0   0.0   0.0   0.0   0.0   0.0   0.0   0.0  ...   0.0   \n",
       "45AL   0.0   0.0   0.0   0.0   0.0   0.0   0.0   0.0   0.0   0.0  ...   0.0   \n",
       "53MA   0.0   0.0   0.0   0.0   0.0   0.0   0.0   0.0   0.0   0.0  ...   0.0   \n",
       "79MA   0.0   0.0   0.0   0.0   0.0   0.0   0.0   0.0   0.0   0.0  ...   0.0   \n",
       "80MA   0.0   0.0   0.0   0.0   0.0   0.0   0.0   0.0   0.0   0.0  ...   0.0   \n",
       "\n",
       "      40TF  57TF  58TF  43AL  44AL  45AL  53MA  79MA  80MA  \n",
       "44AL   0.0   0.0   0.0   0.0   0.0   0.0   0.0   0.0   0.0  \n",
       "45AL   0.0   0.0   0.0   0.0   0.0   0.0   0.0   0.0   0.0  \n",
       "53MA   0.0   0.0   0.0   0.0   0.0   0.0   0.0   0.0   0.0  \n",
       "79MA   0.0   0.0   0.0   0.0   0.0   0.0   0.0   0.0   0.0  \n",
       "80MA   0.0   0.0   0.0   0.0   0.0   0.0   0.0   0.0   0.0  \n",
       "\n",
       "[5 rows x 3214 columns]"
      ]
     },
     "execution_count": 70,
     "metadata": {},
     "output_type": "execute_result"
    }
   ],
   "source": [
    "results_df.tail()"
   ]
  },
  {
   "cell_type": "code",
   "execution_count": 71,
   "metadata": {
    "scrolled": true
   },
   "outputs": [
    {
     "data": {
      "text/plain": [
       "001A      0.000000\n",
       "001B    115.085989\n",
       "001M      0.000000\n",
       "001S      0.000000\n",
       "001V      0.000000\n",
       "           ...    \n",
       "44AL      0.000000\n",
       "45AL      0.000000\n",
       "53MA      0.000000\n",
       "79MA     12.536984\n",
       "80MA      0.000000\n",
       "Length: 3214, dtype: float64"
      ]
     },
     "execution_count": 71,
     "metadata": {},
     "output_type": "execute_result"
    }
   ],
   "source": [
    "total_sum_by_ma = results_df.sum(axis=1)\n",
    "total_sum_by_ma"
   ]
  },
  {
   "cell_type": "code",
   "execution_count": 72,
   "metadata": {},
   "outputs": [],
   "source": [
    "avg_by_ma= (total_sum_by_ma /od['total']).fillna(0)"
   ]
  },
  {
   "cell_type": "code",
   "execution_count": 73,
   "metadata": {},
   "outputs": [],
   "source": [
    "nozero_avg= avg_by_ma[avg_by_ma>0]"
   ]
  },
  {
   "cell_type": "code",
   "execution_count": 74,
   "metadata": {},
   "outputs": [],
   "source": [
    "avg_dist = sum(nozero_avg)/len(nozero_avg)"
   ]
  },
  {
   "cell_type": "code",
   "execution_count": 75,
   "metadata": {},
   "outputs": [],
   "source": [
    "from statistics import median\n",
    "\n",
    "def calculate_avg_distance_trips_fn(od):\n",
    "    od_no_total =od.drop('total',axis=0)\n",
    "    od_no_totals = od_no_total.drop('total', axis=1)\n",
    "    results_df = od_no_totals.mul(ma_distances_df)\n",
    "    total_sum_by_ma = results_df.sum(axis=1)\n",
    "    avg_by_ma= (total_sum_by_ma /od['total']).fillna(0)\n",
    "    nozero_avg= avg_by_ma[avg_by_ma>0]\n",
    "    if len(nozero_avg)>0:\n",
    "        avg_dist = median(nozero_avg)#sum(nozero_avg)/len(nozero_avg)\n",
    "        return avg_dist\n",
    "    else:\n",
    "        return 0"
   ]
  },
  {
   "cell_type": "code",
   "execution_count": 76,
   "metadata": {},
   "outputs": [
    {
     "data": {
      "application/vnd.jupyter.widget-view+json": {
       "model_id": "1fc7ca399e7d4711892e9bdeaa712c63",
       "version_major": 2,
       "version_minor": 0
      },
      "text/plain": [
       "HBox(children=(IntProgress(value=0, max=81), HTML(value='')))"
      ]
     },
     "metadata": {},
     "output_type": "display_data"
    },
    {
     "name": "stdout",
     "output_type": "stream",
     "text": [
      "\n"
     ]
    }
   ],
   "source": [
    "twt_avg_dist= []\n",
    "for date, od in tqdm_notebook(twt_ods.items()): \n",
    "    dist_= calculate_avg_distance_trips_fn(od)\n",
    "    twt_avg_dist.append((date, dist_))"
   ]
  },
  {
   "cell_type": "code",
   "execution_count": 77,
   "metadata": {},
   "outputs": [],
   "source": [
    "twt_avg_dist_df = pd.DataFrame.from_records(twt_avg_dist,columns='date avg_dist'.split())\n",
    "twt_avg_dist_df = twt_avg_dist_df.set_index('date')"
   ]
  },
  {
   "cell_type": "code",
   "execution_count": 78,
   "metadata": {},
   "outputs": [
    {
     "data": {
      "application/vnd.jupyter.widget-view+json": {
       "model_id": "9f819bb243f1429dae4b809226ac3bae",
       "version_major": 2,
       "version_minor": 0
      },
      "text/plain": [
       "HBox(children=(IntProgress(value=0, max=81), HTML(value='')))"
      ]
     },
     "metadata": {},
     "output_type": "display_data"
    },
    {
     "name": "stdout",
     "output_type": "stream",
     "text": [
      "\n"
     ]
    }
   ],
   "source": [
    "ine_avg_dist= []\n",
    "for date, od in tqdm_notebook(ine_ods.items()): \n",
    "    dist_= calculate_avg_distance_trips_fn(od)\n",
    "    ine_avg_dist.append((date, dist_))"
   ]
  },
  {
   "cell_type": "code",
   "execution_count": 79,
   "metadata": {},
   "outputs": [],
   "source": [
    "ine_avg_dist_df = pd.DataFrame.from_records(ine_avg_dist,columns='date avg_dist'.split())\n",
    "ine_avg_dist_df = ine_avg_dist_df.set_index('date')"
   ]
  },
  {
   "cell_type": "code",
   "execution_count": 80,
   "metadata": {},
   "outputs": [],
   "source": [
    "twt_avg_dist_df['ine_avg_dist']= ine_avg_dist_df['avg_dist']"
   ]
  },
  {
   "cell_type": "code",
   "execution_count": 81,
   "metadata": {},
   "outputs": [
    {
     "data": {
      "image/png": "[encoded data removed]",
      "text/plain": [
       "<Figure size 432x288 with 1 Axes>"
      ]
     },
     "metadata": {},
     "output_type": "display_data"
    }
   ],
   "source": [
    "twt_avg_dist_df.plot(grid=True);"
   ]
  },
  {
   "cell_type": "code",
   "execution_count": 82,
   "metadata": {},
   "outputs": [],
   "source": [
    "import scipy.stats as stats"
   ]
  },
  {
   "cell_type": "code",
   "execution_count": 83,
   "metadata": {},
   "outputs": [
    {
     "name": "stdout",
     "output_type": "stream",
     "text": [
      "Scipy computed Pearson r: 0.502449247852305 and p-value: 1.7565729103516587e-06\n"
     ]
    }
   ],
   "source": [
    "r, p = stats.pearsonr(twt_avg_dist_df['avg_dist'], \n",
    "                      twt_avg_dist_df['ine_avg_dist'])\n",
    "print(f\"Scipy computed Pearson r: {r} and p-value: {p}\")"
   ]
  },
  {
   "cell_type": "code",
   "execution_count": 84,
   "metadata": {},
   "outputs": [],
   "source": [
    "from statsmodels.tsa.seasonal import seasonal_decompose"
   ]
  },
  {
   "cell_type": "code",
   "execution_count": 85,
   "metadata": {},
   "outputs": [
    {
     "data": {
      "image/png": "[encoded data removed]",
      "text/plain": [
       "<Figure size 432x288 with 4 Axes>"
      ]
     },
     "metadata": {},
     "output_type": "display_data"
    }
   ],
   "source": [
    "result = seasonal_decompose(twt_avg_dist_df['avg_dist'], model='additive', freq=7);\n",
    "result.plot();"
   ]
  },
  {
   "cell_type": "code",
   "execution_count": 86,
   "metadata": {},
   "outputs": [
    {
     "data": {
      "image/png": "[encoded data removed]",
      "text/plain": [
       "<Figure size 432x288 with 4 Axes>"
      ]
     },
     "metadata": {},
     "output_type": "display_data"
    }
   ],
   "source": [
    "result = seasonal_decompose(twt_avg_dist_df['ine_avg_dist'], model='additive', freq=7);\n",
    "result.plot();"
   ]
  },
  {
   "cell_type": "markdown",
   "metadata": {},
   "source": [
    "### Dask mode (not work)"
   ]
  },
  {
   "cell_type": "code",
   "execution_count": 87,
   "metadata": {},
   "outputs": [],
   "source": [
    "#import dask\n",
    "#from dask.distributed import Client, progress\n",
    "#client = Client(threads_per_worker=4, n_workers=10)\n",
    "#client"
   ]
  },
  {
   "cell_type": "code",
   "execution_count": 88,
   "metadata": {},
   "outputs": [],
   "source": [
    "def extract_distance_quantiles_fn(params_):\n",
    "    \n",
    "    date = params_[0]\n",
    "    od= params_[1]\n",
    "    \n",
    "    dist_quantiles = (date,float('NaN'),float('NaN'),float('NaN'),float('NaN'),float('NaN'))                                  \n",
    "    dist_dates =[]\n",
    "    \n",
    "    ma_ids = od.index.tolist()\n",
    "    ma_ids.remove('total')\n",
    "    for o_ma, d_ma in combinations(ma_ids, r=2):                    \n",
    "        dist = ma_distances_df.loc[o_ma, d_ma]\n",
    "        n_trips = od.loc[o_ma, d_ma]\n",
    "        #print(n_trips)\n",
    "        if n_trips >0:\n",
    "            dist_dates = dist_dates + [i for i in repeat(dist,n_trips)]\n",
    "        n_trips = od.loc[d_ma, o_ma]\n",
    "        if n_trips >0:\n",
    "            dist_dates = dist_dates + [i for i in repeat(dist,n_trips)]\n",
    "        if len(dist_dates)>2:\n",
    "            #print(dist_dates)\n",
    "            dist_quantiles = (date,\n",
    "                              np.percentile(dist_dates,0.10),\n",
    "                              np.percentile(dist_dates,0.25),\n",
    "                              np.percentile(dist_dates,0.50),\n",
    "                              np.percentile(dist_dates,0.75),\n",
    "                              np.percentile(dist_dates,0.90))\n",
    "    \n",
    "    return dist_quantiles"
   ]
  },
  {
   "cell_type": "code",
   "execution_count": 89,
   "metadata": {},
   "outputs": [
    {
     "data": {
      "text/plain": [
       "'\\nlazy_results= []\\nfor date, od in tqdm_notebook(twt_ods.items()):    \\n    lazy_result = dask.delayed(extract_distance_quantiles_fn)((date,od))\\n    lazy_results.append(lazy_result)\\n'"
      ]
     },
     "execution_count": 89,
     "metadata": {},
     "output_type": "execute_result"
    }
   ],
   "source": [
    "\"\"\"\n",
    "lazy_results= []\n",
    "for date, od in tqdm_notebook(twt_ods.items()):    \n",
    "    lazy_result = dask.delayed(extract_distance_quantiles_fn)((date,od))\n",
    "    lazy_results.append(lazy_result)\n",
    "\"\"\""
   ]
  },
  {
   "cell_type": "code",
   "execution_count": 90,
   "metadata": {},
   "outputs": [],
   "source": [
    "#futures = dask.persist(*lazy_results) \n",
    "#client.cluster.scale(10) \n",
    "#dist_quantiles = dask.compute(*futures)\n",
    "#len(dist_quantiles)\n",
    "#dist_quantiles_df = pd.DataFrame.from_records(dist_quantiles, columns='date q1 q2 q3 q4 q5'.split())\n",
    "#dist_quantiles_df.to_csv(os.path.join('data', 'ma_distances_quantiles.csv'))"
   ]
  },
  {
   "cell_type": "code",
   "execution_count": 91,
   "metadata": {},
   "outputs": [],
   "source": [
    "#todo: numero medio de origenes y destino por MA en INE y TWT"
   ]
  }
 ],
 "metadata": {
  "kernelspec": {
   "display_name": "Python 3",
   "language": "python",
   "name": "python3"
  },
  "language_info": {
   "codemirror_mode": {
    "name": "ipython",
    "version": 3
   },
   "file_extension": ".py",
   "mimetype": "text/x-python",
   "name": "python",
   "nbconvert_exporter": "python",
   "pygments_lexer": "ipython3",
   "version": "3.6.5"
  }
 },
 "nbformat": 4,
 "nbformat_minor": 2
}
